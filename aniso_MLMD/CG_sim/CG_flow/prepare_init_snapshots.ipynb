{
 "cells": [
  {
   "cell_type": "markdown",
   "id": "87524b8f-5100-4c58-9929-c89c00a675a9",
   "metadata": {},
   "source": [
    "## Prepare initial snapshots for CG, Rigid and AA"
   ]
  },
  {
   "cell_type": "code",
   "execution_count": 2,
   "id": "d1aa44f2-112a-48f8-8719-027919c26ca4",
   "metadata": {},
   "outputs": [],
   "source": [
    "import gsd.hoomd\n",
    "import numpy as np"
   ]
  },
  {
   "cell_type": "code",
   "execution_count": 4,
   "id": "b9a1d4fa-3bdf-42f1-96b9-3dc1efaddda7",
   "metadata": {},
   "outputs": [],
   "source": [
    "kT_list = [4.0, 7.0]"
   ]
  },
  {
   "cell_type": "markdown",
   "id": "484c0a2f-3494-4df6-8f2f-ac248d26fc90",
   "metadata": {},
   "source": [
    "## Initial Rigid Snapshot kT=4.0"
   ]
  },
  {
   "cell_type": "code",
   "execution_count": 5,
   "id": "c37aaa06-a2a7-4edb-a0e7-b32aa4a38e8b",
   "metadata": {},
   "outputs": [],
   "source": [
    "initial_rigid_snap = gsd.hoomd.open(\"/home/marjanalbooyeh/Aniso_ML_MD_project/Aniso_MLMD/aniso_MLMD/sampling/logs/pps_200/trajectory_4.0.gsd\")[-1]"
   ]
  },
  {
   "cell_type": "code",
   "execution_count": 6,
   "id": "b95b1fbc-9e1b-489f-845e-1400d219f043",
   "metadata": {},
   "outputs": [
    {
     "data": {
      "text/plain": [
       "['rigid', 'ca', 'sh']"
      ]
     },
     "execution_count": 6,
     "metadata": {},
     "output_type": "execute_result"
    }
   ],
   "source": [
    "initial_rigid_snap.particles.types"
   ]
  },
  {
   "cell_type": "code",
   "execution_count": 7,
   "id": "f3f24dee-5ac6-44f5-bfea-1cb5c1f84a60",
   "metadata": {},
   "outputs": [],
   "source": [
    "with gsd.hoomd.open(\"init_rigid_4.0.gsd\", \"w\") as traj:\n",
    "    traj.append(initial_rigid_snap)"
   ]
  },
  {
   "cell_type": "markdown",
   "id": "d3d6fe1a-757b-46f8-9f32-575973548670",
   "metadata": {},
   "source": [
    "## Initial CG snapshot kT=4.0"
   ]
  },
  {
   "cell_type": "code",
   "execution_count": 8,
   "id": "95954fa7-f685-441a-882d-95432264f566",
   "metadata": {},
   "outputs": [],
   "source": [
    "rigid_ids = np.where(initial_rigid_snap.particles.typeid==0)[0]\n",
    "N_beads = rigid_ids.shape[0]\n",
    "cg_snapshpot = gsd.hoomd.Frame()\n",
    "cg_snapshpot.particles.types = [\"A\"]\n",
    "cg_snapshpot.particles.N = N_beads\n",
    "cg_snapshpot.particles.typeid = [0] * N_beads\n",
    "\n",
    "cg_snapshpot.particles.mass = initial_rigid_snap.particles.mass[:N_beads]\n",
    "cg_snapshpot.particles.position = initial_rigid_snap.particles.position[:N_beads]\n",
    "cg_snapshpot.particles.orientation = initial_rigid_snap.particles.orientation[:N_beads]\n",
    "cg_snapshpot.particles.moment_inertia = initial_rigid_snap.particles.moment_inertia[:N_beads]\n",
    "cg_snapshpot.particles.velocity = initial_rigid_snap.particles.velocity[:N_beads]\n",
    "\n",
    "cg_snapshpot.configuration.box = initial_rigid_snap.configuration.box\n",
    "with gsd.hoomd.open(\"init_cg_4.0.gsd\", \"w\") as traj:\n",
    "    traj.append(cg_snapshpot)"
   ]
  },
  {
   "cell_type": "code",
   "execution_count": 10,
   "id": "78aba9b6-fa63-4c23-97a1-68fbf2a79359",
   "metadata": {},
   "outputs": [
    {
     "data": {
      "text/plain": [
       "['A']"
      ]
     },
     "execution_count": 10,
     "metadata": {},
     "output_type": "execute_result"
    }
   ],
   "source": [
    "cg_snapshpot.particles.types"
   ]
  },
  {
   "cell_type": "markdown",
   "id": "406d41f7-a435-47bc-9f59-8527366684ba",
   "metadata": {},
   "source": [
    "## Initial UA snapshot kT=4.0"
   ]
  },
  {
   "cell_type": "code",
   "execution_count": 11,
   "id": "c74dd52d-584e-4f25-bb1f-62d749e79dc6",
   "metadata": {},
   "outputs": [
    {
     "name": "stderr",
     "output_type": "stream",
     "text": [
      "/home/marjanalbooyeh/miniconda3/envs/anisoML/lib/python3.11/site-packages/mdtraj/formats/__init__.py:6: DeprecationWarning: 'xdrlib' is deprecated and slated for removal in Python 3.13\n",
      "  from .xtc import XTCTrajectoryFile\n",
      "/home/marjanalbooyeh/miniconda3/envs/anisoML/lib/python3.11/site-packages/mbuild/recipes/__init__.py:13: DeprecationWarning: SelectableGroups dict interface is deprecated. Use select.\n",
      "  entry_points = metadata.entry_points()[\"mbuild.plugins\"]\n",
      "/home/marjanalbooyeh/Aniso_ML_MD_project/Aniso_MLMD_March2024/flowerMD/flowermd/base/system.py:659: UserWarning: Units for density were not given, assuming units of g/cm**3.\n",
      "  warnings.warn(\n",
      "/home/marjanalbooyeh/miniconda3/envs/anisoML/lib/python3.11/site-packages/gmso/core/atom_type.py:198: UserWarning: Masses are assumed to be in units of g/mol\n",
      "  warnings.warn(UNIT_WARNING_STRING.format(\"Masses\", \"g/mol\"))\n",
      "/home/marjanalbooyeh/miniconda3/envs/anisoML/lib/python3.11/site-packages/gmso/core/atom_type.py:209: UserWarning: Charges are assumed to be in units of elementary charge\n",
      "  warnings.warn(\n",
      "/home/marjanalbooyeh/miniconda3/envs/anisoML/lib/python3.11/site-packages/gmso/core/topology.py:871: UserWarning: An equivalent connection already exists. Providing the existing equivalent Connection.\n",
      "  warnings.warn(\n",
      "/home/marjanalbooyeh/miniconda3/envs/anisoML/lib/python3.11/site-packages/gmso/core/forcefield.py:533: UserWarning: ImproperType between atoms CA, CA, CA and HA is missing from the ForceField.\n",
      "  warnings.warn(msg)\n",
      "/home/marjanalbooyeh/miniconda3/envs/anisoML/lib/python3.11/site-packages/gmso/core/forcefield.py:533: UserWarning: ImproperType between atoms ca, ca, ca and ha is missing from the ForceField.\n",
      "  warnings.warn(msg)\n",
      "/home/marjanalbooyeh/miniconda3/envs/anisoML/lib/python3.11/site-packages/gmso/core/forcefield.py:533: UserWarning: ImproperType between atoms CA, CA, SH and CA is missing from the ForceField.\n",
      "  warnings.warn(msg)\n",
      "/home/marjanalbooyeh/miniconda3/envs/anisoML/lib/python3.11/site-packages/gmso/core/forcefield.py:533: UserWarning: ImproperType between atoms ca, ca, sh and ca is missing from the ForceField.\n",
      "  warnings.warn(msg)\n",
      "/home/marjanalbooyeh/miniconda3/envs/anisoML/lib/python3.11/site-packages/gmso/core/topology.py:818: DeprecationWarning: Conversion of an array with ndim > 0 to a scalar is deprecated, and will error in future. Ensure you extract a single element from your array before performing this operation. (Deprecated NumPy 1.25.)\n",
      "  all_scales[index][scaling_interaction_idxes[interaction]] = value\n",
      "/home/marjanalbooyeh/miniconda3/envs/anisoML/lib/python3.11/site-packages/gmso/core/topology.py:818: DeprecationWarning: Conversion of an array with ndim > 0 to a scalar is deprecated, and will error in future. Ensure you extract a single element from your array before performing this operation. (Deprecated NumPy 1.25.)\n",
      "  all_scales[index][scaling_interaction_idxes[interaction]] = value\n",
      "/home/marjanalbooyeh/miniconda3/envs/anisoML/lib/python3.11/site-packages/gmso/core/atom.py:135: UserWarning: Charges are assumed to be in units of elementary charge\n",
      "  warnings.warn(\n"
     ]
    },
    {
     "name": "stdout",
     "output_type": "stream",
     "text": [
      "No charged group detected, skipping electrostatics.\n"
     ]
    },
    {
     "name": "stderr",
     "output_type": "stream",
     "text": [
      "/home/marjanalbooyeh/miniconda3/envs/anisoML/lib/python3.11/site-packages/gmso/external/convert_hoomd.py:1247: UserWarning: RyckaertBellemansTorsionPotential will be converted to OPLSTorsionPotential.\n",
      "  warnings.warn(\n",
      "/home/marjanalbooyeh/miniconda3/envs/anisoML/lib/python3.11/site-packages/gmso/external/convert_hoomd.py:562: UserWarning: Orthorhombic box detected\n",
      "  warnings.warn(\"Orthorhombic box detected\")\n",
      "/home/marjanalbooyeh/miniconda3/envs/anisoML/lib/python3.11/site-packages/gmso/external/convert_hoomd.py:117: NotYetImplementedWarning: Only writing particle, bond, sangle, proper and improper dihedral information.Special pairs are not currently written to GSD files\n",
      "  warnings.warn(\n",
      "/home/marjanalbooyeh/miniconda3/envs/anisoML/lib/python3.11/site-packages/gmso/external/convert_hoomd.py:274: UserWarning: Shifting coordinates to [-L/2, L/2]\n",
      "  warnings.warn(\"Shifting coordinates to [-L/2, L/2]\")\n",
      "/home/marjanalbooyeh/miniconda3/envs/anisoML/lib/python3.11/site-packages/gmso/external/convert_hoomd.py:378: UserWarning: 1400 bonds detected\n",
      "  warnings.warn(f\"{top.n_bonds} bonds detected\")\n",
      "/home/marjanalbooyeh/miniconda3/envs/anisoML/lib/python3.11/site-packages/gmso/external/convert_hoomd.py:410: UserWarning: 2 unique bond types detected\n",
      "  warnings.warn(f\"{len(unique_bond_types)} unique bond types detected\")\n",
      "/home/marjanalbooyeh/miniconda3/envs/anisoML/lib/python3.11/site-packages/gmso/external/convert_hoomd.py:457: UserWarning: 1600 angles detected\n",
      "  warnings.warn(f\"{top.n_angles} angles detected\")\n",
      "/home/marjanalbooyeh/miniconda3/envs/anisoML/lib/python3.11/site-packages/gmso/external/convert_hoomd.py:458: UserWarning: 2 unique angle types detected\n",
      "  warnings.warn(f\"{len(unique_angle_types)} unique angle types detected\")\n",
      "/home/marjanalbooyeh/miniconda3/envs/anisoML/lib/python3.11/site-packages/gmso/external/convert_hoomd.py:503: UserWarning: 1600 dihedrals detected\n",
      "  warnings.warn(f\"{top.n_dihedrals} dihedrals detected\")\n",
      "/home/marjanalbooyeh/miniconda3/envs/anisoML/lib/python3.11/site-packages/gmso/external/convert_hoomd.py:504: UserWarning: 2 unique dihedral types detected\n",
      "  warnings.warn(\n"
     ]
    }
   ],
   "source": [
    "from flowermd.library import PPS, OPLS_AA_PPS\n",
    "from flowermd.base import Pack\n",
    "pps = PPS(num_mols=N_beads, lengths=1)\n",
    "system = Pack(molecules=pps, density=0.9, packing_expand_factor=7)\n",
    "system.apply_forcefield(r_cut=2.5, force_field=OPLS_AA_PPS(), auto_scale=True,\n",
    "                        remove_charges=True, scale_charges=True,\n",
    "                        remove_hydrogens=True)"
   ]
  },
  {
   "cell_type": "code",
   "execution_count": 12,
   "id": "11975ccd-aedb-4bda-9c45-cbabcd8c582b",
   "metadata": {},
   "outputs": [],
   "source": [
    "ua_snapshot = system.hoomd_snapshot"
   ]
  },
  {
   "cell_type": "code",
   "execution_count": 14,
   "id": "ada509ae-f019-4bd3-b7e3-2ced2d1f160f",
   "metadata": {},
   "outputs": [
    {
     "data": {
      "text/plain": [
       "array([66.86016111, 66.86016111, 66.86016111,  0.        ,  0.        ,\n",
       "        0.        ])"
      ]
     },
     "execution_count": 14,
     "metadata": {},
     "output_type": "execute_result"
    }
   ],
   "source": [
    "ua_snapshot.configuration.box"
   ]
  },
  {
   "cell_type": "code",
   "execution_count": 15,
   "id": "dba88beb-0425-426d-a0ba-4e5ff9863390",
   "metadata": {},
   "outputs": [],
   "source": [
    "ua_snapshot.particles.position = initial_rigid_snap.particles.position[N_beads:]\n",
    "ua_snapshot.particles.velocity = initial_rigid_snap.particles.velocity[N_beads:]\n",
    "ua_snapshot.particles.orientation = initial_rigid_snap.particles.orientation[N_beads:]\n",
    "ua_snapshot.configuration.box = initial_rigid_snap.configuration.box"
   ]
  },
  {
   "cell_type": "code",
   "execution_count": 16,
   "id": "da538cd5-24b4-4bfd-9cc5-caa0ada30949",
   "metadata": {},
   "outputs": [
    {
     "data": {
      "text/plain": [
       "array([9.551452, 9.551452, 9.551452, 0.      , 0.      , 0.      ],\n",
       "      dtype=float32)"
      ]
     },
     "execution_count": 16,
     "metadata": {},
     "output_type": "execute_result"
    }
   ],
   "source": [
    "ua_snapshot.configuration.box"
   ]
  },
  {
   "cell_type": "code",
   "execution_count": 17,
   "id": "bdf6036e-285a-48ab-aa3b-5849c7ba1770",
   "metadata": {},
   "outputs": [
    {
     "data": {
      "text/plain": [
       "['ca', 'sh']"
      ]
     },
     "execution_count": 17,
     "metadata": {},
     "output_type": "execute_result"
    }
   ],
   "source": [
    "ua_snapshot.particles.types"
   ]
  },
  {
   "cell_type": "code",
   "execution_count": 18,
   "id": "dbf95281-ff82-45eb-9070-591a2aca84f7",
   "metadata": {},
   "outputs": [],
   "source": [
    "with gsd.hoomd.open(\"init_UA_4.0.gsd\", \"w\") as traj:\n",
    "    traj.append(ua_snapshot)"
   ]
  },
  {
   "cell_type": "code",
   "execution_count": 19,
   "id": "4a8c97fb-0df0-4f0b-ad51-b12c489fa161",
   "metadata": {},
   "outputs": [],
   "source": [
    "pps_ff = system.hoomd_forcefield\n",
    "system.pickle_forcefield(\"pps_ff.pkl\")"
   ]
  },
  {
   "cell_type": "markdown",
   "id": "a84ed83f-775a-4248-abc5-19e1c59607e3",
   "metadata": {},
   "source": [
    "## Information"
   ]
  },
  {
   "cell_type": "code",
   "execution_count": 28,
   "id": "fdfa40ba-1a58-45d0-bc16-48f6e6e5885a",
   "metadata": {},
   "outputs": [
    {
     "data": {
      "text/plain": [
       "array([[ 0.04237747, -0.02183342, -0.64930916],\n",
       "       [ 0.07262421, -0.34874725, -0.44158173],\n",
       "       [ 0.04734802, -0.33596802, -0.05404472],\n",
       "       [-0.00818253,  0.00425148,  0.12626076],\n",
       "       [-0.04059601,  0.02091789,  0.62210274],\n",
       "       [-0.03852081,  0.33138275, -0.08208847],\n",
       "       [-0.01317978,  0.3181038 , -0.4696045 ]], dtype=float32)"
      ]
     },
     "execution_count": 28,
     "metadata": {},
     "output_type": "execute_result"
    }
   ],
   "source": [
    "aa_frame = gsd.hoomd.open(\"/home/marjanalbooyeh/Aniso_ML_MD_project/Aniso_MLMD/aniso_MLMD/sampling/assets/pps_aa_N200.gsd\")[0]\n",
    "positions = aa_frame.particles.position\n",
    "# indices of constituent particles\n",
    "constituent_indx = [np.arange(7) + (i*7) for i in range(N_beads) ]\n",
    "\n",
    "\n",
    "com_mass = []\n",
    "com_positions = []\n",
    "\n",
    "for indx in constituent_indx:\n",
    "    total_mass = np.sum(aa_frame.particles.mass[indx])\n",
    "    com_mass.append(total_mass)\n",
    "    com_positions.append(\n",
    "                np.sum(\n",
    "                    aa_frame.particles.position[indx]\n",
    "                    * aa_frame.particles.mass[indx, np.newaxis],\n",
    "                    axis=0,\n",
    "                )\n",
    "                / total_mass\n",
    "            )\n",
    "\n",
    "\n",
    "rel_const_pos =  positions[constituent_indx[0]] - com_positions[0]\n",
    "rel_const_pos"
   ]
  },
  {
   "cell_type": "code",
   "execution_count": 29,
   "id": "80c83d12-5d0f-4749-9eaa-73af4ef1d7a9",
   "metadata": {},
   "outputs": [],
   "source": [
    "const_particle_types = list(np.asarray(aa_frame.particles.types)[list(aa_frame.particles.typeid)][constituent_indx[0]])"
   ]
  },
  {
   "cell_type": "code",
   "execution_count": 30,
   "id": "110f3bfe-eaaa-47e5-bce4-99201ff99d83",
   "metadata": {},
   "outputs": [
    {
     "data": {
      "text/plain": [
       "['ca', 'ca', 'ca', 'ca', 'sh', 'ca', 'ca']"
      ]
     },
     "execution_count": 30,
     "metadata": {},
     "output_type": "execute_result"
    }
   ],
   "source": [
    "const_particle_types"
   ]
  },
  {
   "cell_type": "code",
   "execution_count": 31,
   "id": "d1a2a195-ea8e-46be-8868-cffe3a2c0ef6",
   "metadata": {},
   "outputs": [],
   "source": [
    "np.save(\"rel_const_pos.npy\", rel_const_pos)"
   ]
  },
  {
   "cell_type": "code",
   "execution_count": 34,
   "id": "260e91d8-35b1-4271-9327-abef0dc546dd",
   "metadata": {},
   "outputs": [],
   "source": [
    "import pickle\n",
    "with open(\"assets/pps_ff.pkl\", \"rb\") as f:\n",
    "    ff = pickle.load(f)\n",
    "\n"
   ]
  },
  {
   "cell_type": "code",
   "execution_count": 36,
   "id": "d26c0e43-dd03-418e-a441-5feee6df5b2e",
   "metadata": {},
   "outputs": [
    {
     "data": {
      "text/plain": [
       "<gsd.hoomd.Frame at 0x7f0622c64710>"
      ]
     },
     "execution_count": 36,
     "metadata": {},
     "output_type": "execute_result"
    }
   ],
   "source": [
    "gsd.hoomd.open(\"assets/init_UA_4.0.gsd\")[0]"
   ]
  },
  {
   "cell_type": "code",
   "execution_count": null,
   "id": "b8e99671-2da8-4c45-8bdc-6559952ed631",
   "metadata": {},
   "outputs": [],
   "source": []
  }
 ],
 "metadata": {
  "kernelspec": {
   "display_name": "Python 3 (ipykernel)",
   "language": "python",
   "name": "python3"
  },
  "language_info": {
   "codemirror_mode": {
    "name": "ipython",
    "version": 3
   },
   "file_extension": ".py",
   "mimetype": "text/x-python",
   "name": "python",
   "nbconvert_exporter": "python",
   "pygments_lexer": "ipython3",
   "version": "3.11.7"
  }
 },
 "nbformat": 4,
 "nbformat_minor": 5
}
