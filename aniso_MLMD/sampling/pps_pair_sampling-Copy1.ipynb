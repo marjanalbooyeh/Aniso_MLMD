{
 "cells": [
  {
   "cell_type": "code",
   "execution_count": 1,
   "id": "initial_id",
   "metadata": {
    "ExecuteTime": {
     "end_time": "2024-01-26T19:37:38.851909432Z",
     "start_time": "2024-01-26T19:37:38.794401697Z"
    }
   },
   "outputs": [],
   "source": [
    "import hoomd\n",
    "import pickle\n",
    "import gsd.hoomd\n",
    "import numpy as np\n",
    "import pandas as pd\n",
    "import os\n",
    "import rowan\n",
    "import warnings\n",
    "warnings.filterwarnings('ignore')"
   ]
  },
  {
   "cell_type": "markdown",
   "id": "4bce56a1-255d-47ac-8e44-8e4af89a5aa5",
   "metadata": {},
   "source": [
    "## Create pps atomistic simulation to collect positions of constituent particles and COM"
   ]
  },
  {
   "cell_type": "code",
   "execution_count": 2,
   "id": "0b58f989-7b74-40ce-924d-d413b866b652",
   "metadata": {},
   "outputs": [
    {
     "name": "stderr",
     "output_type": "stream",
     "text": [
      "/home/marjan/anaconda3/envs/flowermd/lib/python3.11/site-packages/mdtraj/formats/__init__.py:6: DeprecationWarning: 'xdrlib' is deprecated and slated for removal in Python 3.13\n",
      "  from .xtc import XTCTrajectoryFile\n",
      "/home/marjan/anaconda3/envs/flowermd/lib/python3.11/site-packages/mbuild/recipes/__init__.py:13: DeprecationWarning: SelectableGroups dict interface is deprecated. Use select.\n",
      "  entry_points = metadata.entry_points()[\"mbuild.plugins\"]\n"
     ]
    }
   ],
   "source": [
    "from flowermd.library import PPS, OPLS_AA_PPS\n",
    "from flowermd.base import Pack,  Simulation"
   ]
  },
  {
   "cell_type": "code",
   "execution_count": 3,
   "id": "03140da7-9b2c-4473-9a43-5449adbb413a",
   "metadata": {},
   "outputs": [
    {
     "name": "stdout",
     "output_type": "stream",
     "text": [
      "No charged group detected, skipping electrostatics.\n",
      "Initializing simulation state from a gsd.hoomd.Frame.\n"
     ]
    },
    {
     "name": "stderr",
     "output_type": "stream",
     "text": [
      "/home/marjan/anaconda3/envs/flowermd/lib/python3.11/site-packages/gmso/core/topology.py:818: DeprecationWarning: Conversion of an array with ndim > 0 to a scalar is deprecated, and will error in future. Ensure you extract a single element from your array before performing this operation. (Deprecated NumPy 1.25.)\n",
      "  all_scales[index][scaling_interaction_idxes[interaction]] = value\n",
      "/home/marjan/anaconda3/envs/flowermd/lib/python3.11/site-packages/gmso/core/topology.py:818: DeprecationWarning: Conversion of an array with ndim > 0 to a scalar is deprecated, and will error in future. Ensure you extract a single element from your array before performing this operation. (Deprecated NumPy 1.25.)\n",
      "  all_scales[index][scaling_interaction_idxes[interaction]] = value\n"
     ]
    }
   ],
   "source": [
    "pps = PPS(num_mols=2, lengths=1)\n",
    "system = Pack(molecules=pps, density=0.2)\n",
    "system.apply_forcefield(r_cut=2.5, force_field=OPLS_AA_PPS(), auto_scale=True, remove_charges=True, scale_charges=True, remove_hydrogens=True)\n",
    "pps_aa_simulation = Simulation.from_system(system)"
   ]
  },
  {
   "cell_type": "code",
   "execution_count": 4,
   "id": "fe5f56e3-d338-4afd-b0c1-9b57968293ed",
   "metadata": {},
   "outputs": [],
   "source": [
    "frame = pps_aa_simulation.state.get_snapshot()\n",
    "positions = frame.particles.position\n",
    "# indices of constituent particles\n",
    "constituent_indx = [[0, 1, 2, 3, 4, 5, 6], [7, 8, 9, 10, 11, 12, 13]]"
   ]
  },
  {
   "cell_type": "code",
   "execution_count": 5,
   "id": "7cdb3e41-b7ba-4b60-8494-7e90ee05afad",
   "metadata": {},
   "outputs": [],
   "source": [
    "\n",
    "com_mass = []\n",
    "com_positions = []\n",
    "\n",
    "for indx in constituent_indx:\n",
    "    total_mass = np.sum(frame.particles.mass[indx])\n",
    "    com_mass.append(total_mass)\n",
    "    com_positions.append(\n",
    "                np.sum(\n",
    "                    frame.particles.position[indx]\n",
    "                    * frame.particles.mass[indx, np.newaxis],\n",
    "                    axis=0,\n",
    "                )\n",
    "                / total_mass\n",
    "            )"
   ]
  },
  {
   "cell_type": "code",
   "execution_count": 6,
   "id": "fce9f65f-6b4d-42da-87f0-3a396abc049d",
   "metadata": {},
   "outputs": [
    {
     "data": {
      "text/plain": [
       "array([[ 0.08849504,  0.07669724,  0.64043651],\n",
       "       [-0.02556489, -0.26707529,  0.49990807],\n",
       "       [-0.07843468, -0.31309532,  0.11771188],\n",
       "       [-0.01726601, -0.01489721, -0.12452878],\n",
       "       [-0.08479617, -0.07348143, -0.61360397],\n",
       "       [ 0.09703805,  0.32916023,  0.01655017],\n",
       "       [ 0.14977624,  0.3746983 ,  0.39882241]])"
      ]
     },
     "execution_count": 6,
     "metadata": {},
     "output_type": "execute_result"
    }
   ],
   "source": [
    "rel_const_pos =  positions[constituent_indx[0]] - com_positions[0]\n",
    "rel_const_pos"
   ]
  },
  {
   "cell_type": "markdown",
   "id": "f8ac1e61-3020-4958-88ba-03a45f64f597",
   "metadata": {},
   "source": [
    "## Create rigid body simulation"
   ]
  },
  {
   "cell_type": "code",
   "execution_count": 7,
   "id": "43d25618-f3bc-4799-a6bf-87e07b56df1e",
   "metadata": {},
   "outputs": [],
   "source": [
    "def create_rigid_simulation(kT):\n",
    "    rigid_simulation = hoomd.Simulation(device=hoomd.device.auto_select(), seed=1)\n",
    "    rigid_simulation.create_state_from_gsd(filename='assets/pps_rigid_initial_run.gsd')\n",
    "    const_particle_types = list(np.asarray(frame.particles.types)[list(frame.particles.typeid)][constituent_indx[0]])\n",
    "\n",
    "    rigid = hoomd.md.constrain.Rigid()\n",
    "    rigid.body['rigid'] = {\n",
    "        \"constituent_types\":const_particle_types,\n",
    "        \"positions\": rel_const_pos,\n",
    "        \"orientations\": [(1.0, 0.0, 0.0, 0.0)]* len(rel_const_pos),\n",
    "        }\n",
    "    integrator = hoomd.md.Integrator(dt=0.005, integrate_rotational_dof=True)\n",
    "    rigid_simulation.operations.integrator = integrator\n",
    "    integrator.rigid = rigid\n",
    "    rigid_centers_and_free = hoomd.filter.Rigid((\"center\", \"free\"))\n",
    "    nvt = hoomd.md.methods.ConstantVolume(\n",
    "        filter=rigid_centers_and_free,\n",
    "        thermostat=hoomd.md.methods.thermostats.Bussi(kT=kT))\n",
    "    integrator.methods.append(nvt)\n",
    "    \n",
    "    cell = hoomd.md.nlist.Cell(buffer=0, exclusions=['body'])\n",
    "    \n",
    "    lj = hoomd.md.pair.LJ(nlist=cell)\n",
    "    \n",
    "    # use aa pps simulation to define lj and special lj forces between constituent particles\n",
    "    for k, v in dict(pps_aa_simulation.forces[0].params).items():\n",
    "        lj.params[k] = v\n",
    "        lj.r_cut[k] = 2.5\n",
    "    \n",
    "    lj.params[('rigid', ['rigid', 'ca', 'sh'])]= dict(epsilon=0, sigma=0)\n",
    "    lj.r_cut[('rigid', ['rigid', 'ca', 'sh'])] = 0\n",
    "\n",
    "    integrator.forces.append(lj)\n",
    "    rigid_simulation.state.thermalize_particle_momenta(filter=rigid_centers_and_free,\n",
    "                                             kT=kT)\n",
    "    \n",
    "    rigid_simulation.run(0)\n",
    "\n",
    "    log_quantities = [\n",
    "                        \"kinetic_temperature\",\n",
    "                        \"potential_energy\",\n",
    "                        \"kinetic_energy\",\n",
    "                        \"volume\",\n",
    "                        \"pressure\",\n",
    "                        \"pressure_tensor\",\n",
    "                    ]\n",
    "    logger = hoomd.logging.Logger(categories=[\"scalar\", \"string\", \"particle\"])\n",
    "    logger.add(rigid_simulation, quantities=[\"timestep\", \"tps\"])\n",
    "    thermo_props = hoomd.md.compute.ThermodynamicQuantities(filter=hoomd.filter.All())\n",
    "    rigid_simulation.operations.computes.append(thermo_props)\n",
    "    logger.add(thermo_props, quantities=log_quantities)\n",
    "    \n",
    "    # for f in integrator.forces:\n",
    "    #     logger.add(f, quantities=[\"energy\", \"forces\", \"energies\"])\n",
    "\n",
    "    logger.add(rigid_simulation.operations.integrator.rigid, quantities=[\"torques\", \"forces\", \"energies\"])\n",
    "    \n",
    "    gsd_writer = hoomd.write.GSD(\n",
    "        filename=\"logs/pps_pair_2/trajectory_{}.gsd\".format(kT),\n",
    "        trigger=hoomd.trigger.Periodic(int(1)),\n",
    "        mode=\"wb\",\n",
    "        logger=logger,\n",
    "        filter=hoomd.filter.All(),\n",
    "        dynamic=[\"momentum\", \"property\"]\n",
    "        )\n",
    "    \n",
    "    rigid_simulation.operations.writers.append(gsd_writer)\n",
    "    return rigid_simulation\n",
    "\n",
    "    \n"
   ]
  },
  {
   "cell_type": "code",
   "execution_count": 8,
   "id": "b8f5c658-2d25-4075-91c6-224a4806a4a7",
   "metadata": {},
   "outputs": [],
   "source": [
    "kT_list = [1.]\n",
    "for kT in kT_list:\n",
    "    rigid_simulation = create_rigid_simulation(kT)\n",
    "    rigid_simulation.run(1000)\n",
    "    rigid_simulation.operations.writers[0].flush()"
   ]
  },
  {
   "cell_type": "code",
   "execution_count": 19,
   "id": "bf4ccf55-1763-4bb7-addd-159c5b537387",
   "metadata": {},
   "outputs": [
    {
     "name": "stdout",
     "output_type": "stream",
     "text": [
      "HOOMDArray([8 9])\n"
     ]
    }
   ],
   "source": [
    "with rigid_simulation.operations.integrator.forces[0].nlist.cpu_local_nlist_arrays as arrays:\n",
    "     i =0\n",
    "     print(arrays.nlist[arrays.head_list[i]:arrays.head_list[i]+arrays.n_neigh[i]])\n",
    "     # nlist_iter = list(zip(arrays.head_list, arrays.n_neigh))\n",
    "     # for i in arrays.head_list:\n",
    "     #    pr"
   ]
  },
  {
   "cell_type": "code",
   "execution_count": 17,
   "id": "50ff5972-3b96-4f2e-bde8-af9069eec67a",
   "metadata": {},
   "outputs": [
    {
     "name": "stdout",
     "output_type": "stream",
     "text": [
      "HOOMDArray([ 3 13  6  7  2  1  0  4  5  8  9 10 14 15 12 11])\n"
     ]
    }
   ],
   "source": [
    "with rigid_simulation._state.cpu_local_snapshot as snap:\n",
    "    print(snap.particles.rtag)"
   ]
  },
  {
   "cell_type": "code",
   "execution_count": 20,
   "id": "3068077e-cc1c-4d62-acf6-03f41c916124",
   "metadata": {},
   "outputs": [
    {
     "data": {
      "text/plain": [
       "array([0, 0, 1, 1, 1, 1, 2, 1, 1, 1, 1, 1, 1, 2, 1, 1], dtype=uint32)"
      ]
     },
     "execution_count": 20,
     "metadata": {},
     "output_type": "execute_result"
    }
   ],
   "source": [
    "rigid_simulation.state.get_snapshot().particles.typeid"
   ]
  },
  {
   "cell_type": "markdown",
   "id": "fd615f37-e1b0-4b25-bf41-85a47e9b7880",
   "metadata": {},
   "source": [
    "## filter data from r > 3.5"
   ]
  },
  {
   "cell_type": "code",
   "execution_count": 39,
   "id": "007d3b8b-e07f-4bc2-8a15-07166a579dea",
   "metadata": {
    "ExecuteTime": {
     "end_time": "2024-01-26T19:31:57.768815539Z",
     "start_time": "2024-01-26T19:31:56.993704755Z"
    }
   },
   "outputs": [],
   "source": [
    "import gsd.hoomd\n",
    "import numpy as np\n",
    "kT_list = [1., 1.5, 2., 3., 6.0]\n",
    "positions = []\n",
    "orientations = []\n",
    "forces = []\n",
    "torques = []\n",
    "energies = []\n",
    "for kT in kT_list:\n",
    "    traj = gsd.hoomd.open(\"logs/pps_pair/trajectory_{}.gsd\".format(kT))\n",
    "    for frame in traj:\n",
    "        positions.append(frame.particles.position[:2])\n",
    "        orientations.append(frame.particles.orientation[:2])\n",
    "        forces.append(frame.log['particles/md/constrain/Rigid/forces'][:2])\n",
    "        torques.append(frame.log['particles/md/constrain/Rigid/torques'][:2])\n",
    "        energies.append(frame.log['particles/md/constrain/Rigid/energies'][:2])\n",
    "        "
   ]
  },
  {
   "cell_type": "code",
   "execution_count": 40,
   "id": "cbcdda663d5eb3d9",
   "metadata": {
    "ExecuteTime": {
     "end_time": "2024-01-26T19:31:59.341758611Z",
     "start_time": "2024-01-26T19:31:59.335645009Z"
    },
    "collapsed": false,
    "jupyter": {
     "outputs_hidden": false
    }
   },
   "outputs": [
    {
     "data": {
      "text/plain": [
       "16.986748"
      ]
     },
     "execution_count": 40,
     "metadata": {},
     "output_type": "execute_result"
    }
   ],
   "source": [
    "L= frame.configuration.box[0]\n",
    "L"
   ]
  },
  {
   "cell_type": "code",
   "execution_count": 41,
   "id": "8190915f-dbeb-44b1-991e-57aafce64ef1",
   "metadata": {
    "ExecuteTime": {
     "end_time": "2024-01-26T19:32:09.321604771Z",
     "start_time": "2024-01-26T19:32:09.310490622Z"
    }
   },
   "outputs": [
    {
     "name": "stdout",
     "output_type": "stream",
     "text": [
      "16.98674774169922\n"
     ]
    }
   ],
   "source": [
    "print(rigid_simulation.state.get_snapshot().configuration.box[0])\n",
    "def adjust_periodic_boundary(pos, box_len):\n",
    "    adjusted_pos = []\n",
    "    for x in pos:\n",
    "        if x > (box_len/2):\n",
    "            adjusted_pos.append(x - box_len/2)\n",
    "        elif x < (-box_len/2):\n",
    "            adjusted_pos.append(x + box_len/2)\n",
    "        else:\n",
    "            adjusted_pos.append(x)\n",
    "    return np.asarray(adjusted_pos)"
   ]
  },
  {
   "cell_type": "code",
   "execution_count": 42,
   "id": "9c3c96a5-4001-4eb7-a238-c7ce9b0d4da6",
   "metadata": {
    "ExecuteTime": {
     "end_time": "2024-01-26T19:32:10.861852742Z",
     "start_time": "2024-01-26T19:32:10.854302992Z"
    }
   },
   "outputs": [],
   "source": [
    "keep_idx = []\n",
    "for idx, pos_pair in enumerate(positions):\n",
    "    dr = pos_pair[0] - pos_pair[1]\n",
    "    dr_adjusted = adjust_periodic_boundary(dr, L)\n",
    "    r = np.linalg.norm(dr_adjusted)\n",
    "    if r <=2.5:\n",
    "        keep_idx.append(idx)"
   ]
  },
  {
   "cell_type": "code",
   "execution_count": 43,
   "id": "5c569fa2-b64f-4854-ae1e-0e052fd3231f",
   "metadata": {
    "ExecuteTime": {
     "end_time": "2024-01-26T19:31:44.317897922Z",
     "start_time": "2024-01-26T19:31:44.293884949Z"
    }
   },
   "outputs": [],
   "source": [
    "keep_positions = np.asarray(positions)[keep_idx]\n",
    "keep_orientations = np.asarray(orientations)[keep_idx]\n",
    "keep_forces = np.asarray(forces)[keep_idx]\n",
    "keep_torques = np.asarray(torques)[keep_idx]\n",
    "keep_energies = np.asarray(energies)[keep_idx]"
   ]
  },
  {
   "cell_type": "code",
   "execution_count": 44,
   "id": "4dc80836-69ee-435e-856a-3ef1b3ef5089",
   "metadata": {
    "ExecuteTime": {
     "end_time": "2024-01-26T19:32:26.198193840Z",
     "start_time": "2024-01-26T19:32:26.187138882Z"
    }
   },
   "outputs": [
    {
     "data": {
      "text/plain": [
       "1952"
      ]
     },
     "execution_count": 44,
     "metadata": {},
     "output_type": "execute_result"
    }
   ],
   "source": [
    "len(keep_idx)"
   ]
  },
  {
   "cell_type": "markdown",
   "id": "8fb7219f-3331-427b-93d3-2e8e51acdba5",
   "metadata": {},
   "source": [
    "## create the dataset"
   ]
  },
  {
   "cell_type": "code",
   "execution_count": 83,
   "id": "b32cec12-a6fb-42c4-9af7-320ee2aac280",
   "metadata": {},
   "outputs": [],
   "source": [
    "# this is the old way where we separarted each particte into a separate row\n",
    "\n",
    "# particle_pos = []\n",
    "# neighbor_pos = []\n",
    "# particle_orient_q = []\n",
    "# neighbor_orient_q = []\n",
    "# particle_orient_R = []\n",
    "# neighbor_orient_R = []\n",
    "# particle_force = []\n",
    "# particle_torque = []\n",
    "# particle_energy = []\n",
    "# for pos, orient, force, torque, energy in zip(keep_positions, keep_orientations, keep_forces,keep_torques, keep_energies):\n",
    "#     particle_pos.extend([pos[0], pos[1]])\n",
    "#     neighbor_pos.extend([pos[1], pos[0]])\n",
    "# \n",
    "#     particle_orient_q.extend([orient[0], orient[1]])\n",
    "#     neighbor_orient_q.extend([orient[1], orient[0]])\n",
    "# \n",
    "#     particle_orient_R.extend([rowan.to_matrix(orient[0]), rowan.to_matrix(orient[1])])\n",
    "#     neighbor_orient_R.extend([rowan.to_matrix(orient[1]), rowan.to_matrix(orient[0])])\n",
    "# \n",
    "#     particle_force.extend([force[0], force[1]])\n",
    "#     particle_torque.extend([torque[0], torque[1]])\n",
    "#     particle_energy.extend([energy[0], energy[1]])"
   ]
  },
  {
   "cell_type": "code",
   "execution_count": 88,
   "id": "aaecac98-d8be-4421-b5dc-036a47cd5aec",
   "metadata": {},
   "outputs": [],
   "source": [
    "# This is the old way where we store each particle's data in a separate row\n",
    "# columns = [\n",
    "#     \"particle_pos\",\n",
    "#     \"neighbor_pos\",\n",
    "#     \"particle_orient_q\",\n",
    "#     \"neighbor_orient_q\", \n",
    "#     \"particle_orient_R\",\n",
    "#     \"neighbor_orient_R\",\n",
    "#     \"force\",\n",
    "#     \"torque\",\n",
    "#     \"energy\"\n",
    "# ]\n",
    "# \n",
    "# new_traj_df = pd.DataFrame(columns=columns)\n",
    "# new_traj_df[\"particle_pos\"] = particle_pos\n",
    "# new_traj_df[\"neighbor_pos\"] = neighbor_pos\n",
    "# new_traj_df[\"particle_orient_q\"] = particle_orient_q\n",
    "# new_traj_df[\"neighbor_orient_q\"] = neighbor_orient_q\n",
    "# new_traj_df[\"particle_orient_R\"] = particle_orient_R\n",
    "# new_traj_df[\"neighbor_orient_R\"] = neighbor_orient_R\n",
    "# new_traj_df[\"force\"] = particle_force\n",
    "# new_traj_df[\"torque\"] = particle_torque\n",
    "# new_traj_df[\"energy\"] = particle_energy\n",
    "\n",
    "\n",
    "# new_traj_df = new_traj_df.sample(frac=1).reset_index(drop=True)# shuffle dataset"
   ]
  },
  {
   "cell_type": "markdown",
   "id": "c76729e21a309c74",
   "metadata": {
    "collapsed": false,
    "jupyter": {
     "outputs_hidden": false
    }
   },
   "source": [
    "## Create the dataset (New version)\n",
    "\n",
    "In this version, we store the data off all particles in a box at once, meaning that each row of the dataset contains the data of all particles in the box.\n"
   ]
  },
  {
   "cell_type": "code",
   "execution_count": 45,
   "id": "0afce114-9329-4404-8dfd-735c58746a0b",
   "metadata": {},
   "outputs": [],
   "source": [
    "orientations_R = rowan.to_matrix(keep_orientations)"
   ]
  },
  {
   "cell_type": "code",
   "execution_count": 46,
   "id": "21d0f6608c6238d6",
   "metadata": {
    "collapsed": false,
    "jupyter": {
     "outputs_hidden": false
    }
   },
   "outputs": [],
   "source": [
    "columns = [\n",
    "    \"position\",\n",
    "    \"orientation_q\",\n",
    "    \"orientation_R\", \n",
    "    \"force\",\n",
    "    \"torque\",\n",
    "    \"energy\"\n",
    "]\n",
    "\n",
    "new_traj_df = pd.DataFrame(columns=columns)\n",
    "new_traj_df[\"position\"] =keep_positions.tolist()\n",
    "new_traj_df[\"orientation_q\"] = keep_orientations.tolist()\n",
    "new_traj_df[\"orientation_R\"] = orientations_R.tolist()\n",
    "new_traj_df[\"force\"] = keep_forces.tolist()\n",
    "new_traj_df[\"torque\"] = keep_torques.tolist()\n",
    "new_traj_df[\"energy\"] = keep_energies.tolist()"
   ]
  },
  {
   "cell_type": "code",
   "execution_count": 47,
   "id": "4a983a45-dd39-44ae-8f59-98a84023c528",
   "metadata": {},
   "outputs": [
    {
     "data": {
      "text/html": [
       "<div>\n",
       "<style scoped>\n",
       "    .dataframe tbody tr th:only-of-type {\n",
       "        vertical-align: middle;\n",
       "    }\n",
       "\n",
       "    .dataframe tbody tr th {\n",
       "        vertical-align: top;\n",
       "    }\n",
       "\n",
       "    .dataframe thead th {\n",
       "        text-align: right;\n",
       "    }\n",
       "</style>\n",
       "<table border=\"1\" class=\"dataframe\">\n",
       "  <thead>\n",
       "    <tr style=\"text-align: right;\">\n",
       "      <th></th>\n",
       "      <th>position</th>\n",
       "      <th>orientation_q</th>\n",
       "      <th>orientation_R</th>\n",
       "      <th>force</th>\n",
       "      <th>torque</th>\n",
       "      <th>energy</th>\n",
       "    </tr>\n",
       "  </thead>\n",
       "  <tbody>\n",
       "    <tr>\n",
       "      <th>0</th>\n",
       "      <td>[[-1.7079815864562988, -1.6376734972000122, -4...</td>\n",
       "      <td>[[0.5738012790679932, -0.515727698802948, -0.1...</td>\n",
       "      <td>[[[0.1904458999633789, -0.5457628965377808, -0...</td>\n",
       "      <td>[[0.25468502590109915, 0.08594023537412374, 0....</td>\n",
       "      <td>[[-0.028348362909006726, -0.03091515559681838,...</td>\n",
       "      <td>[-0.0702367409284437, -0.0702367409284437]</td>\n",
       "    </tr>\n",
       "    <tr>\n",
       "      <th>1</th>\n",
       "      <td>[[-1.7059344053268433, -1.6380993127822876, -4...</td>\n",
       "      <td>[[0.5762675404548645, -0.514443039894104, -0.1...</td>\n",
       "      <td>[[[0.19347184896469116, -0.546608567237854, -0...</td>\n",
       "      <td>[[0.25544852213073665, 0.08649609495266264, 0....</td>\n",
       "      <td>[[-0.028608590314447905, -0.0302685583990233, ...</td>\n",
       "      <td>[-0.07048534777606755, -0.07048534777606755]</td>\n",
       "    </tr>\n",
       "    <tr>\n",
       "      <th>2</th>\n",
       "      <td>[[-1.7003545761108398, -1.6392571926116943, -4...</td>\n",
       "      <td>[[0.5791864395141602, -0.5129172801971436, -0....</td>\n",
       "      <td>[[[0.19708222150802612, -0.5475848317146301, -...</td>\n",
       "      <td>[[0.25854305740081085, 0.08826095240826068, 0....</td>\n",
       "      <td>[[-0.029188435830747723, -0.029553917539921794...</td>\n",
       "      <td>[-0.07141713796509878, -0.07141713796509877]</td>\n",
       "    </tr>\n",
       "    <tr>\n",
       "      <th>3</th>\n",
       "      <td>[[-1.6967456340789795, -1.6400054693222046, -4...</td>\n",
       "      <td>[[0.5843008756637573, -0.5102300047874451, -0....</td>\n",
       "      <td>[[[0.20348435640335083, -0.5492297410964966, -...</td>\n",
       "      <td>[[0.259715931368709, 0.08922912930238508, 0.25...</td>\n",
       "      <td>[[-0.02969929557475994, -0.028124960039773203,...</td>\n",
       "      <td>[-0.071812430239214, -0.071812430239214]</td>\n",
       "    </tr>\n",
       "    <tr>\n",
       "      <th>4</th>\n",
       "      <td>[[-1.692319393157959, -1.640921950340271, -4.2...</td>\n",
       "      <td>[[0.5888551473617554, -0.5078221559524536, -0....</td>\n",
       "      <td>[[[0.20926731824874878, -0.5506226420402527, -...</td>\n",
       "      <td>[[0.26161642459771406, 0.09053840007701844, 0....</td>\n",
       "      <td>[[-0.030272703855402094, -0.026829365138599334...</td>\n",
       "      <td>[-0.0724135951557511, -0.07241359515575109]</td>\n",
       "    </tr>\n",
       "  </tbody>\n",
       "</table>\n",
       "</div>"
      ],
      "text/plain": [
       "                                            position  \\\n",
       "0  [[-1.7079815864562988, -1.6376734972000122, -4...   \n",
       "1  [[-1.7059344053268433, -1.6380993127822876, -4...   \n",
       "2  [[-1.7003545761108398, -1.6392571926116943, -4...   \n",
       "3  [[-1.6967456340789795, -1.6400054693222046, -4...   \n",
       "4  [[-1.692319393157959, -1.640921950340271, -4.2...   \n",
       "\n",
       "                                       orientation_q  \\\n",
       "0  [[0.5738012790679932, -0.515727698802948, -0.1...   \n",
       "1  [[0.5762675404548645, -0.514443039894104, -0.1...   \n",
       "2  [[0.5791864395141602, -0.5129172801971436, -0....   \n",
       "3  [[0.5843008756637573, -0.5102300047874451, -0....   \n",
       "4  [[0.5888551473617554, -0.5078221559524536, -0....   \n",
       "\n",
       "                                       orientation_R  \\\n",
       "0  [[[0.1904458999633789, -0.5457628965377808, -0...   \n",
       "1  [[[0.19347184896469116, -0.546608567237854, -0...   \n",
       "2  [[[0.19708222150802612, -0.5475848317146301, -...   \n",
       "3  [[[0.20348435640335083, -0.5492297410964966, -...   \n",
       "4  [[[0.20926731824874878, -0.5506226420402527, -...   \n",
       "\n",
       "                                               force  \\\n",
       "0  [[0.25468502590109915, 0.08594023537412374, 0....   \n",
       "1  [[0.25544852213073665, 0.08649609495266264, 0....   \n",
       "2  [[0.25854305740081085, 0.08826095240826068, 0....   \n",
       "3  [[0.259715931368709, 0.08922912930238508, 0.25...   \n",
       "4  [[0.26161642459771406, 0.09053840007701844, 0....   \n",
       "\n",
       "                                              torque  \\\n",
       "0  [[-0.028348362909006726, -0.03091515559681838,...   \n",
       "1  [[-0.028608590314447905, -0.0302685583990233, ...   \n",
       "2  [[-0.029188435830747723, -0.029553917539921794...   \n",
       "3  [[-0.02969929557475994, -0.028124960039773203,...   \n",
       "4  [[-0.030272703855402094, -0.026829365138599334...   \n",
       "\n",
       "                                         energy  \n",
       "0    [-0.0702367409284437, -0.0702367409284437]  \n",
       "1  [-0.07048534777606755, -0.07048534777606755]  \n",
       "2  [-0.07141713796509878, -0.07141713796509877]  \n",
       "3      [-0.071812430239214, -0.071812430239214]  \n",
       "4   [-0.0724135951557511, -0.07241359515575109]  "
      ]
     },
     "execution_count": 47,
     "metadata": {},
     "output_type": "execute_result"
    }
   ],
   "source": [
    "new_traj_df.head()"
   ]
  },
  {
   "cell_type": "code",
   "execution_count": 48,
   "id": "7ef017a1-931b-44c8-9353-2c25c514f342",
   "metadata": {},
   "outputs": [],
   "source": [
    "new_traj_df = new_traj_df.sample(frac=1).reset_index(drop=True)# shuffle dataset"
   ]
  },
  {
   "cell_type": "code",
   "execution_count": 49,
   "id": "5aaaa154-40ea-436a-bc69-ef744d7f6c7c",
   "metadata": {},
   "outputs": [
    {
     "data": {
      "text/html": [
       "<div>\n",
       "<style scoped>\n",
       "    .dataframe tbody tr th:only-of-type {\n",
       "        vertical-align: middle;\n",
       "    }\n",
       "\n",
       "    .dataframe tbody tr th {\n",
       "        vertical-align: top;\n",
       "    }\n",
       "\n",
       "    .dataframe thead th {\n",
       "        text-align: right;\n",
       "    }\n",
       "</style>\n",
       "<table border=\"1\" class=\"dataframe\">\n",
       "  <thead>\n",
       "    <tr style=\"text-align: right;\">\n",
       "      <th></th>\n",
       "      <th>position</th>\n",
       "      <th>orientation_q</th>\n",
       "      <th>orientation_R</th>\n",
       "      <th>force</th>\n",
       "      <th>torque</th>\n",
       "      <th>energy</th>\n",
       "    </tr>\n",
       "  </thead>\n",
       "  <tbody>\n",
       "    <tr>\n",
       "      <th>0</th>\n",
       "      <td>[[-0.0526466891169548, -1.6042687892913818, -3...</td>\n",
       "      <td>[[-0.719586968421936, -0.4931466281414032, 0.4...</td>\n",
       "      <td>[[[0.5219979882240295, -0.7815905809402466, -0...</td>\n",
       "      <td>[[-3.080746774457362, 1.7370417092434314, 1.09...</td>\n",
       "      <td>[[-0.30241506814446195, -0.3432940915308098, -...</td>\n",
       "      <td>[-0.5877426947441102, -0.5877426947441101]</td>\n",
       "    </tr>\n",
       "    <tr>\n",
       "      <th>1</th>\n",
       "      <td>[[-0.8666112422943115, -1.6951040029525757, -4...</td>\n",
       "      <td>[[0.5993897318840027, -0.08189769089221954, 0....</td>\n",
       "      <td>[[[-0.2680494785308838, 0.8574913144111633, 0....</td>\n",
       "      <td>[[2.478134199109598, -19.235788925586057, -22....</td>\n",
       "      <td>[[12.84767100016488, 0.9154931248577944, 0.592...</td>\n",
       "      <td>[-0.21466537505549455, -0.2146653750554946]</td>\n",
       "    </tr>\n",
       "    <tr>\n",
       "      <th>2</th>\n",
       "      <td>[[-1.3337652683258057, -1.6981642246246338, -4...</td>\n",
       "      <td>[[0.971187949180603, -0.1854988932609558, -0.1...</td>\n",
       "      <td>[[[0.9552318453788757, 0.04020068421959877, -0...</td>\n",
       "      <td>[[0.8859464258188247, 0.7072198571451592, 1.67...</td>\n",
       "      <td>[[0.12918127694004797, 0.46880956971786375, -0...</td>\n",
       "      <td>[-0.3223274315275283, -0.3223274315275283]</td>\n",
       "    </tr>\n",
       "    <tr>\n",
       "      <th>3</th>\n",
       "      <td>[[-0.9799020886421204, -1.764159083366394, -4....</td>\n",
       "      <td>[[0.7632633447647095, -0.04681701958179474, 0....</td>\n",
       "      <td>[[[0.16952550411224365, 0.9343368411064148, 0....</td>\n",
       "      <td>[[-0.0022683081421735196, 1.8276773152527133, ...</td>\n",
       "      <td>[[-0.852502581260281, -0.14018170038850994, 0....</td>\n",
       "      <td>[-0.41822330854308737, -0.41822330854308737]</td>\n",
       "    </tr>\n",
       "    <tr>\n",
       "      <th>4</th>\n",
       "      <td>[[-0.5956459641456604, -1.6828162670135498, -4...</td>\n",
       "      <td>[[-0.04163462668657303, -0.3112438917160034, 0...</td>\n",
       "      <td>[[[-0.8027876615524292, -0.2854381501674652, 0...</td>\n",
       "      <td>[[-1.7120832617311148, 1.1190903472811884, 2.6...</td>\n",
       "      <td>[[-0.03868431124427686, -0.318369235736899, 0....</td>\n",
       "      <td>[-0.5407088020548707, -0.5407088020548707]</td>\n",
       "    </tr>\n",
       "  </tbody>\n",
       "</table>\n",
       "</div>"
      ],
      "text/plain": [
       "                                            position  \\\n",
       "0  [[-0.0526466891169548, -1.6042687892913818, -3...   \n",
       "1  [[-0.8666112422943115, -1.6951040029525757, -4...   \n",
       "2  [[-1.3337652683258057, -1.6981642246246338, -4...   \n",
       "3  [[-0.9799020886421204, -1.764159083366394, -4....   \n",
       "4  [[-0.5956459641456604, -1.6828162670135498, -4...   \n",
       "\n",
       "                                       orientation_q  \\\n",
       "0  [[-0.719586968421936, -0.4931466281414032, 0.4...   \n",
       "1  [[0.5993897318840027, -0.08189769089221954, 0....   \n",
       "2  [[0.971187949180603, -0.1854988932609558, -0.1...   \n",
       "3  [[0.7632633447647095, -0.04681701958179474, 0....   \n",
       "4  [[-0.04163462668657303, -0.3112438917160034, 0...   \n",
       "\n",
       "                                       orientation_R  \\\n",
       "0  [[[0.5219979882240295, -0.7815905809402466, -0...   \n",
       "1  [[[-0.2680494785308838, 0.8574913144111633, 0....   \n",
       "2  [[[0.9552318453788757, 0.04020068421959877, -0...   \n",
       "3  [[[0.16952550411224365, 0.9343368411064148, 0....   \n",
       "4  [[[-0.8027876615524292, -0.2854381501674652, 0...   \n",
       "\n",
       "                                               force  \\\n",
       "0  [[-3.080746774457362, 1.7370417092434314, 1.09...   \n",
       "1  [[2.478134199109598, -19.235788925586057, -22....   \n",
       "2  [[0.8859464258188247, 0.7072198571451592, 1.67...   \n",
       "3  [[-0.0022683081421735196, 1.8276773152527133, ...   \n",
       "4  [[-1.7120832617311148, 1.1190903472811884, 2.6...   \n",
       "\n",
       "                                              torque  \\\n",
       "0  [[-0.30241506814446195, -0.3432940915308098, -...   \n",
       "1  [[12.84767100016488, 0.9154931248577944, 0.592...   \n",
       "2  [[0.12918127694004797, 0.46880956971786375, -0...   \n",
       "3  [[-0.852502581260281, -0.14018170038850994, 0....   \n",
       "4  [[-0.03868431124427686, -0.318369235736899, 0....   \n",
       "\n",
       "                                         energy  \n",
       "0    [-0.5877426947441102, -0.5877426947441101]  \n",
       "1   [-0.21466537505549455, -0.2146653750554946]  \n",
       "2    [-0.3223274315275283, -0.3223274315275283]  \n",
       "3  [-0.41822330854308737, -0.41822330854308737]  \n",
       "4    [-0.5407088020548707, -0.5407088020548707]  "
      ]
     },
     "execution_count": 49,
     "metadata": {},
     "output_type": "execute_result"
    }
   ],
   "source": [
    "new_traj_df.head()"
   ]
  },
  {
   "cell_type": "code",
   "execution_count": 50,
   "id": "063dec1c-6a11-4bdb-9d82-1b200816f653",
   "metadata": {},
   "outputs": [],
   "source": [
    "target_datapath=\"/home/marjan/Documents/code-base/ml_datasets/pps_pair\"\n",
    "\n",
    "new_traj_df.to_pickle(os.path.join(target_datapath, \"raw.pkl\"))\n",
    "test_frac = 0.1\n",
    "val_frac = 0.1\n",
    "\n",
    "dataset_len = new_traj_df.shape[0]\n",
    "test_len = int(dataset_len * test_frac)\n",
    "val_len = int(dataset_len * val_frac)\n",
    "\n",
    "test_df = new_traj_df.iloc[:test_len]\n",
    "\n",
    "val_df = new_traj_df.iloc[test_len: test_len + val_len]\n",
    "\n",
    "train_df = new_traj_df.iloc[test_len + val_len:]\n"
   ]
  },
  {
   "cell_type": "code",
   "execution_count": 51,
   "id": "41da000a-b639-4e80-9a2e-c9dc8b343a47",
   "metadata": {},
   "outputs": [],
   "source": [
    "train_df.to_pickle(os.path.join(target_datapath, 'train.pkl'))\n",
    "val_df.to_pickle(os.path.join(target_datapath, 'val.pkl'))\n",
    "test_df.to_pickle(os.path.join(target_datapath, 'test.pkl'))"
   ]
  },
  {
   "cell_type": "code",
   "execution_count": 52,
   "id": "3eeeebd3-7ae7-4524-bcd2-37ce10de802f",
   "metadata": {},
   "outputs": [
    {
     "name": "stdout",
     "output_type": "stream",
     "text": [
      "(195, 6)\n"
     ]
    }
   ],
   "source": [
    "print(test_df.shape)"
   ]
  },
  {
   "cell_type": "code",
   "execution_count": 53,
   "id": "049ae310-38be-478b-905e-835e4eae4295",
   "metadata": {},
   "outputs": [
    {
     "name": "stdout",
     "output_type": "stream",
     "text": [
      "(195, 6)\n"
     ]
    }
   ],
   "source": [
    "print(val_df.shape)"
   ]
  },
  {
   "cell_type": "code",
   "execution_count": 54,
   "id": "30c8606a-504d-40a1-b820-0e6d8031c4ac",
   "metadata": {},
   "outputs": [
    {
     "name": "stdout",
     "output_type": "stream",
     "text": [
      "(1562, 6)\n"
     ]
    }
   ],
   "source": [
    "print(train_df.shape)"
   ]
  },
  {
   "cell_type": "code",
   "execution_count": null,
   "id": "48b210bd-a9f9-421c-b984-6ba6de8699dd",
   "metadata": {},
   "outputs": [],
   "source": []
  }
 ],
 "metadata": {
  "kernelspec": {
   "display_name": "Python 3 (ipykernel)",
   "language": "python",
   "name": "python3"
  },
  "language_info": {
   "codemirror_mode": {
    "name": "ipython",
    "version": 3
   },
   "file_extension": ".py",
   "mimetype": "text/x-python",
   "name": "python",
   "nbconvert_exporter": "python",
   "pygments_lexer": "ipython3",
   "version": "3.11.6"
  }
 },
 "nbformat": 4,
 "nbformat_minor": 5
}
