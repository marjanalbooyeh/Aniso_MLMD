{
 "cells": [
  {
   "cell_type": "code",
   "execution_count": 94,
   "id": "initial_id",
   "metadata": {},
   "outputs": [],
   "source": [
    "import hoomd\n",
    "import pickle\n",
    "import gsd.hoomd\n",
    "import numpy as np\n",
    "import pandas as pd\n",
    "import os\n",
    "import rowan\n",
    "import warnings\n",
    "warnings.filterwarnings('ignore')"
   ]
  },
  {
   "cell_type": "markdown",
   "id": "4bce56a1-255d-47ac-8e44-8e4af89a5aa5",
   "metadata": {},
   "source": [
    "## Create pps atomistic simulation to collect positions of constituent particles and COM"
   ]
  },
  {
   "cell_type": "code",
   "execution_count": 2,
   "id": "0b58f989-7b74-40ce-924d-d413b866b652",
   "metadata": {},
   "outputs": [
    {
     "name": "stderr",
     "output_type": "stream",
     "text": [
      "/home/marjan/anaconda3/envs/anisoML/lib/python3.11/site-packages/mdtraj/formats/__init__.py:6: DeprecationWarning: 'xdrlib' is deprecated and slated for removal in Python 3.13\n",
      "  from .xtc import XTCTrajectoryFile\n",
      "/home/marjan/anaconda3/envs/anisoML/lib/python3.11/site-packages/mbuild/recipes/__init__.py:13: DeprecationWarning: SelectableGroups dict interface is deprecated. Use select.\n",
      "  entry_points = metadata.entry_points()[\"mbuild.plugins\"]\n"
     ]
    }
   ],
   "source": [
    "from flowermd.library import PPS, OPLS_AA_PPS\n",
    "from flowermd.base import Pack,  Simulation"
   ]
  },
  {
   "cell_type": "code",
   "execution_count": 3,
   "id": "03140da7-9b2c-4473-9a43-5449adbb413a",
   "metadata": {},
   "outputs": [
    {
     "name": "stdout",
     "output_type": "stream",
     "text": [
      "No charged group detected, skipping electrostatics.\n",
      "Initializing simulation state from a gsd.hoomd.Frame.\n"
     ]
    },
    {
     "name": "stderr",
     "output_type": "stream",
     "text": [
      "/home/marjan/anaconda3/envs/anisoML/lib/python3.11/site-packages/gmso/core/topology.py:818: DeprecationWarning: Conversion of an array with ndim > 0 to a scalar is deprecated, and will error in future. Ensure you extract a single element from your array before performing this operation. (Deprecated NumPy 1.25.)\n",
      "  all_scales[index][scaling_interaction_idxes[interaction]] = value\n",
      "/home/marjan/anaconda3/envs/anisoML/lib/python3.11/site-packages/gmso/core/topology.py:818: DeprecationWarning: Conversion of an array with ndim > 0 to a scalar is deprecated, and will error in future. Ensure you extract a single element from your array before performing this operation. (Deprecated NumPy 1.25.)\n",
      "  all_scales[index][scaling_interaction_idxes[interaction]] = value\n"
     ]
    }
   ],
   "source": [
    "pps = PPS(num_mols=2, lengths=1)\n",
    "system = Pack(molecules=pps, density=0.2)\n",
    "system.apply_forcefield(r_cut=2.5, force_field=OPLS_AA_PPS(), auto_scale=True, remove_charges=True, scale_charges=True, remove_hydrogens=True)\n",
    "pps_aa_simulation = Simulation.from_system(system)"
   ]
  },
  {
   "cell_type": "code",
   "execution_count": 4,
   "id": "fe5f56e3-d338-4afd-b0c1-9b57968293ed",
   "metadata": {},
   "outputs": [],
   "source": [
    "frame = pps_aa_simulation.state.get_snapshot()\n",
    "positions = frame.particles.position\n",
    "# indices of constituent particles\n",
    "constituent_indx = [[0, 1, 2, 3, 4, 5, 6], [7, 8, 9, 10, 11, 12, 13]]"
   ]
  },
  {
   "cell_type": "code",
   "execution_count": 5,
   "id": "7cdb3e41-b7ba-4b60-8494-7e90ee05afad",
   "metadata": {},
   "outputs": [],
   "source": [
    "\n",
    "com_mass = []\n",
    "com_positions = []\n",
    "\n",
    "for indx in constituent_indx:\n",
    "    total_mass = np.sum(frame.particles.mass[indx])\n",
    "    com_mass.append(total_mass)\n",
    "    com_positions.append(\n",
    "                np.sum(\n",
    "                    frame.particles.position[indx]\n",
    "                    * frame.particles.mass[indx, np.newaxis],\n",
    "                    axis=0,\n",
    "                )\n",
    "                / total_mass\n",
    "            )"
   ]
  },
  {
   "cell_type": "code",
   "execution_count": 6,
   "id": "fce9f65f-6b4d-42da-87f0-3a396abc049d",
   "metadata": {},
   "outputs": [
    {
     "data": {
      "text/plain": [
       "array([[ 0.08849504,  0.07669724,  0.64043651],\n",
       "       [-0.02556489, -0.26707529,  0.49990807],\n",
       "       [-0.07843468, -0.31309532,  0.11771188],\n",
       "       [-0.01726601, -0.01489721, -0.12452878],\n",
       "       [-0.08479617, -0.07348143, -0.61360397],\n",
       "       [ 0.09703805,  0.32916023,  0.01655017],\n",
       "       [ 0.14977624,  0.3746983 ,  0.39882241]])"
      ]
     },
     "execution_count": 6,
     "metadata": {},
     "output_type": "execute_result"
    }
   ],
   "source": [
    "rel_const_pos =  positions[constituent_indx[0]] - com_positions[0]\n",
    "rel_const_pos"
   ]
  },
  {
   "cell_type": "markdown",
   "id": "f8ac1e61-3020-4958-88ba-03a45f64f597",
   "metadata": {},
   "source": [
    "## Create rigid body simulation"
   ]
  },
  {
   "cell_type": "code",
   "execution_count": 7,
   "id": "43d25618-f3bc-4799-a6bf-87e07b56df1e",
   "metadata": {},
   "outputs": [],
   "source": [
    "def create_rigid_simulation(kT):\n",
    "    rigid_simulation = hoomd.Simulation(device=hoomd.device.auto_select(), seed=1)\n",
    "    rigid_simulation.create_state_from_gsd(filename='assets/pps_rigid_initial_run.gsd')\n",
    "    const_particle_types = list(np.asarray(frame.particles.types)[list(frame.particles.typeid)][constituent_indx[0]])\n",
    "\n",
    "    rigid = hoomd.md.constrain.Rigid()\n",
    "    rigid.body['rigid'] = {\n",
    "        \"constituent_types\":const_particle_types,\n",
    "        \"positions\": rel_const_pos,\n",
    "        \"orientations\": [(1.0, 0.0, 0.0, 0.0)]* len(rel_const_pos),\n",
    "        }\n",
    "    integrator = hoomd.md.Integrator(dt=0.005, integrate_rotational_dof=True)\n",
    "    rigid_simulation.operations.integrator = integrator\n",
    "    integrator.rigid = rigid\n",
    "    rigid_centers_and_free = hoomd.filter.Rigid((\"center\", \"free\"))\n",
    "    nvt = hoomd.md.methods.ConstantVolume(\n",
    "        filter=rigid_centers_and_free,\n",
    "        thermostat=hoomd.md.methods.thermostats.Bussi(kT=kT))\n",
    "    integrator.methods.append(nvt)\n",
    "    \n",
    "    cell = hoomd.md.nlist.Cell(buffer=0, exclusions=['body'])\n",
    "    \n",
    "    lj = hoomd.md.pair.LJ(nlist=cell)\n",
    "    \n",
    "    # use aa pps simulation to define lj and special lj forces between constituent particles\n",
    "    for k, v in dict(pps_aa_simulation.forces[0].params).items():\n",
    "        lj.params[k] = v\n",
    "        lj.r_cut[k] = 2.5\n",
    "    \n",
    "    lj.params[('rigid', ['rigid', 'ca', 'sh'])]= dict(epsilon=0, sigma=0)\n",
    "    lj.r_cut[('rigid', ['rigid', 'ca', 'sh'])] = 0\n",
    "\n",
    "    integrator.forces.append(lj)\n",
    "    rigid_simulation.state.thermalize_particle_momenta(filter=rigid_centers_and_free,\n",
    "                                             kT=kT)\n",
    "    \n",
    "    rigid_simulation.run(0)\n",
    "\n",
    "    log_quantities = [\n",
    "                        \"kinetic_temperature\",\n",
    "                        \"potential_energy\",\n",
    "                        \"kinetic_energy\",\n",
    "                        \"volume\",\n",
    "                        \"pressure\",\n",
    "                        \"pressure_tensor\",\n",
    "                    ]\n",
    "    logger = hoomd.logging.Logger(categories=[\"scalar\", \"string\", \"particle\"])\n",
    "    logger.add(rigid_simulation, quantities=[\"timestep\", \"tps\"])\n",
    "    thermo_props = hoomd.md.compute.ThermodynamicQuantities(filter=hoomd.filter.All())\n",
    "    rigid_simulation.operations.computes.append(thermo_props)\n",
    "    logger.add(thermo_props, quantities=log_quantities)\n",
    "    \n",
    "    # for f in integrator.forces:\n",
    "    #     logger.add(f, quantities=[\"energy\", \"forces\", \"energies\"])\n",
    "\n",
    "    logger.add(rigid_simulation.operations.integrator.rigid, quantities=[\"torques\", \"forces\", \"energies\"])\n",
    "    \n",
    "    gsd_writer = hoomd.write.GSD(\n",
    "        filename=\"logs/pps_pair/trajectory_{}.gsd\".format(kT),\n",
    "        trigger=hoomd.trigger.Periodic(int(1)),\n",
    "        mode=\"wb\",\n",
    "        logger=logger,\n",
    "        filter=hoomd.filter.All(),\n",
    "        dynamic=[\"momentum\", \"property\"]\n",
    "        )\n",
    "    \n",
    "    rigid_simulation.operations.writers.append(gsd_writer)\n",
    "    return rigid_simulation\n",
    "\n",
    "    \n"
   ]
  },
  {
   "cell_type": "code",
   "execution_count": 18,
   "id": "b8f5c658-2d25-4075-91c6-224a4806a4a7",
   "metadata": {},
   "outputs": [],
   "source": [
    "kT_list = [1., 1.5, 2., 3., 6.0]\n",
    "for kT in kT_list:\n",
    "    rigid_simulation = create_rigid_simulation(kT)\n",
    "    rigid_simulation.run(1000)\n",
    "    rigid_simulation.operations.writers[0].flush()"
   ]
  },
  {
   "cell_type": "markdown",
   "id": "fd615f37-e1b0-4b25-bf41-85a47e9b7880",
   "metadata": {},
   "source": [
    "## filter data from r > 3.5"
   ]
  },
  {
   "cell_type": "code",
   "execution_count": 21,
   "id": "007d3b8b-e07f-4bc2-8a15-07166a579dea",
   "metadata": {},
   "outputs": [],
   "source": [
    "positions = []\n",
    "orientations = []\n",
    "forces = []\n",
    "torques = []\n",
    "energies = []\n",
    "for kT in kT_list:\n",
    "    traj = gsd.hoomd.open(\"logs/pps_pair/trajectory_{}.gsd\".format(kT))\n",
    "    for frame in traj:\n",
    "        positions.append(frame.particles.position[:2])\n",
    "        orientations.append(frame.particles.orientation[:2])\n",
    "        forces.append(frame.log['particles/md/constrain/Rigid/forces'][:2])\n",
    "        torques.append(frame.log['particles/md/constrain/Rigid/torques'][:2])\n",
    "        energies.append(frame.log['particles/md/constrain/Rigid/energies'][:2])\n",
    "        "
   ]
  },
  {
   "cell_type": "code",
   "execution_count": 46,
   "id": "8190915f-dbeb-44b1-991e-57aafce64ef1",
   "metadata": {},
   "outputs": [],
   "source": [
    "L = rigid_simulation.state.get_snapshot().configuration.box[0]\n",
    "def adjust_periodic_boundary(pos, box_len):\n",
    "    adjusted_pos = []\n",
    "    for x in pos:\n",
    "        if x > (box_len/2):\n",
    "            adjusted_pos.append(x - box_len/2)\n",
    "        elif x < (-box_len/2):\n",
    "            adjusted_pos.append(x + box_len/2)\n",
    "        else:\n",
    "            adjusted_pos.append(x)\n",
    "    return np.asarray(adjusted_pos)"
   ]
  },
  {
   "cell_type": "code",
   "execution_count": 74,
   "id": "9c3c96a5-4001-4eb7-a238-c7ce9b0d4da6",
   "metadata": {},
   "outputs": [],
   "source": [
    "keep_idx = []\n",
    "for idx, pos_pair in enumerate(positions):\n",
    "    dr = pos_pair[0] - pos_pair[1]\n",
    "    dr_adjusted = adjust_periodic_boundary(dr, L)\n",
    "    r = np.linalg.norm(dr_adjusted)\n",
    "    if r <=3.5:\n",
    "        keep_idx.append(idx)"
   ]
  },
  {
   "cell_type": "code",
   "execution_count": 77,
   "id": "5c569fa2-b64f-4854-ae1e-0e052fd3231f",
   "metadata": {},
   "outputs": [],
   "source": [
    "keep_positions = np.asarray(positions)[keep_idx]\n",
    "keep_orientations = np.asarray(orientations)[keep_idx]\n",
    "keep_forces = np.asarray(forces)[keep_idx]\n",
    "keep_torques = np.asarray(torques)[keep_idx]\n",
    "keep_energies = np.asarray(energies)[keep_idx]"
   ]
  },
  {
   "cell_type": "code",
   "execution_count": 85,
   "id": "4dc80836-69ee-435e-856a-3ef1b3ef5089",
   "metadata": {},
   "outputs": [
    {
     "data": {
      "text/plain": [
       "3277"
      ]
     },
     "execution_count": 85,
     "metadata": {},
     "output_type": "execute_result"
    }
   ],
   "source": [
    "len(keep_idx)"
   ]
  },
  {
   "cell_type": "markdown",
   "id": "8fb7219f-3331-427b-93d3-2e8e51acdba5",
   "metadata": {},
   "source": [
    "## create the dataset"
   ]
  },
  {
   "cell_type": "code",
   "execution_count": 83,
   "id": "b32cec12-a6fb-42c4-9af7-320ee2aac280",
   "metadata": {},
   "outputs": [],
   "source": [
    "\n",
    "particle_pos = []\n",
    "neighbor_pos = []\n",
    "particle_orient_q = []\n",
    "neighbor_orient_q = []\n",
    "particle_orient_R = []\n",
    "neighbor_orient_R = []\n",
    "particle_force = []\n",
    "particle_torque = []\n",
    "particle_energy = []\n",
    "for pos, orient, force, torque, energy in zip(keep_positions, keep_orientations, keep_forces,keep_torques, keep_energies):\n",
    "    particle_pos.extend([pos[0], pos[1]])\n",
    "    neighbor_pos.extend([pos[1], pos[0]])\n",
    "\n",
    "    particle_orient_q.extend([orient[0], orient[1]])\n",
    "    neighbor_orient_q.extend([orient[1], orient[0]])\n",
    "\n",
    "    particle_orient_R.extend([rowan.to_matrix(orient[0]), rowan.to_matrix(orient[1])])\n",
    "    neighbor_orient_R.extend([rowan.to_matrix(orient[1]), rowan.to_matrix(orient[0])])\n",
    "\n",
    "    particle_force.extend([force[0], force[1]])\n",
    "    particle_torque.extend([torque[0], torque[1]])\n",
    "    particle_energy.extend([energy[0], energy[1]])"
   ]
  },
  {
   "cell_type": "code",
   "execution_count": 84,
   "id": "5787c2bc-c7e8-4a41-a6c1-4e9cb53da24a",
   "metadata": {},
   "outputs": [
    {
     "data": {
      "text/plain": [
       "6554"
      ]
     },
     "execution_count": 84,
     "metadata": {},
     "output_type": "execute_result"
    }
   ],
   "source": [
    "len(particle_force)"
   ]
  },
  {
   "cell_type": "code",
   "execution_count": 88,
   "id": "aaecac98-d8be-4421-b5dc-036a47cd5aec",
   "metadata": {},
   "outputs": [],
   "source": [
    "\n",
    "columns = [\n",
    "    \"particle_pos\",\n",
    "    \"neighbor_pos\",\n",
    "    \"particle_orient_q\",\n",
    "    \"neighbor_orient_q\", \n",
    "    \"particle_orient_R\",\n",
    "    \"neighbor_orient_R\",\n",
    "    \"force\",\n",
    "    \"torque\",\n",
    "    \"energy\"\n",
    "]\n",
    "\n",
    "new_traj_df = pd.DataFrame(columns=columns)\n",
    "new_traj_df[\"particle_pos\"] = particle_pos\n",
    "new_traj_df[\"neighbor_pos\"] = neighbor_pos\n",
    "new_traj_df[\"particle_orient_q\"] = particle_orient_q\n",
    "new_traj_df[\"neighbor_orient_q\"] = neighbor_orient_q\n",
    "new_traj_df[\"particle_orient_R\"] = particle_orient_R\n",
    "new_traj_df[\"neighbor_orient_R\"] = neighbor_orient_R\n",
    "new_traj_df[\"force\"] = particle_force\n",
    "new_traj_df[\"torque\"] = particle_torque\n",
    "new_traj_df[\"energy\"] = particle_energy"
   ]
  },
  {
   "cell_type": "code",
   "execution_count": 90,
   "id": "a14ac593-a86d-4c78-983d-a3d9c50768f5",
   "metadata": {},
   "outputs": [
    {
     "data": {
      "text/html": [
       "<div>\n",
       "<style scoped>\n",
       "    .dataframe tbody tr th:only-of-type {\n",
       "        vertical-align: middle;\n",
       "    }\n",
       "\n",
       "    .dataframe tbody tr th {\n",
       "        vertical-align: top;\n",
       "    }\n",
       "\n",
       "    .dataframe thead th {\n",
       "        text-align: right;\n",
       "    }\n",
       "</style>\n",
       "<table border=\"1\" class=\"dataframe\">\n",
       "  <thead>\n",
       "    <tr style=\"text-align: right;\">\n",
       "      <th></th>\n",
       "      <th>particle_pos</th>\n",
       "      <th>neighbor_pos</th>\n",
       "      <th>particle_orient_q</th>\n",
       "      <th>neighbor_orient_q</th>\n",
       "      <th>particle_orient_R</th>\n",
       "      <th>neighbor_orient_R</th>\n",
       "      <th>force</th>\n",
       "      <th>torque</th>\n",
       "      <th>energy</th>\n",
       "    </tr>\n",
       "  </thead>\n",
       "  <tbody>\n",
       "    <tr>\n",
       "      <th>0</th>\n",
       "      <td>[-2.5077713, -1.4357663, -4.0184007]</td>\n",
       "      <td>[0.6743287, -1.1467189, -2.599957]</td>\n",
       "      <td>[-0.47221667, -0.55832356, 0.67347145, -0.1082...</td>\n",
       "      <td>[0.85002875, 0.49808922, -0.16974491, -0.02334...</td>\n",
       "      <td>[[0.06942749437257612, -0.8542838096618652, -0...</td>\n",
       "      <td>[[0.9412835575640202, -0.12941205501556396, -0...</td>\n",
       "      <td>[0.0, 0.0, 0.0]</td>\n",
       "      <td>[0.0, 0.0, 0.0]</td>\n",
       "      <td>0.0</td>\n",
       "    </tr>\n",
       "    <tr>\n",
       "      <th>1</th>\n",
       "      <td>[0.6743287, -1.1467189, -2.599957]</td>\n",
       "      <td>[-2.5077713, -1.4357663, -4.0184007]</td>\n",
       "      <td>[0.85002875, 0.49808922, -0.16974491, -0.02334...</td>\n",
       "      <td>[-0.47221667, -0.55832356, 0.67347145, -0.1082...</td>\n",
       "      <td>[[0.9412835575640202, -0.12941205501556396, -0...</td>\n",
       "      <td>[[0.06942749437257612, -0.8542838096618652, -0...</td>\n",
       "      <td>[0.0, 0.0, 0.0]</td>\n",
       "      <td>[0.0, 0.0, 0.0]</td>\n",
       "      <td>0.0</td>\n",
       "    </tr>\n",
       "    <tr>\n",
       "      <th>2</th>\n",
       "      <td>[-2.5060034, -1.4362459, -4.018891]</td>\n",
       "      <td>[0.67256075, -1.1462393, -2.5994666]</td>\n",
       "      <td>[-0.47318783, -0.56264377, 0.67033255, -0.1008...</td>\n",
       "      <td>[0.85262376, 0.4931297, -0.17208822, -0.015537...</td>\n",
       "      <td>[[0.08094936609268188, -0.8498004078865051, -0...</td>\n",
       "      <td>[[0.9402884283833759, -0.14322759211063385, -0...</td>\n",
       "      <td>[0.0, 0.0, 0.0]</td>\n",
       "      <td>[0.0, 0.0, 0.0]</td>\n",
       "      <td>0.0</td>\n",
       "    </tr>\n",
       "    <tr>\n",
       "      <th>3</th>\n",
       "      <td>[0.67256075, -1.1462393, -2.5994666]</td>\n",
       "      <td>[-2.5060034, -1.4362459, -4.018891]</td>\n",
       "      <td>[0.85262376, 0.4931297, -0.17208822, -0.015537...</td>\n",
       "      <td>[-0.47318783, -0.56264377, 0.67033255, -0.1008...</td>\n",
       "      <td>[[0.9402884283833759, -0.14322759211063385, -0...</td>\n",
       "      <td>[[0.08094936609268188, -0.8498004078865051, -0...</td>\n",
       "      <td>[0.0, 0.0, 0.0]</td>\n",
       "      <td>[0.0, 0.0, 0.0]</td>\n",
       "      <td>0.0</td>\n",
       "    </tr>\n",
       "    <tr>\n",
       "      <th>4</th>\n",
       "      <td>[-2.5033927, -1.4369541, -4.0196147]</td>\n",
       "      <td>[0.6699499, -1.145531, -2.5987427]</td>\n",
       "      <td>[-0.47396696, -0.56639576, 0.66755927, -0.0944...</td>\n",
       "      <td>[0.8548275, 0.48876634, -0.17407463, -0.008680...</td>\n",
       "      <td>[[0.09089773893356323, -0.8457125425338745, -0...</td>\n",
       "      <td>[[0.9392453283071518, -0.15532246232032776, -0...</td>\n",
       "      <td>[0.0, 0.0, 0.0]</td>\n",
       "      <td>[0.0, 0.0, 0.0]</td>\n",
       "      <td>0.0</td>\n",
       "    </tr>\n",
       "  </tbody>\n",
       "</table>\n",
       "</div>"
      ],
      "text/plain": [
       "                           particle_pos                          neighbor_pos  \\\n",
       "0  [-2.5077713, -1.4357663, -4.0184007]    [0.6743287, -1.1467189, -2.599957]   \n",
       "1    [0.6743287, -1.1467189, -2.599957]  [-2.5077713, -1.4357663, -4.0184007]   \n",
       "2   [-2.5060034, -1.4362459, -4.018891]  [0.67256075, -1.1462393, -2.5994666]   \n",
       "3  [0.67256075, -1.1462393, -2.5994666]   [-2.5060034, -1.4362459, -4.018891]   \n",
       "4  [-2.5033927, -1.4369541, -4.0196147]    [0.6699499, -1.145531, -2.5987427]   \n",
       "\n",
       "                                   particle_orient_q  \\\n",
       "0  [-0.47221667, -0.55832356, 0.67347145, -0.1082...   \n",
       "1  [0.85002875, 0.49808922, -0.16974491, -0.02334...   \n",
       "2  [-0.47318783, -0.56264377, 0.67033255, -0.1008...   \n",
       "3  [0.85262376, 0.4931297, -0.17208822, -0.015537...   \n",
       "4  [-0.47396696, -0.56639576, 0.66755927, -0.0944...   \n",
       "\n",
       "                                   neighbor_orient_q  \\\n",
       "0  [0.85002875, 0.49808922, -0.16974491, -0.02334...   \n",
       "1  [-0.47221667, -0.55832356, 0.67347145, -0.1082...   \n",
       "2  [0.85262376, 0.4931297, -0.17208822, -0.015537...   \n",
       "3  [-0.47318783, -0.56264377, 0.67033255, -0.1008...   \n",
       "4  [0.8548275, 0.48876634, -0.17407463, -0.008680...   \n",
       "\n",
       "                                   particle_orient_R  \\\n",
       "0  [[0.06942749437257612, -0.8542838096618652, -0...   \n",
       "1  [[0.9412835575640202, -0.12941205501556396, -0...   \n",
       "2  [[0.08094936609268188, -0.8498004078865051, -0...   \n",
       "3  [[0.9402884283833759, -0.14322759211063385, -0...   \n",
       "4  [[0.09089773893356323, -0.8457125425338745, -0...   \n",
       "\n",
       "                                   neighbor_orient_R            force  \\\n",
       "0  [[0.9412835575640202, -0.12941205501556396, -0...  [0.0, 0.0, 0.0]   \n",
       "1  [[0.06942749437257612, -0.8542838096618652, -0...  [0.0, 0.0, 0.0]   \n",
       "2  [[0.9402884283833759, -0.14322759211063385, -0...  [0.0, 0.0, 0.0]   \n",
       "3  [[0.08094936609268188, -0.8498004078865051, -0...  [0.0, 0.0, 0.0]   \n",
       "4  [[0.9392453283071518, -0.15532246232032776, -0...  [0.0, 0.0, 0.0]   \n",
       "\n",
       "            torque  energy  \n",
       "0  [0.0, 0.0, 0.0]     0.0  \n",
       "1  [0.0, 0.0, 0.0]     0.0  \n",
       "2  [0.0, 0.0, 0.0]     0.0  \n",
       "3  [0.0, 0.0, 0.0]     0.0  \n",
       "4  [0.0, 0.0, 0.0]     0.0  "
      ]
     },
     "execution_count": 90,
     "metadata": {},
     "output_type": "execute_result"
    }
   ],
   "source": [
    "new_traj_df.head()"
   ]
  },
  {
   "cell_type": "code",
   "execution_count": 91,
   "id": "5ed40c6d-e320-42d8-b339-55bc55635154",
   "metadata": {},
   "outputs": [],
   "source": [
    "# shuffle dataset \n",
    "new_traj_df = new_traj_df.sample(frac=1).reset_index(drop=True)"
   ]
  },
  {
   "cell_type": "code",
   "execution_count": 92,
   "id": "611fc773-666c-4514-b178-4d98b4e90d57",
   "metadata": {},
   "outputs": [
    {
     "data": {
      "text/html": [
       "<div>\n",
       "<style scoped>\n",
       "    .dataframe tbody tr th:only-of-type {\n",
       "        vertical-align: middle;\n",
       "    }\n",
       "\n",
       "    .dataframe tbody tr th {\n",
       "        vertical-align: top;\n",
       "    }\n",
       "\n",
       "    .dataframe thead th {\n",
       "        text-align: right;\n",
       "    }\n",
       "</style>\n",
       "<table border=\"1\" class=\"dataframe\">\n",
       "  <thead>\n",
       "    <tr style=\"text-align: right;\">\n",
       "      <th></th>\n",
       "      <th>particle_pos</th>\n",
       "      <th>neighbor_pos</th>\n",
       "      <th>particle_orient_q</th>\n",
       "      <th>neighbor_orient_q</th>\n",
       "      <th>particle_orient_R</th>\n",
       "      <th>neighbor_orient_R</th>\n",
       "      <th>force</th>\n",
       "      <th>torque</th>\n",
       "      <th>energy</th>\n",
       "    </tr>\n",
       "  </thead>\n",
       "  <tbody>\n",
       "    <tr>\n",
       "      <th>0</th>\n",
       "      <td>[-1.2025616, -1.7761111, -4.3536453]</td>\n",
       "      <td>[-0.6308811, -0.806374, -2.2647119]</td>\n",
       "      <td>[0.9409168, -0.0742097, -0.0033562845, -0.3303...</td>\n",
       "      <td>[-0.4053922, 0.61528796, 0.67558146, 0.02583783]</td>\n",
       "      <td>[[0.7816629726685865, 0.6222361922264099, 0.04...</td>\n",
       "      <td>[[0.08584416424299268, 0.852303147315979, -0.5...</td>\n",
       "      <td>[0.17734454028054775, 0.6442765132815007, 0.95...</td>\n",
       "      <td>[-0.19864506075348648, -0.05785907726551297, 0...</td>\n",
       "      <td>-0.195967</td>\n",
       "    </tr>\n",
       "    <tr>\n",
       "      <th>1</th>\n",
       "      <td>[-1.1817758, -0.6965503, -2.177009]</td>\n",
       "      <td>[-0.6516668, -1.885935, -4.441348]</td>\n",
       "      <td>[0.39517584, 0.8568144, 0.0015043953, -0.33121...</td>\n",
       "      <td>[0.13398498, -0.19950251, 0.41186494, -0.8789847]</td>\n",
       "      <td>[[0.7805897444486618, 0.2643536925315857, -0.5...</td>\n",
       "      <td>[[-0.8844935894012451, 0.07120531797409058, 0....</td>\n",
       "      <td>[0.11374025052799142, -0.1122896226466197, -0....</td>\n",
       "      <td>[0.0625343496634099, -0.07642257759990848, 0.0...</td>\n",
       "      <td>-0.056166</td>\n",
       "    </tr>\n",
       "    <tr>\n",
       "      <th>2</th>\n",
       "      <td>[-2.1663728, -1.5281798, -4.1127434]</td>\n",
       "      <td>[0.3329302, -1.0543054, -2.5056143]</td>\n",
       "      <td>[-0.25683436, -0.7616157, 0.31932253, 0.5020067]</td>\n",
       "      <td>[0.76492095, 0.041044734, -0.086903445, 0.6369...</td>\n",
       "      <td>[[0.29204471659926867, -0.2285369634628296, -0...</td>\n",
       "      <td>[[0.1735774278640747, -0.981511116027832, -0.0...</td>\n",
       "      <td>[0.14369590394284582, 0.02833653345978309, 0.0...</td>\n",
       "      <td>[0.006422419569839462, -0.014112954285625152, ...</td>\n",
       "      <td>-0.032263</td>\n",
       "    </tr>\n",
       "    <tr>\n",
       "      <th>3</th>\n",
       "      <td>[-2.1182837, -1.5409714, -4.125632]</td>\n",
       "      <td>[0.2848411, -1.0415138, -2.4927256]</td>\n",
       "      <td>[-0.1753283, -0.75861454, 0.25458083, 0.57354385]</td>\n",
       "      <td>[0.6973533, -0.02013286, -0.029752579, 0.7158267]</td>\n",
       "      <td>[[0.2124720811843872, -0.18514050543308258, -0...</td>\n",
       "      <td>[[-0.026586055755615234, -0.9971702098846436, ...</td>\n",
       "      <td>[0.17508272312290646, 0.03913929011851256, 0.1...</td>\n",
       "      <td>[0.0025744572667161444, -0.029960162407120926,...</td>\n",
       "      <td>-0.039252</td>\n",
       "    </tr>\n",
       "    <tr>\n",
       "      <th>4</th>\n",
       "      <td>[-0.79654485, -0.9440803, -2.5488966]</td>\n",
       "      <td>[-1.0368978, -1.6384048, -4.069461]</td>\n",
       "      <td>[-0.15944633, 0.7977844, 0.53870547, -0.21889117]</td>\n",
       "      <td>[0.7881971, -0.07384217, 0.16621993, -0.58793163]</td>\n",
       "      <td>[[0.32376617193222046, 0.7897387742996216, -0....</td>\n",
       "      <td>[[0.2534146308898926, 0.9022639393806458, 0.34...</td>\n",
       "      <td>[1.6399372749330114, 24.06423819421051, 7.6121...</td>\n",
       "      <td>[15.45295407059379, -1.2129844967406687, -0.66...</td>\n",
       "      <td>-1.011747</td>\n",
       "    </tr>\n",
       "  </tbody>\n",
       "</table>\n",
       "</div>"
      ],
      "text/plain": [
       "                            particle_pos                         neighbor_pos  \\\n",
       "0   [-1.2025616, -1.7761111, -4.3536453]  [-0.6308811, -0.806374, -2.2647119]   \n",
       "1    [-1.1817758, -0.6965503, -2.177009]   [-0.6516668, -1.885935, -4.441348]   \n",
       "2   [-2.1663728, -1.5281798, -4.1127434]  [0.3329302, -1.0543054, -2.5056143]   \n",
       "3    [-2.1182837, -1.5409714, -4.125632]  [0.2848411, -1.0415138, -2.4927256]   \n",
       "4  [-0.79654485, -0.9440803, -2.5488966]  [-1.0368978, -1.6384048, -4.069461]   \n",
       "\n",
       "                                   particle_orient_q  \\\n",
       "0  [0.9409168, -0.0742097, -0.0033562845, -0.3303...   \n",
       "1  [0.39517584, 0.8568144, 0.0015043953, -0.33121...   \n",
       "2   [-0.25683436, -0.7616157, 0.31932253, 0.5020067]   \n",
       "3  [-0.1753283, -0.75861454, 0.25458083, 0.57354385]   \n",
       "4  [-0.15944633, 0.7977844, 0.53870547, -0.21889117]   \n",
       "\n",
       "                                   neighbor_orient_q  \\\n",
       "0   [-0.4053922, 0.61528796, 0.67558146, 0.02583783]   \n",
       "1  [0.13398498, -0.19950251, 0.41186494, -0.8789847]   \n",
       "2  [0.76492095, 0.041044734, -0.086903445, 0.6369...   \n",
       "3  [0.6973533, -0.02013286, -0.029752579, 0.7158267]   \n",
       "4  [0.7881971, -0.07384217, 0.16621993, -0.58793163]   \n",
       "\n",
       "                                   particle_orient_R  \\\n",
       "0  [[0.7816629726685865, 0.6222361922264099, 0.04...   \n",
       "1  [[0.7805897444486618, 0.2643536925315857, -0.5...   \n",
       "2  [[0.29204471659926867, -0.2285369634628296, -0...   \n",
       "3  [[0.2124720811843872, -0.18514050543308258, -0...   \n",
       "4  [[0.32376617193222046, 0.7897387742996216, -0....   \n",
       "\n",
       "                                   neighbor_orient_R  \\\n",
       "0  [[0.08584416424299268, 0.852303147315979, -0.5...   \n",
       "1  [[-0.8844935894012451, 0.07120531797409058, 0....   \n",
       "2  [[0.1735774278640747, -0.981511116027832, -0.0...   \n",
       "3  [[-0.026586055755615234, -0.9971702098846436, ...   \n",
       "4  [[0.2534146308898926, 0.9022639393806458, 0.34...   \n",
       "\n",
       "                                               force  \\\n",
       "0  [0.17734454028054775, 0.6442765132815007, 0.95...   \n",
       "1  [0.11374025052799142, -0.1122896226466197, -0....   \n",
       "2  [0.14369590394284582, 0.02833653345978309, 0.0...   \n",
       "3  [0.17508272312290646, 0.03913929011851256, 0.1...   \n",
       "4  [1.6399372749330114, 24.06423819421051, 7.6121...   \n",
       "\n",
       "                                              torque    energy  \n",
       "0  [-0.19864506075348648, -0.05785907726551297, 0... -0.195967  \n",
       "1  [0.0625343496634099, -0.07642257759990848, 0.0... -0.056166  \n",
       "2  [0.006422419569839462, -0.014112954285625152, ... -0.032263  \n",
       "3  [0.0025744572667161444, -0.029960162407120926,... -0.039252  \n",
       "4  [15.45295407059379, -1.2129844967406687, -0.66... -1.011747  "
      ]
     },
     "execution_count": 92,
     "metadata": {},
     "output_type": "execute_result"
    }
   ],
   "source": [
    "new_traj_df.head()"
   ]
  },
  {
   "cell_type": "code",
   "execution_count": 95,
   "id": "063dec1c-6a11-4bdb-9d82-1b200816f653",
   "metadata": {},
   "outputs": [],
   "source": [
    "target_datapath=\"/home/marjan/Documents/code-base/ml_datasets/pps_pair\"\n",
    "\n",
    "new_traj_df.to_pickle(os.path.join(target_datapath, \"raw.pkl\"))\n",
    "test_frac = 0.1\n",
    "val_frac = 0.1\n",
    "\n",
    "dataset_len = new_traj_df.shape[0]\n",
    "test_len = int(dataset_len * test_frac)\n",
    "val_len = int(dataset_len * val_frac)\n",
    "\n",
    "test_df = new_traj_df.iloc[:test_len]\n",
    "\n",
    "val_df = new_traj_df.iloc[test_len: test_len + val_len]\n",
    "\n",
    "train_df = new_traj_df.iloc[test_len + val_len:]\n"
   ]
  },
  {
   "cell_type": "code",
   "execution_count": 96,
   "id": "41da000a-b639-4e80-9a2e-c9dc8b343a47",
   "metadata": {},
   "outputs": [],
   "source": [
    "train_df.to_pickle(os.path.join(target_datapath, 'train.pkl'))\n",
    "val_df.to_pickle(os.path.join(target_datapath, 'val.pkl'))\n",
    "test_df.to_pickle(os.path.join(target_datapath, 'test.pkl'))"
   ]
  },
  {
   "cell_type": "code",
   "execution_count": 97,
   "id": "3eeeebd3-7ae7-4524-bcd2-37ce10de802f",
   "metadata": {},
   "outputs": [
    {
     "name": "stdout",
     "output_type": "stream",
     "text": [
      "(655, 9)\n"
     ]
    }
   ],
   "source": [
    "print(test_df.shape)"
   ]
  },
  {
   "cell_type": "code",
   "execution_count": 98,
   "id": "049ae310-38be-478b-905e-835e4eae4295",
   "metadata": {},
   "outputs": [
    {
     "name": "stdout",
     "output_type": "stream",
     "text": [
      "(655, 9)\n"
     ]
    }
   ],
   "source": [
    "print(val_df.shape)"
   ]
  },
  {
   "cell_type": "code",
   "execution_count": 99,
   "id": "30c8606a-504d-40a1-b820-0e6d8031c4ac",
   "metadata": {},
   "outputs": [
    {
     "name": "stdout",
     "output_type": "stream",
     "text": [
      "(5244, 9)\n"
     ]
    }
   ],
   "source": [
    "print(train_df.shape)"
   ]
  },
  {
   "cell_type": "code",
   "execution_count": null,
   "id": "48b210bd-a9f9-421c-b984-6ba6de8699dd",
   "metadata": {},
   "outputs": [],
   "source": []
  }
 ],
 "metadata": {
  "kernelspec": {
   "display_name": "Python 3 (ipykernel)",
   "language": "python",
   "name": "python3"
  },
  "language_info": {
   "codemirror_mode": {
    "name": "ipython",
    "version": 3
   },
   "file_extension": ".py",
   "mimetype": "text/x-python",
   "name": "python",
   "nbconvert_exporter": "python",
   "pygments_lexer": "ipython3",
   "version": "3.11.7"
  }
 },
 "nbformat": 4,
 "nbformat_minor": 5
}
