{
 "cells": [
  {
   "cell_type": "code",
   "execution_count": 3,
   "id": "49c202d8-33ed-4ad0-9746-f948d1bbe4f6",
   "metadata": {},
   "outputs": [],
   "source": [
    "from flowermd.library import PPS, OPLS_AA_PPS\n",
    "from flowermd.base import Pack,  Simulation\n",
    "import hoomd\n",
    "\n",
    "import numpy as np\n",
    "import gsd.hoomd\n",
    "\n",
    "import warnings\n",
    "warnings.filterwarnings('ignore')"
   ]
  },
  {
   "cell_type": "code",
   "execution_count": 11,
   "id": "0e433e83-ca76-4eb9-910d-b6c48e53c518",
   "metadata": {},
   "outputs": [],
   "source": [
    "num_mols = 20"
   ]
  },
  {
   "cell_type": "markdown",
   "id": "ccd1861e-e112-4d21-bbc3-2cc6783e7626",
   "metadata": {},
   "source": [
    "## Initialize the rigid frame (run once only if num_mols changed)"
   ]
  },
  {
   "cell_type": "code",
   "execution_count": 12,
   "id": "878e4296-8ef4-4a86-9a3f-632556ecf918",
   "metadata": {},
   "outputs": [
    {
     "name": "stdout",
     "output_type": "stream",
     "text": [
      "No charged group detected, skipping electrostatics.\n"
     ]
    }
   ],
   "source": [
    "pps = PPS(num_mols=num_mols, lengths=1)\n",
    "system = Pack(molecules=pps, density=0.5,packing_expand_factor=3)\n",
    "system.apply_forcefield(r_cut=2.5, force_field=OPLS_AA_PPS(), auto_scale=True, remove_charges=True, scale_charges=True, remove_hydrogens=True)\n",
    "pps_ff = system.hoomd_forcefield"
   ]
  },
  {
   "cell_type": "code",
   "execution_count": 13,
   "id": "27b8675b-474c-46e3-9cb1-020c35f1d641",
   "metadata": {},
   "outputs": [],
   "source": [
    "system.to_gsd(\"assets/pps_aa_N{}.gsd\".format(num_mols))"
   ]
  },
  {
   "cell_type": "code",
   "execution_count": 14,
   "id": "81071a8a-4d8d-429d-afbb-2cb8a5d8ec51",
   "metadata": {},
   "outputs": [],
   "source": [
    "\n",
    "aa_frame = gsd.hoomd.open(\"assets/pps_aa_N{}.gsd\".format(num_mols))[0]\n",
    "positions = aa_frame.particles.position\n",
    "# indices of constituent particles\n",
    "constituent_indx = [np.arange(7) + (i*7) for i in range(num_mols) ]\n",
    "\n",
    "\n",
    "com_mass = []\n",
    "com_positions = []\n",
    "\n",
    "for indx in constituent_indx:\n",
    "    total_mass = np.sum(aa_frame.particles.mass[indx])\n",
    "    com_mass.append(total_mass)\n",
    "    com_positions.append(\n",
    "                np.sum(\n",
    "                    aa_frame.particles.position[indx]\n",
    "                    * aa_frame.particles.mass[indx, np.newaxis],\n",
    "                    axis=0,\n",
    "                )\n",
    "                / total_mass\n",
    "            )\n",
    "\n",
    "\n",
    "rel_const_pos =  positions[constituent_indx[0]] - com_positions[0]"
   ]
  },
  {
   "cell_type": "code",
   "execution_count": 15,
   "id": "7c79f3de-dfc2-43c3-8e6c-494c1362b7e7",
   "metadata": {},
   "outputs": [],
   "source": [
    "const_particle_types = list(np.asarray(aa_frame.particles.types)[list(aa_frame.particles.typeid)][constituent_indx[0]])"
   ]
  },
  {
   "cell_type": "code",
   "execution_count": 16,
   "id": "dff0f34c-39d4-405a-b843-10656a12c85a",
   "metadata": {},
   "outputs": [
    {
     "data": {
      "text/plain": [
       "16.17887"
      ]
     },
     "execution_count": 16,
     "metadata": {},
     "output_type": "execute_result"
    }
   ],
   "source": [
    "L = system.hoomd_snapshot.configuration.box[0]\n",
    "L"
   ]
  },
  {
   "cell_type": "code",
   "execution_count": 17,
   "id": "4ac22e73-ac94-4b93-964d-0194aa07a7fb",
   "metadata": {},
   "outputs": [
    {
     "data": {
      "text/plain": [
       "array([0.7980529 , 0.88629776, 0.18916835], dtype=float32)"
      ]
     },
     "execution_count": 17,
     "metadata": {},
     "output_type": "execute_result"
    }
   ],
   "source": [
    "sample_rigid_lattice = gsd.hoomd.open('assets/pps_rigid_lattice_100.gsd')[0]\n",
    "I = sample_rigid_lattice.particles.moment_inertia[0]\n",
    "I"
   ]
  },
  {
   "cell_type": "code",
   "execution_count": 18,
   "id": "aa8a4ba3-d71e-4679-b1d2-c61ec05b1fef",
   "metadata": {},
   "outputs": [],
   "source": [
    "# create the init rigid lattice\n",
    "\n",
    "rigid_frame = gsd.hoomd.Frame()\n",
    "rigid_frame.particles.types = ['rigid', 'ca', 'sh']\n",
    "\n",
    "N_rigid = len(com_mass)\n",
    "rigid_frame.particles.N = N_rigid\n",
    "rigid_frame.particles.position = com_positions\n",
    "rigid_frame.particles.typeid = [0] * N_rigid\n",
    "rigid_frame.configuration.box = [L, L, L, 0, 0, 0]\n",
    "rigid_frame.particles.mass = com_mass\n",
    "rigid_frame.particles.moment_inertia = np.tile(I, (N_rigid, 1))\n",
    "rigid_frame.particles.orientation = [(1, 0, 0, 0)] * N_rigid\n",
    "\n",
    "rigid = hoomd.md.constrain.Rigid()\n",
    "rigid.body['rigid'] = {\n",
    "    \"constituent_types\":const_particle_types,\n",
    "    \"positions\": rel_const_pos,\n",
    "    \"orientations\": [(1.0, 0.0, 0.0, 0.0)]* len(rel_const_pos),\n",
    "    }\n",
    "simulation = hoomd.Simulation(device=hoomd.device.CPU(), seed=4)\n",
    "simulation.create_state_from_snapshot(rigid_frame)\n",
    "\n",
    "rigid.create_bodies(simulation.state)\n",
    "integrator = hoomd.md.Integrator(dt=0.005, integrate_rotational_dof=True)\n",
    "integrator.rigid = rigid\n",
    "simulation.operations.integrator = integrator\n",
    "simulation.run(0)\n",
    "\n",
    "hoomd.write.GSD.write(state=simulation.state, mode='wb', filename='assets/pps_rigid_lattice_{}.gsd'.format(num_mols))"
   ]
  },
  {
   "cell_type": "code",
   "execution_count": 19,
   "id": "59860316-d188-4682-b6f7-f05ae534464c",
   "metadata": {},
   "outputs": [
    {
     "data": {
      "text/plain": [
       "20"
      ]
     },
     "execution_count": 19,
     "metadata": {},
     "output_type": "execute_result"
    }
   ],
   "source": [
    "N_rigid"
   ]
  },
  {
   "cell_type": "markdown",
   "id": "94715ffd-be0a-4d83-a9ff-67bcf7eb8913",
   "metadata": {},
   "source": [
    "### Run rigid simulations"
   ]
  },
  {
   "cell_type": "code",
   "execution_count": 20,
   "id": "ebf3525b-966d-43a8-8a14-3f8e1ffec9f1",
   "metadata": {},
   "outputs": [],
   "source": [
    "def create_rigid_simulation(kT, num_mols):\n",
    "    rigid_simulation = hoomd.Simulation(device=hoomd.device.auto_select(), seed=1)\n",
    "    rigid_simulation.create_state_from_gsd(filename='assets/pps_rigid_lattice_{}.gsd'.format(num_mols))\n",
    "    const_particle_types = list(np.asarray(aa_frame.particles.types)[list(aa_frame.particles.typeid)][constituent_indx[0]])\n",
    "\n",
    "    rigid = hoomd.md.constrain.Rigid()\n",
    "    rigid.body['rigid'] = {\n",
    "        \"constituent_types\":const_particle_types,\n",
    "        \"positions\": rel_const_pos,\n",
    "        \"orientations\": [(1.0, 0.0, 0.0, 0.0)]* len(rel_const_pos),\n",
    "        }\n",
    "    integrator = hoomd.md.Integrator(dt=0.005, integrate_rotational_dof=True)\n",
    "    rigid_simulation.operations.integrator = integrator\n",
    "    integrator.rigid = rigid\n",
    "    rigid_centers_and_free = hoomd.filter.Rigid((\"center\", \"free\"))\n",
    "    nvt = hoomd.md.methods.ConstantVolume(\n",
    "        filter=rigid_centers_and_free,\n",
    "        thermostat=hoomd.md.methods.thermostats.Bussi(kT=kT))\n",
    "    integrator.methods.append(nvt)\n",
    "    \n",
    "    cell = hoomd.md.nlist.Cell(buffer=0, exclusions=['body'])\n",
    "    \n",
    "    lj = hoomd.md.pair.LJ(nlist=cell)\n",
    "    \n",
    "    # use aa pps simulation to define lj and special lj forces between constituent particles\n",
    "    for k, v in dict(pps_ff[0].params).items():\n",
    "        lj.params[k] = v\n",
    "        lj.r_cut[k] = 2.5\n",
    "    \n",
    "    lj.params[('rigid', ['rigid', 'ca', 'sh'])]= dict(epsilon=0, sigma=0)\n",
    "    lj.r_cut[('rigid', ['rigid', 'ca', 'sh'])] = 0\n",
    "\n",
    "    integrator.forces.append(lj)\n",
    "    rigid_simulation.state.thermalize_particle_momenta(filter=rigid_centers_and_free,\n",
    "                                             kT=kT)\n",
    "    \n",
    "    rigid_simulation.run(0)\n",
    "\n",
    "    log_quantities = [\n",
    "                        \"kinetic_temperature\",\n",
    "                        \"potential_energy\",\n",
    "                        \"kinetic_energy\",\n",
    "                        \"volume\",\n",
    "                        \"pressure\",\n",
    "                        \"pressure_tensor\",\n",
    "                    ]\n",
    "    logger = hoomd.logging.Logger(categories=[\"scalar\", \"string\", \"particle\"])\n",
    "    logger.add(rigid_simulation, quantities=[\"timestep\", \"tps\"])\n",
    "    thermo_props = hoomd.md.compute.ThermodynamicQuantities(filter=hoomd.filter.All())\n",
    "    rigid_simulation.operations.computes.append(thermo_props)\n",
    "    logger.add(thermo_props, quantities=log_quantities)\n",
    "    \n",
    "    # for f in integrator.forces:\n",
    "    #     logger.add(f, quantities=[\"energy\", \"forces\", \"energies\"])\n",
    "\n",
    "    logger.add(rigid_simulation.operations.integrator.rigid, quantities=[\"torques\", \"forces\", \"energies\"])\n",
    "    \n",
    "    gsd_writer = hoomd.write.GSD(\n",
    "        filename=\"logs/pps_{}/trajectory_{}.gsd\".format(num_mols, kT),\n",
    "        trigger=hoomd.trigger.Periodic(int(100)),\n",
    "        mode=\"wb\",\n",
    "        logger=logger,\n",
    "        filter=hoomd.filter.All(),\n",
    "        dynamic=[\"momentum\", \"property\"]\n",
    "        )\n",
    "    \n",
    "    rigid_simulation.operations.writers.append(gsd_writer)\n",
    "    return rigid_simulation\n",
    "\n",
    "    \n"
   ]
  },
  {
   "cell_type": "code",
   "execution_count": 21,
   "id": "860121e6-6e21-4c0b-8a48-354dde0a6caf",
   "metadata": {},
   "outputs": [],
   "source": [
    "kT_list = [1., 1.5, 2., 3., 6.0]\n",
    "for kT in kT_list:\n",
    "    rigid_simulation = create_rigid_simulation(kT, num_mols=num_mols)\n",
    "    rigid_simulation.run(2e5)\n",
    "    rigid_simulation.operations.writers[0].flush()"
   ]
  },
  {
   "cell_type": "markdown",
   "id": "bbc50872-e35f-400a-aad6-e41a86fa90a9",
   "metadata": {},
   "source": [
    "## Read trajectories and gather samples"
   ]
  },
  {
   "cell_type": "code",
   "execution_count": 22,
   "id": "fa1faf0a-4611-4458-a069-254b779e2926",
   "metadata": {},
   "outputs": [],
   "source": [
    "all_frames = []\n",
    "for kT in kT_list:\n",
    "    traj = gsd.hoomd.open(\"logs/pps_{}/trajectory_{}.gsd\".format(num_mols, kT))\n",
    "    for frame in traj:\n",
    "        all_frames.append(frame)"
   ]
  },
  {
   "cell_type": "code",
   "execution_count": 23,
   "id": "47ccbed5-c0d6-4ec8-ab35-a735a162dc22",
   "metadata": {},
   "outputs": [],
   "source": [
    "zero_energy_frames = []\n",
    "for i, f in enumerate(all_frames):\n",
    "    if f.log['md/compute/ThermodynamicQuantities/potential_energy'][0] == 0:\n",
    "        zero_energy_frames.append(i)"
   ]
  },
  {
   "cell_type": "code",
   "execution_count": 30,
   "id": "a50a2270-ece4-409d-9947-c41ba941adf4",
   "metadata": {},
   "outputs": [
    {
     "data": {
      "text/plain": [
       "3"
      ]
     },
     "execution_count": 30,
     "metadata": {},
     "output_type": "execute_result"
    }
   ],
   "source": [
    "len(zero_energy_frames)"
   ]
  },
  {
   "cell_type": "code",
   "execution_count": 31,
   "id": "903ee001-2546-4a7a-9f9f-b7db59b6de69",
   "metadata": {},
   "outputs": [
    {
     "data": {
      "text/plain": [
       "16.17887"
      ]
     },
     "execution_count": 31,
     "metadata": {},
     "output_type": "execute_result"
    }
   ],
   "source": [
    "L = all_frames[0].configuration.box[0]\n",
    "L"
   ]
  },
  {
   "cell_type": "code",
   "execution_count": 32,
   "id": "3a309cb7-af21-4b1c-a13b-9043031a6f1c",
   "metadata": {},
   "outputs": [],
   "source": [
    "import freud\n",
    "def find_neighbors(points, L, NN=10):\n",
    "    box = freud.box.Box.cube(L)\n",
    "    aq = freud.locality.AABBQuery(box, points)\n",
    "\n",
    "    query_points = points\n",
    "    query_result = aq.query(query_points, dict(num_neighbors=NN, exclude_ii=True))\n",
    "    nlist = query_result.toNeighborList()\n",
    "    neighbor_list = np.asarray(list(zip(nlist.query_point_indices, nlist.point_indices)))\n",
    "    return neighbor_list\n",
    "    \n",
    "    "
   ]
  },
  {
   "cell_type": "markdown",
   "id": "b6322f0e-701a-4c56-88cf-cd87e0eb4cf7",
   "metadata": {},
   "source": [
    "## Creating dataset"
   ]
  },
  {
   "cell_type": "code",
   "execution_count": 33,
   "id": "9f545747-8a65-4ac2-a1fa-f28f4819fa94",
   "metadata": {},
   "outputs": [
    {
     "data": {
      "text/plain": [
       "20"
      ]
     },
     "execution_count": 33,
     "metadata": {},
     "output_type": "execute_result"
    }
   ],
   "source": [
    "N_rigid"
   ]
  },
  {
   "cell_type": "code",
   "execution_count": 34,
   "id": "a4970d1d-c5e6-43a1-94cb-61017205dc99",
   "metadata": {},
   "outputs": [],
   "source": [
    "positions = []\n",
    "neighbor_lists = []\n",
    "orientations = []\n",
    "forces = []\n",
    "torques = []\n",
    "energies = []\n",
    "for frame in all_frames:\n",
    "    frame_positions = frame.particles.position[:N_rigid]\n",
    "    neighbor_lists.append(find_neighbors(frame_positions,L=L))\n",
    "    positions.append(frame_positions)\n",
    "    orientations.append(frame.particles.orientation[:N_rigid])\n",
    "    forces.append(frame.log['particles/md/constrain/Rigid/forces'][:N_rigid])\n",
    "    torques.append(frame.log['particles/md/constrain/Rigid/torques'][:N_rigid])\n",
    "    energies.append(frame.log['particles/md/constrain/Rigid/energies'][:N_rigid])"
   ]
  },
  {
   "cell_type": "code",
   "execution_count": 35,
   "id": "836b4679-1461-4563-abb4-a8dab5fa28e4",
   "metadata": {},
   "outputs": [],
   "source": [
    "import rowan\n",
    "orientations_R = rowan.to_matrix(orientations)"
   ]
  },
  {
   "cell_type": "code",
   "execution_count": 36,
   "id": "1390e596-caac-4dbb-8ac1-2e0e5fd2b782",
   "metadata": {},
   "outputs": [],
   "source": [
    "import pandas as pd\n",
    "columns = [\n",
    "    \"position\",\n",
    "    \"orientation_q\",\n",
    "    \"orientation_R\", \n",
    "    \"force\",\n",
    "    \"torque\",\n",
    "    \"energy\",\n",
    "    \"neighbor_list\"\n",
    "]\n",
    "\n",
    "new_traj_df = pd.DataFrame(columns=columns)\n",
    "new_traj_df[\"position\"] =positions\n",
    "new_traj_df[\"orientation_q\"] = orientations\n",
    "new_traj_df[\"orientation_R\"] = orientations_R.tolist()\n",
    "new_traj_df[\"force\"] = forces\n",
    "new_traj_df[\"torque\"] = torques\n",
    "new_traj_df[\"energy\"] = energies\n",
    "new_traj_df[\"neighbor_list\"] = neighbor_lists"
   ]
  },
  {
   "cell_type": "code",
   "execution_count": 39,
   "id": "1301b27d-9c58-4ee2-94ed-ebbbb5350505",
   "metadata": {},
   "outputs": [
    {
     "data": {
      "text/html": [
       "<div>\n",
       "<style scoped>\n",
       "    .dataframe tbody tr th:only-of-type {\n",
       "        vertical-align: middle;\n",
       "    }\n",
       "\n",
       "    .dataframe tbody tr th {\n",
       "        vertical-align: top;\n",
       "    }\n",
       "\n",
       "    .dataframe thead th {\n",
       "        text-align: right;\n",
       "    }\n",
       "</style>\n",
       "<table border=\"1\" class=\"dataframe\">\n",
       "  <thead>\n",
       "    <tr style=\"text-align: right;\">\n",
       "      <th></th>\n",
       "      <th>position</th>\n",
       "      <th>orientation_q</th>\n",
       "      <th>orientation_R</th>\n",
       "      <th>force</th>\n",
       "      <th>torque</th>\n",
       "      <th>energy</th>\n",
       "      <th>neighbor_list</th>\n",
       "    </tr>\n",
       "  </thead>\n",
       "  <tbody>\n",
       "    <tr>\n",
       "      <th>0</th>\n",
       "      <td>[[-7.0045786, -1.3044931, 2.724815], [6.178810...</td>\n",
       "      <td>[[0.99994755, -0.0052401405, -0.0041892626, 0....</td>\n",
       "      <td>[[[0.9998452067375183, -0.01542622409760952, -...</td>\n",
       "      <td>[[0.0, 0.0, 0.0], [0.0, 0.0, 0.0], [0.02055119...</td>\n",
       "      <td>[[0.0, 0.0, 0.0], [0.0, 0.0, 0.0], [0.01530792...</td>\n",
       "      <td>[0.0, 0.0, -0.023841660400872017, -1.911377460...</td>\n",
       "      <td>[[0, 1], [0, 2], [0, 4], [0, 5], [0, 8], [0, 1...</td>\n",
       "    </tr>\n",
       "    <tr>\n",
       "      <th>1</th>\n",
       "      <td>[[-7.0041194, -1.3042572, 2.7254841], [6.17897...</td>\n",
       "      <td>[[0.9999236, -0.0063338433, -0.0050510275, 0.0...</td>\n",
       "      <td>[[[0.9997746348381042, -0.018608393147587776, ...</td>\n",
       "      <td>[[0.0, 0.0, 0.0], [0.0, 0.0, 0.0], [-0.0155353...</td>\n",
       "      <td>[[0.0, 0.0, 0.0], [0.0, 0.0, 0.0], [0.01242786...</td>\n",
       "      <td>[0.0, 0.0, -0.03920158068560585, -1.8101502849...</td>\n",
       "      <td>[[0, 1], [0, 2], [0, 4], [0, 5], [0, 8], [0, 1...</td>\n",
       "    </tr>\n",
       "    <tr>\n",
       "      <th>2</th>\n",
       "      <td>[[-7.0036864, -1.304035, 2.7261145], [6.179132...</td>\n",
       "      <td>[[0.99989617, -0.0073926, -0.005881182, 0.0108...</td>\n",
       "      <td>[[[0.9996939301490784, -0.021676652133464813, ...</td>\n",
       "      <td>[[0.0, 0.0, 0.0], [0.0, 0.0, 0.0], [-0.0360869...</td>\n",
       "      <td>[[0.0, 0.0, 0.0], [0.0, 0.0, 0.0], [0.00086050...</td>\n",
       "      <td>[0.0, 0.0, -0.0585577012683685, -3.20102351362...</td>\n",
       "      <td>[[0, 1], [0, 2], [0, 4], [0, 5], [0, 8], [0, 1...</td>\n",
       "    </tr>\n",
       "    <tr>\n",
       "      <th>3</th>\n",
       "      <td>[[-7.003288, -1.3038301, 2.7266958], [6.179276...</td>\n",
       "      <td>[[0.9998671, -0.008373184, -0.0066464925, 0.01...</td>\n",
       "      <td>[[[0.9996085166931152, -0.02450767159461975, -...</td>\n",
       "      <td>[[0.0, 0.0, 0.0], [0.0, 0.0, 0.0], [-0.1056885...</td>\n",
       "      <td>[[0.0, 0.0, 0.0], [0.0, 0.0, 0.0], [0.02728370...</td>\n",
       "      <td>[0.0, 0.0, -0.09599390387622062, -3.0758339830...</td>\n",
       "      <td>[[0, 1], [0, 2], [0, 4], [0, 5], [0, 8], [0, 1...</td>\n",
       "    </tr>\n",
       "    <tr>\n",
       "      <th>4</th>\n",
       "      <td>[[-7.002903, -1.3036326, 2.7272563], [6.179415...</td>\n",
       "      <td>[[0.99983585, -0.0093147075, -0.007378127, 0.0...</td>\n",
       "      <td>[[[0.9995169043540955, -0.02721627615392208, -...</td>\n",
       "      <td>[[0.0, 0.0, 0.0], [0.0, 0.0, 0.0], [-0.3698406...</td>\n",
       "      <td>[[0.0, 0.0, 0.0], [0.0, 0.0, 0.0], [0.06062873...</td>\n",
       "      <td>[0.0, 0.0, -0.1641128055353831, -4.12905343394...</td>\n",
       "      <td>[[0, 1], [0, 2], [0, 5], [0, 7], [0, 8], [0, 1...</td>\n",
       "    </tr>\n",
       "  </tbody>\n",
       "</table>\n",
       "</div>"
      ],
      "text/plain": [
       "                                            position  \\\n",
       "0  [[-7.0045786, -1.3044931, 2.724815], [6.178810...   \n",
       "1  [[-7.0041194, -1.3042572, 2.7254841], [6.17897...   \n",
       "2  [[-7.0036864, -1.304035, 2.7261145], [6.179132...   \n",
       "3  [[-7.003288, -1.3038301, 2.7266958], [6.179276...   \n",
       "4  [[-7.002903, -1.3036326, 2.7272563], [6.179415...   \n",
       "\n",
       "                                       orientation_q  \\\n",
       "0  [[0.99994755, -0.0052401405, -0.0041892626, 0....   \n",
       "1  [[0.9999236, -0.0063338433, -0.0050510275, 0.0...   \n",
       "2  [[0.99989617, -0.0073926, -0.005881182, 0.0108...   \n",
       "3  [[0.9998671, -0.008373184, -0.0066464925, 0.01...   \n",
       "4  [[0.99983585, -0.0093147075, -0.007378127, 0.0...   \n",
       "\n",
       "                                       orientation_R  \\\n",
       "0  [[[0.9998452067375183, -0.01542622409760952, -...   \n",
       "1  [[[0.9997746348381042, -0.018608393147587776, ...   \n",
       "2  [[[0.9996939301490784, -0.021676652133464813, ...   \n",
       "3  [[[0.9996085166931152, -0.02450767159461975, -...   \n",
       "4  [[[0.9995169043540955, -0.02721627615392208, -...   \n",
       "\n",
       "                                               force  \\\n",
       "0  [[0.0, 0.0, 0.0], [0.0, 0.0, 0.0], [0.02055119...   \n",
       "1  [[0.0, 0.0, 0.0], [0.0, 0.0, 0.0], [-0.0155353...   \n",
       "2  [[0.0, 0.0, 0.0], [0.0, 0.0, 0.0], [-0.0360869...   \n",
       "3  [[0.0, 0.0, 0.0], [0.0, 0.0, 0.0], [-0.1056885...   \n",
       "4  [[0.0, 0.0, 0.0], [0.0, 0.0, 0.0], [-0.3698406...   \n",
       "\n",
       "                                              torque  \\\n",
       "0  [[0.0, 0.0, 0.0], [0.0, 0.0, 0.0], [0.01530792...   \n",
       "1  [[0.0, 0.0, 0.0], [0.0, 0.0, 0.0], [0.01242786...   \n",
       "2  [[0.0, 0.0, 0.0], [0.0, 0.0, 0.0], [0.00086050...   \n",
       "3  [[0.0, 0.0, 0.0], [0.0, 0.0, 0.0], [0.02728370...   \n",
       "4  [[0.0, 0.0, 0.0], [0.0, 0.0, 0.0], [0.06062873...   \n",
       "\n",
       "                                              energy  \\\n",
       "0  [0.0, 0.0, -0.023841660400872017, -1.911377460...   \n",
       "1  [0.0, 0.0, -0.03920158068560585, -1.8101502849...   \n",
       "2  [0.0, 0.0, -0.0585577012683685, -3.20102351362...   \n",
       "3  [0.0, 0.0, -0.09599390387622062, -3.0758339830...   \n",
       "4  [0.0, 0.0, -0.1641128055353831, -4.12905343394...   \n",
       "\n",
       "                                       neighbor_list  \n",
       "0  [[0, 1], [0, 2], [0, 4], [0, 5], [0, 8], [0, 1...  \n",
       "1  [[0, 1], [0, 2], [0, 4], [0, 5], [0, 8], [0, 1...  \n",
       "2  [[0, 1], [0, 2], [0, 4], [0, 5], [0, 8], [0, 1...  \n",
       "3  [[0, 1], [0, 2], [0, 4], [0, 5], [0, 8], [0, 1...  \n",
       "4  [[0, 1], [0, 2], [0, 5], [0, 7], [0, 8], [0, 1...  "
      ]
     },
     "execution_count": 39,
     "metadata": {},
     "output_type": "execute_result"
    }
   ],
   "source": [
    "new_traj_df.head()"
   ]
  },
  {
   "cell_type": "code",
   "execution_count": 40,
   "id": "f03510c0-43e6-4c51-b494-92b5102f3854",
   "metadata": {},
   "outputs": [],
   "source": [
    "new_traj_df = new_traj_df.sample(frac=1).reset_index(drop=True)# shuffle dataset"
   ]
  },
  {
   "cell_type": "code",
   "execution_count": 41,
   "id": "5c9881dd-1d4e-4fb8-9c29-2889630c9a88",
   "metadata": {
    "scrolled": true
   },
   "outputs": [
    {
     "data": {
      "text/html": [
       "<div>\n",
       "<style scoped>\n",
       "    .dataframe tbody tr th:only-of-type {\n",
       "        vertical-align: middle;\n",
       "    }\n",
       "\n",
       "    .dataframe tbody tr th {\n",
       "        vertical-align: top;\n",
       "    }\n",
       "\n",
       "    .dataframe thead th {\n",
       "        text-align: right;\n",
       "    }\n",
       "</style>\n",
       "<table border=\"1\" class=\"dataframe\">\n",
       "  <thead>\n",
       "    <tr style=\"text-align: right;\">\n",
       "      <th></th>\n",
       "      <th>position</th>\n",
       "      <th>orientation_q</th>\n",
       "      <th>orientation_R</th>\n",
       "      <th>force</th>\n",
       "      <th>torque</th>\n",
       "      <th>energy</th>\n",
       "      <th>neighbor_list</th>\n",
       "    </tr>\n",
       "  </thead>\n",
       "  <tbody>\n",
       "    <tr>\n",
       "      <th>0</th>\n",
       "      <td>[[7.854781, 6.167966, -0.7061468], [7.5920525,...</td>\n",
       "      <td>[[0.11804035, -0.60454106, -0.47542, 0.62815],...</td>\n",
       "      <td>[[[-0.24119317531585693, 0.426527738571167, -0...</td>\n",
       "      <td>[[-0.032560537020126984, -0.13845078508830252,...</td>\n",
       "      <td>[[-0.07438335204394497, 0.019590239308743214, ...</td>\n",
       "      <td>[-0.03774833448930359, -0.04221207358538921, -...</td>\n",
       "      <td>[[0, 1], [0, 4], [0, 5], [0, 6], [0, 7], [0, 8...</td>\n",
       "    </tr>\n",
       "    <tr>\n",
       "      <th>1</th>\n",
       "      <td>[[0.22756346, -4.7955, -3.471893], [-1.4018935...</td>\n",
       "      <td>[[0.32330945, 0.041396655, 0.7658222, -0.55432...</td>\n",
       "      <td>[[[-0.7875146865844727, 0.4218405485153198, 0....</td>\n",
       "      <td>[[0.370507607549505, 0.10323729625758868, -0.2...</td>\n",
       "      <td>[[0.041219509396868165, 0.02397787898171705, 0...</td>\n",
       "      <td>[-0.07743759242525616, 0.0, 0.0, 0.0, 0.0, 0.0...</td>\n",
       "      <td>[[0, 1], [0, 3], [0, 4], [0, 6], [0, 9], [0, 1...</td>\n",
       "    </tr>\n",
       "    <tr>\n",
       "      <th>2</th>\n",
       "      <td>[[-7.54575, -1.6433389, 1.075051], [1.4806558,...</td>\n",
       "      <td>[[0.16604911, -0.35739535, 0.64561695, -0.6541...</td>\n",
       "      <td>[[[-0.6893925666809082, -0.2442483901977539, 0...</td>\n",
       "      <td>[[0.0, 0.0, 0.0], [0.8571618310187806, 1.71738...</td>\n",
       "      <td>[[0.0, 0.0, 0.0], [0.39588658552552547, 0.8876...</td>\n",
       "      <td>[0.0, -0.728097138442475, 0.0, -0.289011339583...</td>\n",
       "      <td>[[0, 1], [0, 2], [0, 3], [0, 6], [0, 9], [0, 1...</td>\n",
       "    </tr>\n",
       "    <tr>\n",
       "      <th>3</th>\n",
       "      <td>[[-7.157117, 0.8397648, -5.1161566], [1.615308...</td>\n",
       "      <td>[[0.54380304, -0.21196893, -0.18667746, 0.7902...</td>\n",
       "      <td>[[[-0.31869494915008545, -0.780343770980835, -...</td>\n",
       "      <td>[[-2.326207722273832, -3.626828347039404, 2.19...</td>\n",
       "      <td>[[0.621549248081565, 3.088407610462429, 2.5136...</td>\n",
       "      <td>[-2.0758235497750044, 0.0, -0.5556876245684912...</td>\n",
       "      <td>[[0, 1], [0, 2], [0, 3], [0, 5], [0, 6], [0, 7...</td>\n",
       "    </tr>\n",
       "    <tr>\n",
       "      <th>4</th>\n",
       "      <td>[[-1.9040401, -6.1461205, 8.032636], [-3.00553...</td>\n",
       "      <td>[[-0.04731683, 0.94606555, 0.30789527, -0.0890...</td>\n",
       "      <td>[[[0.7945578098297119, 0.5741555094718933, -0....</td>\n",
       "      <td>[[-2.025868625900227, 1.1573963471488213, 1.14...</td>\n",
       "      <td>[[-0.19886329238592673, -0.8160485266254588, 0...</td>\n",
       "      <td>[-0.437515274623962, -0.010559791687052166, -1...</td>\n",
       "      <td>[[0, 1], [0, 2], [0, 3], [0, 4], [0, 7], [0, 1...</td>\n",
       "    </tr>\n",
       "  </tbody>\n",
       "</table>\n",
       "</div>"
      ],
      "text/plain": [
       "                                            position  \\\n",
       "0  [[7.854781, 6.167966, -0.7061468], [7.5920525,...   \n",
       "1  [[0.22756346, -4.7955, -3.471893], [-1.4018935...   \n",
       "2  [[-7.54575, -1.6433389, 1.075051], [1.4806558,...   \n",
       "3  [[-7.157117, 0.8397648, -5.1161566], [1.615308...   \n",
       "4  [[-1.9040401, -6.1461205, 8.032636], [-3.00553...   \n",
       "\n",
       "                                       orientation_q  \\\n",
       "0  [[0.11804035, -0.60454106, -0.47542, 0.62815],...   \n",
       "1  [[0.32330945, 0.041396655, 0.7658222, -0.55432...   \n",
       "2  [[0.16604911, -0.35739535, 0.64561695, -0.6541...   \n",
       "3  [[0.54380304, -0.21196893, -0.18667746, 0.7902...   \n",
       "4  [[-0.04731683, 0.94606555, 0.30789527, -0.0890...   \n",
       "\n",
       "                                       orientation_R  \\\n",
       "0  [[[-0.24119317531585693, 0.426527738571167, -0...   \n",
       "1  [[[-0.7875146865844727, 0.4218405485153198, 0....   \n",
       "2  [[[-0.6893925666809082, -0.2442483901977539, 0...   \n",
       "3  [[[-0.31869494915008545, -0.780343770980835, -...   \n",
       "4  [[[0.7945578098297119, 0.5741555094718933, -0....   \n",
       "\n",
       "                                               force  \\\n",
       "0  [[-0.032560537020126984, -0.13845078508830252,...   \n",
       "1  [[0.370507607549505, 0.10323729625758868, -0.2...   \n",
       "2  [[0.0, 0.0, 0.0], [0.8571618310187806, 1.71738...   \n",
       "3  [[-2.326207722273832, -3.626828347039404, 2.19...   \n",
       "4  [[-2.025868625900227, 1.1573963471488213, 1.14...   \n",
       "\n",
       "                                              torque  \\\n",
       "0  [[-0.07438335204394497, 0.019590239308743214, ...   \n",
       "1  [[0.041219509396868165, 0.02397787898171705, 0...   \n",
       "2  [[0.0, 0.0, 0.0], [0.39588658552552547, 0.8876...   \n",
       "3  [[0.621549248081565, 3.088407610462429, 2.5136...   \n",
       "4  [[-0.19886329238592673, -0.8160485266254588, 0...   \n",
       "\n",
       "                                              energy  \\\n",
       "0  [-0.03774833448930359, -0.04221207358538921, -...   \n",
       "1  [-0.07743759242525616, 0.0, 0.0, 0.0, 0.0, 0.0...   \n",
       "2  [0.0, -0.728097138442475, 0.0, -0.289011339583...   \n",
       "3  [-2.0758235497750044, 0.0, -0.5556876245684912...   \n",
       "4  [-0.437515274623962, -0.010559791687052166, -1...   \n",
       "\n",
       "                                       neighbor_list  \n",
       "0  [[0, 1], [0, 4], [0, 5], [0, 6], [0, 7], [0, 8...  \n",
       "1  [[0, 1], [0, 3], [0, 4], [0, 6], [0, 9], [0, 1...  \n",
       "2  [[0, 1], [0, 2], [0, 3], [0, 6], [0, 9], [0, 1...  \n",
       "3  [[0, 1], [0, 2], [0, 3], [0, 5], [0, 6], [0, 7...  \n",
       "4  [[0, 1], [0, 2], [0, 3], [0, 4], [0, 7], [0, 1...  "
      ]
     },
     "execution_count": 41,
     "metadata": {},
     "output_type": "execute_result"
    }
   ],
   "source": [
    "new_traj_df.head()"
   ]
  },
  {
   "cell_type": "code",
   "execution_count": 43,
   "id": "f1e79a18-a56c-4830-b232-6e9da9d0db96",
   "metadata": {},
   "outputs": [],
   "source": [
    "import os\n",
    "target_datapath=\"/Users/Marjan/Documents/cmelab/aniso_ml_datasets/pps_20\"\n",
    "\n",
    "new_traj_df.to_pickle(os.path.join(target_datapath, \"raw.pkl\"))\n",
    "test_frac = 0.1\n",
    "val_frac = 0.1\n",
    "\n",
    "dataset_len = new_traj_df.shape[0]\n",
    "test_len = int(dataset_len * test_frac)\n",
    "val_len = int(dataset_len * val_frac)\n",
    "\n",
    "test_df = new_traj_df.iloc[:test_len]\n",
    "\n",
    "val_df = new_traj_df.iloc[test_len: test_len + val_len]\n",
    "\n",
    "train_df = new_traj_df.iloc[test_len + val_len:]\n"
   ]
  },
  {
   "cell_type": "code",
   "execution_count": 44,
   "id": "1baba71e-3915-406d-ad77-53af41a27a4f",
   "metadata": {},
   "outputs": [],
   "source": [
    "train_df.to_pickle(os.path.join(target_datapath, 'train.pkl'))\n",
    "val_df.to_pickle(os.path.join(target_datapath, 'val.pkl'))\n",
    "test_df.to_pickle(os.path.join(target_datapath, 'test.pkl'))"
   ]
  },
  {
   "cell_type": "code",
   "execution_count": null,
   "id": "e55de2c8-47ac-4281-a5f6-af027874c644",
   "metadata": {},
   "outputs": [],
   "source": []
  }
 ],
 "metadata": {
  "kernelspec": {
   "display_name": "Python 3 (ipykernel)",
   "language": "python",
   "name": "python3"
  },
  "language_info": {
   "codemirror_mode": {
    "name": "ipython",
    "version": 3
   },
   "file_extension": ".py",
   "mimetype": "text/x-python",
   "name": "python",
   "nbconvert_exporter": "python",
   "pygments_lexer": "ipython3",
   "version": "3.11.6"
  }
 },
 "nbformat": 4,
 "nbformat_minor": 5
}
