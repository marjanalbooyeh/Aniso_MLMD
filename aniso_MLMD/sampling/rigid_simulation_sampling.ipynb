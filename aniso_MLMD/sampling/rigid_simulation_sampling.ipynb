{
 "cells": [
  {
   "cell_type": "code",
   "execution_count": 11,
   "id": "49c202d8-33ed-4ad0-9746-f948d1bbe4f6",
   "metadata": {},
   "outputs": [],
   "source": [
    "from flowermd.library import PPS, OPLS_AA_PPS\n",
    "from flowermd.base import Pack,  Simulation\n",
    "import hoomd\n",
    "\n",
    "import numpy as np\n",
    "import gsd.hoomd\n",
    "\n",
    "import warnings\n",
    "warnings.filterwarnings('ignore')"
   ]
  },
  {
   "cell_type": "code",
   "execution_count": 18,
   "id": "0e433e83-ca76-4eb9-910d-b6c48e53c518",
   "metadata": {},
   "outputs": [],
   "source": [
    "num_mols = 200"
   ]
  },
  {
   "cell_type": "markdown",
   "id": "ccd1861e-e112-4d21-bbc3-2cc6783e7626",
   "metadata": {},
   "source": [
    "## Initialize the rigid frame (run once only if num_mols changed)"
   ]
  },
  {
   "cell_type": "code",
   "execution_count": 19,
   "id": "878e4296-8ef4-4a86-9a3f-632556ecf918",
   "metadata": {},
   "outputs": [
    {
     "name": "stdout",
     "output_type": "stream",
     "text": [
      "No charged group detected, skipping electrostatics.\n"
     ]
    }
   ],
   "source": [
    "pps = PPS(num_mols=num_mols, lengths=1)\n",
    "system = Pack(molecules=pps, density=0.9, packing_expand_factor=7)\n",
    "system.apply_forcefield(r_cut=2.5, force_field=OPLS_AA_PPS(), auto_scale=True, remove_charges=True, scale_charges=True, remove_hydrogens=True)\n",
    "pps_ff = system.hoomd_forcefield"
   ]
  },
  {
   "cell_type": "code",
   "execution_count": 20,
   "id": "27b8675b-474c-46e3-9cb1-020c35f1d641",
   "metadata": {},
   "outputs": [],
   "source": [
    "system.to_gsd(\"assets/pps_aa_N{}.gsd\".format(num_mols))"
   ]
  },
  {
   "cell_type": "code",
   "execution_count": 21,
   "id": "81071a8a-4d8d-429d-afbb-2cb8a5d8ec51",
   "metadata": {},
   "outputs": [],
   "source": [
    "\n",
    "aa_frame = gsd.hoomd.open(\"assets/pps_aa_N{}.gsd\".format(num_mols))[0]\n",
    "positions = aa_frame.particles.position\n",
    "# indices of constituent particles\n",
    "constituent_indx = [np.arange(7) + (i*7) for i in range(num_mols) ]\n",
    "\n",
    "\n",
    "com_mass = []\n",
    "com_positions = []\n",
    "\n",
    "for indx in constituent_indx:\n",
    "    total_mass = np.sum(aa_frame.particles.mass[indx])\n",
    "    com_mass.append(total_mass)\n",
    "    com_positions.append(\n",
    "                np.sum(\n",
    "                    aa_frame.particles.position[indx]\n",
    "                    * aa_frame.particles.mass[indx, np.newaxis],\n",
    "                    axis=0,\n",
    "                )\n",
    "                / total_mass\n",
    "            )\n",
    "\n",
    "\n",
    "rel_const_pos =  positions[constituent_indx[0]] - com_positions[0]"
   ]
  },
  {
   "cell_type": "code",
   "execution_count": 22,
   "id": "7c79f3de-dfc2-43c3-8e6c-494c1362b7e7",
   "metadata": {},
   "outputs": [],
   "source": [
    "const_particle_types = list(np.asarray(aa_frame.particles.types)[list(aa_frame.particles.typeid)][constituent_indx[0]])"
   ]
  },
  {
   "cell_type": "code",
   "execution_count": 24,
   "id": "dff0f34c-39d4-405a-b843-10656a12c85a",
   "metadata": {},
   "outputs": [
    {
     "data": {
      "text/plain": [
       "66.86016"
      ]
     },
     "execution_count": 24,
     "metadata": {},
     "output_type": "execute_result"
    }
   ],
   "source": [
    "L = system.hoomd_snapshot.configuration.box[0]\n",
    "L"
   ]
  },
  {
   "cell_type": "code",
   "execution_count": 25,
   "id": "4ac22e73-ac94-4b93-964d-0194aa07a7fb",
   "metadata": {},
   "outputs": [
    {
     "data": {
      "text/plain": [
       "array([0.7980529 , 0.88629776, 0.18916835], dtype=float32)"
      ]
     },
     "execution_count": 25,
     "metadata": {},
     "output_type": "execute_result"
    }
   ],
   "source": [
    "sample_rigid_lattice = gsd.hoomd.open('assets/pps_rigid_lattice_100.gsd')[0]\n",
    "I = sample_rigid_lattice.particles.moment_inertia[0]\n",
    "I"
   ]
  },
  {
   "cell_type": "code",
   "execution_count": 26,
   "id": "aa8a4ba3-d71e-4679-b1d2-c61ec05b1fef",
   "metadata": {},
   "outputs": [],
   "source": [
    "# create the init rigid lattice\n",
    "\n",
    "rigid_frame = gsd.hoomd.Frame()\n",
    "rigid_frame.particles.types = ['rigid', 'ca', 'sh']\n",
    "\n",
    "N_rigid = len(com_mass)\n",
    "rigid_frame.particles.N = N_rigid\n",
    "rigid_frame.particles.position = com_positions\n",
    "rigid_frame.particles.typeid = [0] * N_rigid\n",
    "rigid_frame.configuration.box = [L, L, L, 0, 0, 0]\n",
    "rigid_frame.particles.mass = com_mass\n",
    "rigid_frame.particles.moment_inertia = np.tile(I, (N_rigid, 1))\n",
    "rigid_frame.particles.orientation = [(1, 0, 0, 0)] * N_rigid\n",
    "\n",
    "rigid = hoomd.md.constrain.Rigid()\n",
    "rigid.body['rigid'] = {\n",
    "    \"constituent_types\":const_particle_types,\n",
    "    \"positions\": rel_const_pos,\n",
    "    \"orientations\": [(1.0, 0.0, 0.0, 0.0)]* len(rel_const_pos),\n",
    "    }\n",
    "simulation = hoomd.Simulation(device=hoomd.device.CPU(), seed=4)\n",
    "simulation.create_state_from_snapshot(rigid_frame)\n",
    "\n",
    "rigid.create_bodies(simulation.state)\n",
    "integrator = hoomd.md.Integrator(dt=0.005, integrate_rotational_dof=True)\n",
    "integrator.rigid = rigid\n",
    "simulation.operations.integrator = integrator\n",
    "simulation.run(0)\n",
    "\n",
    "hoomd.write.GSD.write(state=simulation.state, mode='wb', filename='assets/pps_rigid_lattice_{}.gsd'.format(num_mols))"
   ]
  },
  {
   "cell_type": "code",
   "execution_count": 27,
   "id": "59860316-d188-4682-b6f7-f05ae534464c",
   "metadata": {},
   "outputs": [
    {
     "data": {
      "text/plain": [
       "200"
      ]
     },
     "execution_count": 27,
     "metadata": {},
     "output_type": "execute_result"
    }
   ],
   "source": [
    "N_rigid"
   ]
  },
  {
   "cell_type": "code",
   "execution_count": 28,
   "id": "591e5022-71c0-4069-8aa0-29a39a44418d",
   "metadata": {},
   "outputs": [
    {
     "data": {
      "text/plain": [
       "9.551451765868338"
      ]
     },
     "execution_count": 28,
     "metadata": {},
     "output_type": "execute_result"
    }
   ],
   "source": [
    "target_box_size = system.target_box\n",
    "target_box_size[0]"
   ]
  },
  {
   "cell_type": "markdown",
   "id": "94715ffd-be0a-4d83-a9ff-67bcf7eb8913",
   "metadata": {},
   "source": [
    "### Run rigid simulations"
   ]
  },
  {
   "cell_type": "code",
   "execution_count": 29,
   "id": "ebf3525b-966d-43a8-8a14-3f8e1ffec9f1",
   "metadata": {},
   "outputs": [],
   "source": [
    "def create_rigid_simulation(kT, num_mols):\n",
    "    rigid_simulation = hoomd.Simulation(device=hoomd.device.auto_select(), seed=1)\n",
    "    rigid_simulation.create_state_from_gsd(filename='assets/pps_rigid_lattice_{}.gsd'.format(num_mols))\n",
    "    const_particle_types = list(np.asarray(aa_frame.particles.types)[list(aa_frame.particles.typeid)][constituent_indx[0]])\n",
    "\n",
    "    rigid = hoomd.md.constrain.Rigid()\n",
    "    rigid.body['rigid'] = {\n",
    "        \"constituent_types\":const_particle_types,\n",
    "        \"positions\": rel_const_pos,\n",
    "        \"orientations\": [(1.0, 0.0, 0.0, 0.0)]* len(rel_const_pos),\n",
    "        }\n",
    "    integrator = hoomd.md.Integrator(dt=0.005, integrate_rotational_dof=True)\n",
    "    rigid_simulation.operations.integrator = integrator\n",
    "    integrator.rigid = rigid\n",
    "    rigid_centers_and_free = hoomd.filter.Rigid((\"center\", \"free\"))\n",
    "    nvt = hoomd.md.methods.ConstantVolume(\n",
    "        filter=rigid_centers_and_free,\n",
    "        thermostat=hoomd.md.methods.thermostats.Bussi(kT=kT))\n",
    "    integrator.methods.append(nvt)\n",
    "    \n",
    "    cell = hoomd.md.nlist.Cell(buffer=0, exclusions=['body'])\n",
    "    \n",
    "    lj = hoomd.md.pair.LJ(nlist=cell)\n",
    "    \n",
    "    # use aa pps simulation to define lj and special lj forces between constituent particles\n",
    "    for k, v in dict(pps_ff[0].params).items():\n",
    "        lj.params[k] = v\n",
    "        lj.r_cut[k] = 2.5\n",
    "    \n",
    "    lj.params[('rigid', ['rigid', 'ca', 'sh'])]= dict(epsilon=0, sigma=0)\n",
    "    lj.r_cut[('rigid', ['rigid', 'ca', 'sh'])] = 0\n",
    "\n",
    "    integrator.forces.append(lj)\n",
    "    rigid_simulation.state.thermalize_particle_momenta(filter=rigid_centers_and_free,\n",
    "                                             kT=kT)\n",
    "    \n",
    "    rigid_simulation.run(0)\n",
    "\n",
    "    \n",
    "    log_quantities = [\n",
    "                        \"kinetic_temperature\",\n",
    "                        \"potential_energy\",\n",
    "                        \"kinetic_energy\",\n",
    "                        \"volume\",\n",
    "                        \"pressure\",\n",
    "                        \"pressure_tensor\",\n",
    "                    ]\n",
    "    logger = hoomd.logging.Logger(categories=[\"scalar\", \"string\", \"particle\"])\n",
    "    logger.add(rigid_simulation, quantities=[\"timestep\", \"tps\"])\n",
    "    thermo_props = hoomd.md.compute.ThermodynamicQuantities(filter=hoomd.filter.All())\n",
    "    rigid_simulation.operations.computes.append(thermo_props)\n",
    "    logger.add(thermo_props, quantities=log_quantities)\n",
    "    \n",
    "    # for f in integrator.forces:\n",
    "    #     logger.add(f, quantities=[\"energy\", \"forces\", \"energies\"])\n",
    "\n",
    "    logger.add(rigid_simulation.operations.integrator.rigid, quantities=[\"torques\", \"forces\", \"energies\"])\n",
    "    \n",
    "    gsd_writer = hoomd.write.GSD(\n",
    "        filename=\"logs/pps_{}/trajectory_{}.gsd\".format(num_mols, kT),\n",
    "        trigger=hoomd.trigger.Periodic(int(100)),\n",
    "        mode=\"wb\",\n",
    "        logger=logger,\n",
    "        filter=hoomd.filter.All(),\n",
    "        dynamic=[\"momentum\", \"property\"]\n",
    "        )\n",
    "    \n",
    "    rigid_simulation.operations.writers.append(gsd_writer)\n",
    "\n",
    "    table_logger = hoomd.logging.Logger(categories=[\"scalar\", \"string\"])\n",
    "    table_logger.add(rigid_simulation, quantities=[\"timestep\", \"tps\"])\n",
    "    table_logger.add(thermo_props, quantities=log_quantities)\n",
    "    table_file = hoomd.write.Table(\n",
    "            output=open(\"logs/pps_{}/log_{}.txt\".format(num_mols, kT), mode=\"w\", newline=\"\\n\"),\n",
    "            trigger=hoomd.trigger.Periodic(int(100)),\n",
    "            logger=table_logger,\n",
    "            max_header_len=None,\n",
    "        )\n",
    "    rigid_simulation.operations.writers.append(table_file)\n",
    "    return rigid_simulation\n",
    "\n",
    "def run_displacement_cap(simulation, n_steps):\n",
    "    \n",
    "    rigid_centers_and_free = hoomd.filter.Rigid((\"center\", \"free\"))\n",
    "    simulation.operations.integrator.methods = [hoomd.md.methods.DisplacementCapped(filter=rigid_centers_and_free, \n",
    "                                                                                         maximum_displacement=1e-3)]\n",
    "    simulation.run(n_steps)\n",
    "    \n",
    "def shrink_volume(simulation, kT, target_box, n_steps):\n",
    "    rigid_centers_and_free = hoomd.filter.Rigid((\"center\", \"free\"))\n",
    "    nvt = hoomd.md.methods.ConstantVolume(filter=rigid_centers_and_free, thermostat=hoomd.md.methods.thermostats.Bussi(kT=kT))\n",
    "    simulation.operations.integrator.methods = [nvt]\n",
    "    # box resizer\n",
    "    final_box = hoomd.Box(\n",
    "            Lx=target_box,\n",
    "            Ly=target_box,\n",
    "            Lz=target_box,\n",
    "        )\n",
    "    resize_trigger = hoomd.trigger.Periodic(100)\n",
    "    box_ramp = hoomd.variant.Ramp(\n",
    "        A=0, B=1, t_start=simulation.timestep, t_ramp=int(n_steps)\n",
    "    )\n",
    "    initial_box = simulation.state.box\n",
    "\n",
    "    box_resizer = hoomd.update.BoxResize(\n",
    "        box1=initial_box,\n",
    "        box2=final_box,\n",
    "        variant=box_ramp,\n",
    "        trigger=resize_trigger,\n",
    "    )\n",
    "    simulation.operations.updaters.append(box_resizer)\n",
    "    simulation.run(n_steps + 1, write_at_start=True)\n",
    "    simulation.operations.updaters.remove(box_resizer)\n",
    "\n",
    "    \n",
    "    "
   ]
  },
  {
   "cell_type": "code",
   "execution_count": 30,
   "id": "69cb563d-bea8-4c41-98f0-5e81ce562745",
   "metadata": {},
   "outputs": [
    {
     "name": "stdout",
     "output_type": "stream",
     "text": [
      "0.5\n",
      "displacement cap run done\n",
      "shrink done\n",
      "7.0\n",
      "displacement cap run done\n",
      "shrink done\n",
      "8.0\n",
      "displacement cap run done\n",
      "shrink done\n",
      "9.0\n",
      "displacement cap run done\n",
      "shrink done\n",
      "10.0\n",
      "displacement cap run done\n",
      "shrink done\n"
     ]
    }
   ],
   "source": [
    "kT_list = [0.5, 7.0, 8.0, 9.0, 10.0]\n",
    "for kT in kT_list:\n",
    "    print(kT)\n",
    "    rigid_simulation = create_rigid_simulation(kT, num_mols=num_mols)\n",
    "    run_displacement_cap(rigid_simulation, 1e4)\n",
    "    rigid_simulation.operations.writers[0].flush()\n",
    "    print('displacement cap run done')\n",
    "    shrink_volume(rigid_simulation, kT, target_box=target_box_size[0], n_steps=1e4)\n",
    "    rigid_simulation.operations.writers[0].flush()\n",
    "    print('shrink done')\n",
    "    rigid_simulation.run(1e5)\n",
    "    rigid_simulation.operations.writers[0].flush()"
   ]
  },
  {
   "cell_type": "code",
   "execution_count": 31,
   "id": "87e4ccaf-13da-43d2-8225-03ae0391ae17",
   "metadata": {},
   "outputs": [
    {
     "data": {
      "text/plain": [
       "1600"
      ]
     },
     "execution_count": 31,
     "metadata": {},
     "output_type": "execute_result"
    }
   ],
   "source": [
    "snap = rigid_simulation.state.get_snapshot()\n",
    "snap.particles.N"
   ]
  },
  {
   "cell_type": "markdown",
   "id": "ac679658-a914-4509-9925-cea3863f3b12",
   "metadata": {},
   "source": [
    "## Check potential Energies"
   ]
  },
  {
   "cell_type": "code",
   "execution_count": 45,
   "id": "19d7fea8-12f8-4c22-8554-acc4c823bb6f",
   "metadata": {},
   "outputs": [
    {
     "data": {
      "text/plain": [
       "<matplotlib.legend.Legend at 0x7f69c8ee4050>"
      ]
     },
     "execution_count": 45,
     "metadata": {},
     "output_type": "execute_result"
    },
    {
     "data": {
      "image/png": "[encoded data removed]",
      "text/plain": [
       "<Figure size 640x480 with 1 Axes>"
      ]
     },
     "metadata": {},
     "output_type": "display_data"
    }
   ],
   "source": [
    "import numpy as np\n",
    "import matplotlib.pyplot as plt\n",
    "\n",
    "for kT in kT_list:\n",
    "    log = np.genfromtxt(\"logs/pps_{}/log_{}.txt\".format(num_mols, kT), names=True)\n",
    "    potential_energy = log['mdcomputeThermodynamicQuantitiespotential_energy'][-1000:]/1600.\n",
    "    plt.plot(potential_energy, label=kT)\n",
    "plt.legend()"
   ]
  },
  {
   "cell_type": "code",
   "execution_count": 50,
   "id": "a52079ae-5b3b-4b59-a9c8-09f8dc52977d",
   "metadata": {},
   "outputs": [
    {
     "data": {
      "text/plain": [
       "(1201,)"
      ]
     },
     "execution_count": 50,
     "metadata": {},
     "output_type": "execute_result"
    }
   ],
   "source": [
    "log.shape"
   ]
  },
  {
   "cell_type": "markdown",
   "id": "bbc50872-e35f-400a-aad6-e41a86fa90a9",
   "metadata": {},
   "source": [
    "## Read trajectories and gather samples"
   ]
  },
  {
   "cell_type": "code",
   "execution_count": 48,
   "id": "fa1faf0a-4611-4458-a069-254b779e2926",
   "metadata": {},
   "outputs": [],
   "source": [
    "all_frames = []\n",
    "for kT in kT_list:\n",
    "    traj = gsd.hoomd.open(\"logs/pps_{}/trajectory_{}.gsd\".format(num_mols, kT))\n",
    "    for frame in traj[-1000:]:\n",
    "        all_frames.append(frame)"
   ]
  },
  {
   "cell_type": "code",
   "execution_count": 49,
   "id": "c93b9c33-4bd3-4be4-92ec-ac8c00545689",
   "metadata": {},
   "outputs": [
    {
     "data": {
      "text/plain": [
       "7000"
      ]
     },
     "execution_count": 49,
     "metadata": {},
     "output_type": "execute_result"
    }
   ],
   "source": [
    "len(all_frames)"
   ]
  },
  {
   "cell_type": "code",
   "execution_count": 51,
   "id": "47ccbed5-c0d6-4ec8-ab35-a735a162dc22",
   "metadata": {},
   "outputs": [],
   "source": [
    "zero_energy_frames = []\n",
    "for i, f in enumerate(all_frames):\n",
    "    if f.log['md/compute/ThermodynamicQuantities/potential_energy'][0] == 0:\n",
    "        zero_energy_frames.append(i)"
   ]
  },
  {
   "cell_type": "code",
   "execution_count": 52,
   "id": "a50a2270-ece4-409d-9947-c41ba941adf4",
   "metadata": {},
   "outputs": [
    {
     "data": {
      "text/plain": [
       "0"
      ]
     },
     "execution_count": 52,
     "metadata": {},
     "output_type": "execute_result"
    }
   ],
   "source": [
    "len(zero_energy_frames)"
   ]
  },
  {
   "cell_type": "code",
   "execution_count": 53,
   "id": "903ee001-2546-4a7a-9f9f-b7db59b6de69",
   "metadata": {},
   "outputs": [
    {
     "data": {
      "text/plain": [
       "9.551452"
      ]
     },
     "execution_count": 53,
     "metadata": {},
     "output_type": "execute_result"
    }
   ],
   "source": [
    "L = all_frames[0].configuration.box[0]\n",
    "L"
   ]
  },
  {
   "cell_type": "code",
   "execution_count": 82,
   "id": "3a309cb7-af21-4b1c-a13b-9043031a6f1c",
   "metadata": {},
   "outputs": [],
   "source": [
    "import freud\n",
    "def find_neighbors(points, L, NN=15):\n",
    "    box = freud.box.Box.cube(L)\n",
    "    aq = freud.locality.AABBQuery(box, points)\n",
    "\n",
    "    query_points = points\n",
    "    query_result = aq.query(query_points, dict(num_neighbors=NN, exclude_ii=True))\n",
    "    nlist = query_result.toNeighborList()\n",
    "    neighbor_list = np.asarray(list(zip(nlist.query_point_indices, nlist.point_indices)))\n",
    "    return neighbor_list\n",
    "    \n",
    "    "
   ]
  },
  {
   "cell_type": "markdown",
   "id": "b6322f0e-701a-4c56-88cf-cd87e0eb4cf7",
   "metadata": {},
   "source": [
    "## Creating dataset"
   ]
  },
  {
   "cell_type": "code",
   "execution_count": 83,
   "id": "9f545747-8a65-4ac2-a1fa-f28f4819fa94",
   "metadata": {},
   "outputs": [
    {
     "data": {
      "text/plain": [
       "200"
      ]
     },
     "execution_count": 83,
     "metadata": {},
     "output_type": "execute_result"
    }
   ],
   "source": [
    "N_rigid"
   ]
  },
  {
   "cell_type": "code",
   "execution_count": 84,
   "id": "a4970d1d-c5e6-43a1-94cb-61017205dc99",
   "metadata": {},
   "outputs": [],
   "source": [
    "positions = []\n",
    "neighbor_lists = []\n",
    "orientations = []\n",
    "forces = []\n",
    "torques = []\n",
    "energies = []\n",
    "for frame in all_frames:\n",
    "    frame_positions = frame.particles.position[:N_rigid]\n",
    "    neighbor_lists.append(find_neighbors(frame_positions,L=L))\n",
    "    positions.append(frame_positions)\n",
    "    orientations.append(frame.particles.orientation[:N_rigid])\n",
    "    forces.append(frame.log['particles/md/constrain/Rigid/forces'][:N_rigid])\n",
    "    torques.append(frame.log['particles/md/constrain/Rigid/torques'][:N_rigid])\n",
    "    energies.append(frame.log['particles/md/constrain/Rigid/energies'][:N_rigid])"
   ]
  },
  {
   "cell_type": "code",
   "execution_count": 85,
   "id": "836b4679-1461-4563-abb4-a8dab5fa28e4",
   "metadata": {},
   "outputs": [],
   "source": [
    "import rowan\n",
    "orientations_R = rowan.to_matrix(orientations)"
   ]
  },
  {
   "cell_type": "code",
   "execution_count": 86,
   "id": "1390e596-caac-4dbb-8ac1-2e0e5fd2b782",
   "metadata": {},
   "outputs": [],
   "source": [
    "import pandas as pd\n",
    "columns = [\n",
    "    \"position\",\n",
    "    \"orientation_q\",\n",
    "    \"orientation_R\", \n",
    "    \"force\",\n",
    "    \"torque\",\n",
    "    \"energy\",\n",
    "    \"neighbor_list\"\n",
    "]\n",
    "\n",
    "new_traj_df = pd.DataFrame(columns=columns)\n",
    "new_traj_df[\"position\"] =positions\n",
    "new_traj_df[\"orientation_q\"] = orientations\n",
    "new_traj_df[\"orientation_R\"] = orientations_R.tolist()\n",
    "new_traj_df[\"force\"] = forces\n",
    "new_traj_df[\"torque\"] = torques\n",
    "new_traj_df[\"energy\"] = energies\n",
    "new_traj_df[\"neighbor_list\"] = neighbor_lists"
   ]
  },
  {
   "cell_type": "code",
   "execution_count": 87,
   "id": "1301b27d-9c58-4ee2-94ed-ebbbb5350505",
   "metadata": {},
   "outputs": [
    {
     "data": {
      "text/html": [
       "<div>\n",
       "<style scoped>\n",
       "    .dataframe tbody tr th:only-of-type {\n",
       "        vertical-align: middle;\n",
       "    }\n",
       "\n",
       "    .dataframe tbody tr th {\n",
       "        vertical-align: top;\n",
       "    }\n",
       "\n",
       "    .dataframe thead th {\n",
       "        text-align: right;\n",
       "    }\n",
       "</style>\n",
       "<table border=\"1\" class=\"dataframe\">\n",
       "  <thead>\n",
       "    <tr style=\"text-align: right;\">\n",
       "      <th></th>\n",
       "      <th>position</th>\n",
       "      <th>orientation_q</th>\n",
       "      <th>orientation_R</th>\n",
       "      <th>force</th>\n",
       "      <th>torque</th>\n",
       "      <th>energy</th>\n",
       "      <th>neighbor_list</th>\n",
       "    </tr>\n",
       "  </thead>\n",
       "  <tbody>\n",
       "    <tr>\n",
       "      <th>0</th>\n",
       "      <td>[[0.7437024, 3.4247556, 1.3543376], [-2.839805...</td>\n",
       "      <td>[[0.24504165, -0.3628349, 0.21626392, -0.87265...</td>\n",
       "      <td>[[[-0.6166108846664429, 0.2707398533821106, 0....</td>\n",
       "      <td>[[-16.36104830711689, -26.127665013767874, -3....</td>\n",
       "      <td>[[5.622786352779684, -1.3516238765429265, -2.6...</td>\n",
       "      <td>[-14.257601692361774, -13.865592325787588, -8....</td>\n",
       "      <td>[[0, 13], [0, 25], [0, 26], [0, 27], [0, 30], ...</td>\n",
       "    </tr>\n",
       "    <tr>\n",
       "      <th>1</th>\n",
       "      <td>[[0.42468178, 3.3085976, 0.94320613], [-2.8891...</td>\n",
       "      <td>[[0.2984936, -0.2594815, 0.082272545, -0.91476...</td>\n",
       "      <td>[[[-0.6871418952941895, 0.5034089088439941, 0....</td>\n",
       "      <td>[[13.613522734508138, -13.273965102090848, 7.2...</td>\n",
       "      <td>[[4.772125399941038, -11.360529844096762, -12....</td>\n",
       "      <td>[-12.48955151363856, -15.063771259450856, -10....</td>\n",
       "      <td>[[0, 8], [0, 15], [0, 25], [0, 26], [0, 27], [...</td>\n",
       "    </tr>\n",
       "    <tr>\n",
       "      <th>2</th>\n",
       "      <td>[[0.20104322, 3.4662402, 0.86697423], [-3.0276...</td>\n",
       "      <td>[[0.026435956, 0.28017688, -0.1589674, -0.9463...</td>\n",
       "      <td>[[[-0.8416042327880859, -0.03904395550489426, ...</td>\n",
       "      <td>[[-2.289652974308554, -1.134351376926971, 13.9...</td>\n",
       "      <td>[[2.069690631115769, 6.25820486064316, 0.53259...</td>\n",
       "      <td>[-10.787450786706573, -14.408041472996544, -11...</td>\n",
       "      <td>[[0, 15], [0, 25], [0, 26], [0, 27], [0, 40], ...</td>\n",
       "    </tr>\n",
       "    <tr>\n",
       "      <th>3</th>\n",
       "      <td>[[0.1527749, 3.3787022, 0.86001813], [-3.08905...</td>\n",
       "      <td>[[0.07544304, 0.2471812, -0.38352737, -0.88663...</td>\n",
       "      <td>[[[-0.8664195537567139, -0.05582106113433838, ...</td>\n",
       "      <td>[[39.21292753865415, 33.97719337374402, 17.070...</td>\n",
       "      <td>[[-1.5015990752140937, -12.826124025995385, 28...</td>\n",
       "      <td>[-10.556310392504434, -14.066282731169876, -12...</td>\n",
       "      <td>[[0, 15], [0, 18], [0, 25], [0, 26], [0, 27], ...</td>\n",
       "    </tr>\n",
       "    <tr>\n",
       "      <th>4</th>\n",
       "      <td>[[0.18621239, 3.6488562, 0.7711219], [-2.82507...</td>\n",
       "      <td>[[0.33000478, 0.2368554, -0.30533072, -0.86126...</td>\n",
       "      <td>[[[-0.6699926853179932, 0.4238016605377197, -0...</td>\n",
       "      <td>[[13.027524266535782, -1.7607741941373036, 9.8...</td>\n",
       "      <td>[[1.2742423847506106, -5.055086796640651, -0.8...</td>\n",
       "      <td>[-10.86980297782932, -13.071520019700113, -11....</td>\n",
       "      <td>[[0, 14], [0, 15], [0, 25], [0, 26], [0, 27], ...</td>\n",
       "    </tr>\n",
       "  </tbody>\n",
       "</table>\n",
       "</div>"
      ],
      "text/plain": [
       "                                            position  \\\n",
       "0  [[0.7437024, 3.4247556, 1.3543376], [-2.839805...   \n",
       "1  [[0.42468178, 3.3085976, 0.94320613], [-2.8891...   \n",
       "2  [[0.20104322, 3.4662402, 0.86697423], [-3.0276...   \n",
       "3  [[0.1527749, 3.3787022, 0.86001813], [-3.08905...   \n",
       "4  [[0.18621239, 3.6488562, 0.7711219], [-2.82507...   \n",
       "\n",
       "                                       orientation_q  \\\n",
       "0  [[0.24504165, -0.3628349, 0.21626392, -0.87265...   \n",
       "1  [[0.2984936, -0.2594815, 0.082272545, -0.91476...   \n",
       "2  [[0.026435956, 0.28017688, -0.1589674, -0.9463...   \n",
       "3  [[0.07544304, 0.2471812, -0.38352737, -0.88663...   \n",
       "4  [[0.33000478, 0.2368554, -0.30533072, -0.86126...   \n",
       "\n",
       "                                       orientation_R  \\\n",
       "0  [[[-0.6166108846664429, 0.2707398533821106, 0....   \n",
       "1  [[[-0.6871418952941895, 0.5034089088439941, 0....   \n",
       "2  [[[-0.8416042327880859, -0.03904395550489426, ...   \n",
       "3  [[[-0.8664195537567139, -0.05582106113433838, ...   \n",
       "4  [[[-0.6699926853179932, 0.4238016605377197, -0...   \n",
       "\n",
       "                                               force  \\\n",
       "0  [[-16.36104830711689, -26.127665013767874, -3....   \n",
       "1  [[13.613522734508138, -13.273965102090848, 7.2...   \n",
       "2  [[-2.289652974308554, -1.134351376926971, 13.9...   \n",
       "3  [[39.21292753865415, 33.97719337374402, 17.070...   \n",
       "4  [[13.027524266535782, -1.7607741941373036, 9.8...   \n",
       "\n",
       "                                              torque  \\\n",
       "0  [[5.622786352779684, -1.3516238765429265, -2.6...   \n",
       "1  [[4.772125399941038, -11.360529844096762, -12....   \n",
       "2  [[2.069690631115769, 6.25820486064316, 0.53259...   \n",
       "3  [[-1.5015990752140937, -12.826124025995385, 28...   \n",
       "4  [[1.2742423847506106, -5.055086796640651, -0.8...   \n",
       "\n",
       "                                              energy  \\\n",
       "0  [-14.257601692361774, -13.865592325787588, -8....   \n",
       "1  [-12.48955151363856, -15.063771259450856, -10....   \n",
       "2  [-10.787450786706573, -14.408041472996544, -11...   \n",
       "3  [-10.556310392504434, -14.066282731169876, -12...   \n",
       "4  [-10.86980297782932, -13.071520019700113, -11....   \n",
       "\n",
       "                                       neighbor_list  \n",
       "0  [[0, 13], [0, 25], [0, 26], [0, 27], [0, 30], ...  \n",
       "1  [[0, 8], [0, 15], [0, 25], [0, 26], [0, 27], [...  \n",
       "2  [[0, 15], [0, 25], [0, 26], [0, 27], [0, 40], ...  \n",
       "3  [[0, 15], [0, 18], [0, 25], [0, 26], [0, 27], ...  \n",
       "4  [[0, 14], [0, 15], [0, 25], [0, 26], [0, 27], ...  "
      ]
     },
     "execution_count": 87,
     "metadata": {},
     "output_type": "execute_result"
    }
   ],
   "source": [
    "new_traj_df.head()"
   ]
  },
  {
   "cell_type": "code",
   "execution_count": 88,
   "id": "f03510c0-43e6-4c51-b494-92b5102f3854",
   "metadata": {},
   "outputs": [],
   "source": [
    "new_traj_df = new_traj_df.sample(frac=1).reset_index(drop=True)# shuffle dataset"
   ]
  },
  {
   "cell_type": "code",
   "execution_count": 89,
   "id": "5c9881dd-1d4e-4fb8-9c29-2889630c9a88",
   "metadata": {
    "scrolled": true
   },
   "outputs": [
    {
     "data": {
      "text/html": [
       "<div>\n",
       "<style scoped>\n",
       "    .dataframe tbody tr th:only-of-type {\n",
       "        vertical-align: middle;\n",
       "    }\n",
       "\n",
       "    .dataframe tbody tr th {\n",
       "        vertical-align: top;\n",
       "    }\n",
       "\n",
       "    .dataframe thead th {\n",
       "        text-align: right;\n",
       "    }\n",
       "</style>\n",
       "<table border=\"1\" class=\"dataframe\">\n",
       "  <thead>\n",
       "    <tr style=\"text-align: right;\">\n",
       "      <th></th>\n",
       "      <th>position</th>\n",
       "      <th>orientation_q</th>\n",
       "      <th>orientation_R</th>\n",
       "      <th>force</th>\n",
       "      <th>torque</th>\n",
       "      <th>energy</th>\n",
       "      <th>neighbor_list</th>\n",
       "    </tr>\n",
       "  </thead>\n",
       "  <tbody>\n",
       "    <tr>\n",
       "      <th>0</th>\n",
       "      <td>[[0.3291067, -0.32625458, -0.9405715], [-4.024...</td>\n",
       "      <td>[[0.7158976, -0.52559125, 0.33519274, -0.31446...</td>\n",
       "      <td>[[[0.5775110721588135, 0.09790533781051636, 0....</td>\n",
       "      <td>[[-21.11601275698156, -12.245332400161846, -4....</td>\n",
       "      <td>[[-0.5255690432481679, 0.039487054352458806, 3...</td>\n",
       "      <td>[-16.421791759395322, -16.672936087486388, -15...</td>\n",
       "      <td>[[0, 10], [0, 11], [0, 28], [0, 48], [0, 72], ...</td>\n",
       "    </tr>\n",
       "    <tr>\n",
       "      <th>1</th>\n",
       "      <td>[[2.937887, -1.6287135, 2.441588], [-1.2227695...</td>\n",
       "      <td>[[-0.04692211, -0.9273857, -0.3174794, 0.19225...</td>\n",
       "      <td>[[[0.7244918942451477, 0.6068934202194214, -0....</td>\n",
       "      <td>[[-1.426185453235588, 0.7459653171815672, -7.0...</td>\n",
       "      <td>[[-6.499786341529129, 5.888952298788228, -6.47...</td>\n",
       "      <td>[-6.84574567633367, -15.67599061060152, -15.53...</td>\n",
       "      <td>[[0, 16], [0, 44], [0, 77], [0, 86], [0, 100],...</td>\n",
       "    </tr>\n",
       "    <tr>\n",
       "      <th>2</th>\n",
       "      <td>[[-2.7110002, -1.7037761, -0.28764296], [4.466...</td>\n",
       "      <td>[[0.66430384, -0.65854603, 0.25980932, 0.23982...</td>\n",
       "      <td>[[[0.7499648928642273, -0.6608278751373291, 0....</td>\n",
       "      <td>[[-14.312572208153568, -30.101989005586102, 10...</td>\n",
       "      <td>[[11.143203107689347, 12.64134818640504, 6.445...</td>\n",
       "      <td>[-11.405929512487141, -5.97595002330566, -1.60...</td>\n",
       "      <td>[[0, 15], [0, 24], [0, 35], [0, 40], [0, 55], ...</td>\n",
       "    </tr>\n",
       "    <tr>\n",
       "      <th>3</th>\n",
       "      <td>[[4.5961456, -4.090287, -4.3196125], [-2.16138...</td>\n",
       "      <td>[[-0.5936441, 0.6372696, -0.48501068, -0.07898...</td>\n",
       "      <td>[[[0.5170517563819885, -0.7119438052177429, 0....</td>\n",
       "      <td>[[-83.21903738177122, 33.34091720836907, -53.6...</td>\n",
       "      <td>[[-6.16236860615393, -5.4122435477704744, -26....</td>\n",
       "      <td>[-9.559556083815146, -9.82643727754488, -9.716...</td>\n",
       "      <td>[[0, 41], [0, 48], [0, 54], [0, 57], [0, 67], ...</td>\n",
       "    </tr>\n",
       "    <tr>\n",
       "      <th>4</th>\n",
       "      <td>[[-0.63997537, -1.9282506, 4.7199116], [-4.436...</td>\n",
       "      <td>[[0.69005525, 0.11322401, 0.0986222, 0.7080097...</td>\n",
       "      <td>[[[-0.022008180618286133, -0.9547988772392273,...</td>\n",
       "      <td>[[24.20004441822409, 26.1548685815659, 12.2905...</td>\n",
       "      <td>[[12.056608079865239, 0.324643601096278, -8.30...</td>\n",
       "      <td>[-10.835641152135631, -14.426346303869568, -11...</td>\n",
       "      <td>[[0, 24], [0, 25], [0, 33], [0, 47], [0, 50], ...</td>\n",
       "    </tr>\n",
       "  </tbody>\n",
       "</table>\n",
       "</div>"
      ],
      "text/plain": [
       "                                            position  \\\n",
       "0  [[0.3291067, -0.32625458, -0.9405715], [-4.024...   \n",
       "1  [[2.937887, -1.6287135, 2.441588], [-1.2227695...   \n",
       "2  [[-2.7110002, -1.7037761, -0.28764296], [4.466...   \n",
       "3  [[4.5961456, -4.090287, -4.3196125], [-2.16138...   \n",
       "4  [[-0.63997537, -1.9282506, 4.7199116], [-4.436...   \n",
       "\n",
       "                                       orientation_q  \\\n",
       "0  [[0.7158976, -0.52559125, 0.33519274, -0.31446...   \n",
       "1  [[-0.04692211, -0.9273857, -0.3174794, 0.19225...   \n",
       "2  [[0.66430384, -0.65854603, 0.25980932, 0.23982...   \n",
       "3  [[-0.5936441, 0.6372696, -0.48501068, -0.07898...   \n",
       "4  [[0.69005525, 0.11322401, 0.0986222, 0.7080097...   \n",
       "\n",
       "                                       orientation_R  \\\n",
       "0  [[[0.5775110721588135, 0.09790533781051636, 0....   \n",
       "1  [[[0.7244918942451477, 0.6068934202194214, -0....   \n",
       "2  [[[0.7499648928642273, -0.6608278751373291, 0....   \n",
       "3  [[[0.5170517563819885, -0.7119438052177429, 0....   \n",
       "4  [[[-0.022008180618286133, -0.9547988772392273,...   \n",
       "\n",
       "                                               force  \\\n",
       "0  [[-21.11601275698156, -12.245332400161846, -4....   \n",
       "1  [[-1.426185453235588, 0.7459653171815672, -7.0...   \n",
       "2  [[-14.312572208153568, -30.101989005586102, 10...   \n",
       "3  [[-83.21903738177122, 33.34091720836907, -53.6...   \n",
       "4  [[24.20004441822409, 26.1548685815659, 12.2905...   \n",
       "\n",
       "                                              torque  \\\n",
       "0  [[-0.5255690432481679, 0.039487054352458806, 3...   \n",
       "1  [[-6.499786341529129, 5.888952298788228, -6.47...   \n",
       "2  [[11.143203107689347, 12.64134818640504, 6.445...   \n",
       "3  [[-6.16236860615393, -5.4122435477704744, -26....   \n",
       "4  [[12.056608079865239, 0.324643601096278, -8.30...   \n",
       "\n",
       "                                              energy  \\\n",
       "0  [-16.421791759395322, -16.672936087486388, -15...   \n",
       "1  [-6.84574567633367, -15.67599061060152, -15.53...   \n",
       "2  [-11.405929512487141, -5.97595002330566, -1.60...   \n",
       "3  [-9.559556083815146, -9.82643727754488, -9.716...   \n",
       "4  [-10.835641152135631, -14.426346303869568, -11...   \n",
       "\n",
       "                                       neighbor_list  \n",
       "0  [[0, 10], [0, 11], [0, 28], [0, 48], [0, 72], ...  \n",
       "1  [[0, 16], [0, 44], [0, 77], [0, 86], [0, 100],...  \n",
       "2  [[0, 15], [0, 24], [0, 35], [0, 40], [0, 55], ...  \n",
       "3  [[0, 41], [0, 48], [0, 54], [0, 57], [0, 67], ...  \n",
       "4  [[0, 24], [0, 25], [0, 33], [0, 47], [0, 50], ...  "
      ]
     },
     "execution_count": 89,
     "metadata": {},
     "output_type": "execute_result"
    }
   ],
   "source": [
    "new_traj_df.head()"
   ]
  },
  {
   "cell_type": "code",
   "execution_count": 90,
   "id": "f1e79a18-a56c-4830-b232-6e9da9d0db96",
   "metadata": {},
   "outputs": [],
   "source": [
    "import os\n",
    "target_datapath=\"/home/marjanalbooyeh/Aniso_ML_MD_project/ml_datasets/pps_200\"\n",
    "\n",
    "new_traj_df.to_pickle(os.path.join(target_datapath, \"raw.pkl\"))\n",
    "test_frac = 0.1\n",
    "val_frac = 0.1\n",
    "\n",
    "dataset_len = new_traj_df.shape[0]\n",
    "test_len = int(dataset_len * test_frac)\n",
    "val_len = int(dataset_len * val_frac)\n",
    "\n",
    "test_df = new_traj_df.iloc[:test_len]\n",
    "\n",
    "val_df = new_traj_df.iloc[test_len: test_len + val_len]\n",
    "\n",
    "train_df = new_traj_df.iloc[test_len + val_len:]\n"
   ]
  },
  {
   "cell_type": "code",
   "execution_count": 91,
   "id": "1baba71e-3915-406d-ad77-53af41a27a4f",
   "metadata": {},
   "outputs": [],
   "source": [
    "train_df.to_pickle(os.path.join(target_datapath, 'train.pkl'))\n",
    "val_df.to_pickle(os.path.join(target_datapath, 'val.pkl'))\n",
    "test_df.to_pickle(os.path.join(target_datapath, 'test.pkl'))"
   ]
  },
  {
   "cell_type": "code",
   "execution_count": null,
   "id": "d63f3d53-679f-4137-a779-da0b9469b18b",
   "metadata": {},
   "outputs": [],
   "source": []
  }
 ],
 "metadata": {
  "kernelspec": {
   "display_name": "Python 3 (ipykernel)",
   "language": "python",
   "name": "python3"
  },
  "language_info": {
   "codemirror_mode": {
    "name": "ipython",
    "version": 3
   },
   "file_extension": ".py",
   "mimetype": "text/x-python",
   "name": "python",
   "nbconvert_exporter": "python",
   "pygments_lexer": "ipython3",
   "version": "3.11.7"
  }
 },
 "nbformat": 4,
 "nbformat_minor": 5
}
