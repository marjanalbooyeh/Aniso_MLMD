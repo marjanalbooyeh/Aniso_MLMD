{
 "cells": [
  {
   "cell_type": "code",
   "execution_count": 20,
   "id": "28e9b9b3-2797-426c-8cee-b6c203944757",
   "metadata": {},
   "outputs": [],
   "source": [
    "import warnings\n",
    "warnings.filterwarnings('ignore')\n",
    "import unyt as u\n",
    "import pickle\n",
    "import numpy as np\n",
    "import hoomd\n",
    "import gsd\n",
    "from flowermd.utils import get_target_box_mass_density"
   ]
  },
  {
   "cell_type": "code",
   "execution_count": 11,
   "id": "b6036f8a-ca37-43c2-9fab-039c5d26751b",
   "metadata": {},
   "outputs": [],
   "source": [
    "reference_values = {'energy': u.unyt_quantity(1.7782, 'kJ/mol'),\n",
    " 'length': u.unyt_quantity(0.36, 'nm'),\n",
    " 'mass': u.unyt_quantity(32.06, 'amu')}"
   ]
  },
  {
   "cell_type": "code",
   "execution_count": 12,
   "id": "241d0702-b039-40bb-98c3-217b6519a133",
   "metadata": {},
   "outputs": [],
   "source": [
    "rel_const_pos = np.load('assets/const_rel_pos.npy')\n",
    "const_particle_types = ['ca', 'ca', 'ca', 'ca', 'sh', 'ca', 'ca']\n",
    "with open(\"assets/pps_ff.pkl\", \"rb\") as f:\n",
    "    pps_ff = pickle.load(f)"
   ]
  },
  {
   "cell_type": "code",
   "execution_count": null,
   "id": "fba4888b-aa6a-4cf2-a141-670e350a6714",
   "metadata": {},
   "outputs": [],
   "source": []
  },
  {
   "cell_type": "code",
   "execution_count": 40,
   "id": "0d2289cd-8551-4d42-865b-83b97dc2faa7",
   "metadata": {},
   "outputs": [
    {
     "data": {
      "text/plain": [
       "unyt_array([14.89117676, 14.89117676, 14.89117676], '(dimensionless)')"
      ]
     },
     "execution_count": 40,
     "metadata": {},
     "output_type": "execute_result"
    }
   ],
   "source": [
    "# getting the box size with the desired density\n",
    "N_beads = 800\n",
    "pps_mass = u.unyt_quantity(110.174 , 'amu')\n",
    "\n",
    "target_density = 0.95* u.Unit(\"g/cm**3\")\n",
    "system_mass = N_beads * pps_mass \n",
    "\n",
    "target_L = get_target_box_mass_density(density=target_density, mass=system_mass).to('nm')\n",
    "target_L_reduced = target_L / reference_values['length']\n",
    "target_L_reduced"
   ]
  },
  {
   "cell_type": "markdown",
   "id": "0b84e5c5-fc62-40ad-a533-cb99bcb055ab",
   "metadata": {},
   "source": [
    "### Rigid Body Simulation"
   ]
  },
  {
   "cell_type": "code",
   "execution_count": 41,
   "id": "fe366247-319e-4944-8b59-1309d13fb7e2",
   "metadata": {},
   "outputs": [],
   "source": [
    "def create_rigid_simulation(kT, init_snapshot, pps_ff, rel_const_pos, dt, tau, special_LJ=False, write_freq=1000):\n",
    "    const_particle_types = ['ca', 'ca', 'ca', 'ca', 'sh', 'ca', 'ca']\n",
    "    rigid_simulation = hoomd.Simulation(device=hoomd.device.auto_select(), seed=1)\n",
    "    rigid_simulation.create_state_from_snapshot(init_snapshot)\n",
    "\n",
    "\n",
    "    rigid = hoomd.md.constrain.Rigid()\n",
    "    rigid.body['rigid'] = {\n",
    "        \"constituent_types\":const_particle_types,\n",
    "        \"positions\": rel_const_pos,\n",
    "        \"orientations\": [(1.0, 0.0, 0.0, 0.0)]* len(rel_const_pos),\n",
    "        }\n",
    "    integrator = hoomd.md.Integrator(dt=dt, integrate_rotational_dof=True)\n",
    "    rigid_simulation.operations.integrator = integrator\n",
    "    integrator.rigid = rigid\n",
    "    rigid_centers_and_free = hoomd.filter.Rigid((\"center\", \"free\"))\n",
    "    nvt = hoomd.md.methods.ConstantVolume(\n",
    "        filter=rigid_centers_and_free,\n",
    "        thermostat=hoomd.md.methods.thermostats.MTTK(kT=kT, tau=tau))\n",
    "    integrator.methods.append(nvt)\n",
    "    \n",
    "    cell = hoomd.md.nlist.Cell(buffer=0, exclusions=['body'])\n",
    "    \n",
    "    lj = hoomd.md.pair.LJ(nlist=cell)\n",
    "    \n",
    "    # use aa pps simulation to define lj and special lj forces between constituent particles\n",
    "    for k, v in dict(pps_ff[0].params).items():\n",
    "        lj.params[k] = v\n",
    "        lj.r_cut[k] = 4.8\n",
    "    \n",
    "    lj.params[('rigid', ['rigid', 'ca', 'sh'])]= dict(epsilon=0, sigma=0)\n",
    "    lj.r_cut[('rigid', ['rigid', 'ca', 'sh'])] = 0\n",
    "\n",
    "    integrator.forces.append(lj)\n",
    "    if special_LJ:\n",
    "        special_lj = hoomd.md.special_pair.LJ()\n",
    "        for k, v in dict(pps_ff[1].params).items():\n",
    "            special_lj.params[k] = v\n",
    "            special_lj.r_cut[k] = 4.8\n",
    "        \n",
    "        special_lj.params[('rigid', ['rigid', 'ca', 'sh'])]= dict(epsilon=0, sigma=0)\n",
    "        special_lj.r_cut[('rigid', ['rigid', 'ca', 'sh'])] = 0\n",
    "\n",
    "        integrator.forces.append(special_lj)\n",
    "        \n",
    "        \n",
    "    rigid_simulation.state.thermalize_particle_momenta(filter=rigid_centers_and_free,\n",
    "                                             kT=kT)\n",
    "    \n",
    "    rigid_simulation.run(0)\n",
    "\n",
    "    \n",
    "    log_quantities = [\n",
    "                        \"kinetic_temperature\",\n",
    "                        \"potential_energy\",\n",
    "                        \"kinetic_energy\",\n",
    "                        \"volume\",\n",
    "                        \"pressure\",\n",
    "                        \"pressure_tensor\",\n",
    "                    ]\n",
    "    logger = hoomd.logging.Logger(categories=[\"scalar\", \"string\", \"particle\"])\n",
    "    logger.add(rigid_simulation, quantities=[\"timestep\", \"tps\"])\n",
    "    thermo_props = hoomd.md.compute.ThermodynamicQuantities(filter=rigid_centers_and_free)\n",
    "    rigid_simulation.operations.computes.append(thermo_props)\n",
    "    logger.add(thermo_props, quantities=log_quantities)\n",
    "    \n",
    "    # for f in integrator.forces:\n",
    "    #     logger.add(f, quantities=[\"energy\", \"forces\", \"energies\"])\n",
    "\n",
    "    logger.add(rigid_simulation.operations.integrator.rigid, quantities=[\"torques\", \"forces\", \"energies\"])\n",
    "    \n",
    "    gsd_writer = hoomd.write.GSD(\n",
    "        filename=\"trajectory.gsd\",\n",
    "        trigger=hoomd.trigger.Periodic(int(write_freq)),\n",
    "        mode=\"wb\",\n",
    "        logger=logger,\n",
    "        filter=hoomd.filter.All(),\n",
    "        dynamic=[\"momentum\", \"property\"]\n",
    "        )\n",
    "    \n",
    "    rigid_simulation.operations.writers.append(gsd_writer)\n",
    "\n",
    "    table_logger = hoomd.logging.Logger(categories=[\"scalar\", \"string\"])\n",
    "    table_logger.add(rigid_simulation, quantities=[\"timestep\", \"tps\"])\n",
    "    table_logger.add(thermo_props, quantities=log_quantities)\n",
    "    table_file = hoomd.write.Table(\n",
    "            output=open(\"log.txt\", mode=\"w\", newline=\"\\n\"),\n",
    "            trigger=hoomd.trigger.Periodic(int(write_freq)),\n",
    "            logger=table_logger,\n",
    "            max_header_len=None,\n",
    "        )\n",
    "    rigid_simulation.operations.writers.append(table_file)\n",
    "    return rigid_simulation\n",
    "\n",
    "    \n",
    "def shrink_volume(simulation, kT, target_box, n_steps):\n",
    "    # box resizer\n",
    "    final_box = hoomd.Box(\n",
    "            Lx=target_box,\n",
    "            Ly=target_box,\n",
    "            Lz=target_box,\n",
    "        )\n",
    "    resize_trigger = hoomd.trigger.Periodic(100)\n",
    "    box_ramp = hoomd.variant.Ramp(\n",
    "        A=0, B=1, t_start=simulation.timestep, t_ramp=int(n_steps)\n",
    "    )\n",
    "    initial_box = simulation.state.box\n",
    "\n",
    "    box_resizer = hoomd.update.BoxResize(\n",
    "        box1=initial_box,\n",
    "        box2=final_box,\n",
    "        variant=box_ramp,\n",
    "        trigger=resize_trigger,\n",
    "    )\n",
    "    simulation.operations.updaters.append(box_resizer)\n",
    "    simulation.run(n_steps + 1, write_at_start=True)\n",
    "    simulation.operations.updaters.remove(box_resizer)\n",
    "\n",
    "    \n",
    "    "
   ]
  },
  {
   "cell_type": "code",
   "execution_count": 42,
   "id": "78cd5f47-38fc-45da-a66d-2fb3f772cdb9",
   "metadata": {},
   "outputs": [],
   "source": [
    "init_snapshot = gsd.hoomd.open(\"assets/rigid_init_800.gsd\")[-1]\n",
    "rigid_sim = create_rigid_simulation(kT=0.1, init_snapshot=init_snapshot, pps_ff=pps_ff, rel_const_pos=rel_const_pos, \n",
    "                                    dt=0.0015, tau=0.1, special_LJ=False, write_freq=1e4)"
   ]
  },
  {
   "cell_type": "code",
   "execution_count": 43,
   "id": "f23597c3-15c0-40cf-bafc-0cd607f48a0e",
   "metadata": {},
   "outputs": [],
   "source": [
    "shrink_volume(rigid_sim, kT=1.0, target_box=target_L_reduced[0], n_steps=1e5)"
   ]
  },
  {
   "cell_type": "code",
   "execution_count": 44,
   "id": "15213930-96ca-4850-b723-5bfe62572cba",
   "metadata": {},
   "outputs": [
    {
     "data": {
      "text/plain": [
       "(14.89117675696174, 14.89117675696174, 14.89117675696174, 0.0, 0.0, 0.0)"
      ]
     },
     "execution_count": 44,
     "metadata": {},
     "output_type": "execute_result"
    }
   ],
   "source": [
    "rigid_sim.state.get_snapshot().configuration.box"
   ]
  },
  {
   "cell_type": "code",
   "execution_count": 45,
   "id": "2c8a1960-df71-47c7-a55b-ad37cf67388a",
   "metadata": {},
   "outputs": [],
   "source": [
    "rigid_centers_and_free = hoomd.filter.Rigid((\"center\", \"free\"))\n",
    "rigid_sim.operations.integrator.methods = [hoomd.md.methods.ConstantVolume(\n",
    "        filter=rigid_centers_and_free,\n",
    "        thermostat=hoomd.md.methods.thermostats.MTTK(kT=3.0, tau=0.1))]\n"
   ]
  },
  {
   "cell_type": "code",
   "execution_count": 46,
   "id": "1971e4fd-9a75-4d56-a065-02445246131a",
   "metadata": {},
   "outputs": [],
   "source": [
    "rigid_sim.run(40000)"
   ]
  },
  {
   "cell_type": "code",
   "execution_count": 47,
   "id": "71d19e0c-61b7-4ae8-943f-07bc4cdfdb4d",
   "metadata": {},
   "outputs": [],
   "source": [
    "hoomd.write.GSD.write(state=rigid_sim.state, mode='wb', filename='assets/rigid_after_shrink_{}_d_0.95.gsd'.format(N_beads))"
   ]
  },
  {
   "cell_type": "code",
   "execution_count": 48,
   "id": "24317a9b-1f2f-4b07-954c-133da48664e2",
   "metadata": {},
   "outputs": [],
   "source": [
    "for writer in rigid_sim.operations.writers:\n",
    "    if hasattr(writer, 'flush'):\n",
    "        writer.flush()"
   ]
  },
  {
   "cell_type": "code",
   "execution_count": 49,
   "id": "53c415d7-ef59-4afb-8b7e-13142ab8f481",
   "metadata": {},
   "outputs": [],
   "source": [
    "log = np.genfromtxt(\"log.txt\", names=True)\n",
    "\n",
    "potential_energy = log['mdcomputeThermodynamicQuantitiespotential_energy']"
   ]
  },
  {
   "cell_type": "code",
   "execution_count": 50,
   "id": "3c20625c-dd42-441d-9a33-b849898cff0a",
   "metadata": {},
   "outputs": [
    {
     "data": {
      "text/plain": [
       "array([ 12.529875  ,  -0.3300825 ,  -0.50223375,  -0.75178125,\n",
       "        -1.04907   ,  -1.3997125 ,  -1.99195   ,  -2.9254875 ,\n",
       "        -4.7913125 ,  -8.1028    , -14.661     , -12.758     ,\n",
       "       -12.639125  , -12.650375  , -12.67875   ])"
      ]
     },
     "execution_count": 50,
     "metadata": {},
     "output_type": "execute_result"
    }
   ],
   "source": [
    "potential_energy / 800"
   ]
  },
  {
   "cell_type": "code",
   "execution_count": 52,
   "id": "f4ce53d5-9aa4-430a-9232-7b0584174665",
   "metadata": {},
   "outputs": [
    {
     "name": "stdout",
     "output_type": "stream",
     "text": [
      "HOOMDArray([6.98589389 2.04058073 7.20448373])\n"
     ]
    }
   ],
   "source": [
    "with rigid_sim._state.cpu_local_snapshot as snap:\n",
    "    rtag = snap.particles.rtag[696]\n",
    "    print(snap.particles.position[rtag])"
   ]
  },
  {
   "cell_type": "code",
   "execution_count": null,
   "id": "d106f601-d914-4693-96d3-1e857f3ed2ac",
   "metadata": {},
   "outputs": [],
   "source": []
  }
 ],
 "metadata": {
  "kernelspec": {
   "display_name": "Python 3 (ipykernel)",
   "language": "python",
   "name": "python3"
  },
  "language_info": {
   "codemirror_mode": {
    "name": "ipython",
    "version": 3
   },
   "file_extension": ".py",
   "mimetype": "text/x-python",
   "name": "python",
   "nbconvert_exporter": "python",
   "pygments_lexer": "ipython3",
   "version": "3.11.7"
  }
 },
 "nbformat": 4,
 "nbformat_minor": 5
}
