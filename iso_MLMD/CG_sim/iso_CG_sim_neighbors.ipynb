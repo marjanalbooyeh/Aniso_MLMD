{
 "cells": [
  {
   "cell_type": "code",
   "execution_count": 1,
   "id": "initial_id",
   "metadata": {
    "collapsed": true,
    "ExecuteTime": {
     "end_time": "2024-02-29T16:31:47.469147151Z",
     "start_time": "2024-02-29T16:31:47.340179217Z"
    }
   },
   "outputs": [],
   "source": [
    "from iso_custom_force import IsoNeighborCustomForce\n",
    "from flowermd.base import Simulation\n",
    "import gsd.hoomd\n",
    "import signac\n"
   ]
  },
  {
   "cell_type": "code",
   "outputs": [],
   "source": [
    "init_snap = gsd.hoomd.open('restart.gsd')"
   ],
   "metadata": {
    "collapsed": false
   },
   "id": "23af7d8cd4cc0c39"
  },
  {
   "cell_type": "code",
   "outputs": [],
   "source": [
    "# load model from best job\n",
    "project = signac.get_project(\"\")\n",
    "best_job_id = \"\"\n",
    "best_job = project.open_job(id=best_job_id)\n",
    "\n",
    "custom_force = IsoNeighborCustomForce(model_path=best_job.fn(\"best_model_checkpoint.pth\"),\n",
    "                                      in_dim=best_job.sp.in_dim,\n",
    "                                      hidden_dim=best_job.sp.hidden_dim,\n",
    "                                      n_layers=best_job.sp.n_layers,\n",
    "                                      box_len = init_snap.configuration.box[0],\n",
    "                                      act_fn=best_job.sp.act_fn,\n",
    "                                      dropout=best_job.sp.dropout,\n",
    "                                      prior_energy=best_job.sp.prior_energy,\n",
    "                                      prior_energy_sigma=best_job.sp.prior_energy_sigma,\n",
    "                                      prior_energy_n=best_job.sp.prior_energy_n,\n",
    "                                      )\n",
    "\n"
   ],
   "metadata": {
    "collapsed": false
   },
   "id": "b9af93b68126083b"
  },
  {
   "cell_type": "code",
   "outputs": [],
   "source": [
    "sim = Simulation(init_snap, [custom_force], dt=0.0001,\n",
    "                 gsd_write_freq=1000,\n",
    "                 gsd_file_name='logs/N_100/cg_trajectory.gsd',\n",
    "                 log_write_freq=1000,\n",
    "                 log_file_name='logs/N_100/cg_trajectory.txt')"
   ],
   "metadata": {
    "collapsed": false
   },
   "id": "ef8c190038944ba6"
  },
  {
   "cell_type": "code",
   "outputs": [],
   "source": [
    "sim.run_NVT(n_steps=1e5, kT=1.5, tau_kt=0.1, write_at_start=True)"
   ],
   "metadata": {
    "collapsed": false
   },
   "id": "d11f004e69946ddf"
  }
 ],
 "metadata": {
  "kernelspec": {
   "display_name": "Python 3",
   "language": "python",
   "name": "python3"
  },
  "language_info": {
   "codemirror_mode": {
    "name": "ipython",
    "version": 2
   },
   "file_extension": ".py",
   "mimetype": "text/x-python",
   "name": "python",
   "nbconvert_exporter": "python",
   "pygments_lexer": "ipython2",
   "version": "2.7.6"
  }
 },
 "nbformat": 4,
 "nbformat_minor": 5
}
