{
 "cells": [
  {
   "cell_type": "code",
   "execution_count": 1,
   "id": "8d700166-c790-4b21-b3b2-3827045e3b85",
   "metadata": {},
   "outputs": [],
   "source": [
    "from aniso_MLMD.trainer import load_datasets\n",
    "import pandas as pd\n",
    "import os\n",
    "import torch\n",
    "import numpy as np"
   ]
  },
  {
   "cell_type": "code",
   "execution_count": 2,
   "id": "7055c055-805f-492a-aace-460869a14075",
   "metadata": {},
   "outputs": [],
   "source": [
    "data_path =\"/home/marjan/Documents/code-base/ml_datasets/pps_20_new/\""
   ]
  },
  {
   "cell_type": "code",
   "execution_count": 3,
   "id": "dfc9461e-5b9c-4092-a98f-f80af6813f16",
   "metadata": {},
   "outputs": [],
   "source": [
    "train_df = pd.read_pickle(os.path.join(data_path, 'train.pkl'))"
   ]
  },
  {
   "cell_type": "code",
   "execution_count": 3,
   "id": "1b0ae3d2-afa0-4e93-a1e6-b84ff57411fa",
   "metadata": {},
   "outputs": [],
   "source": [
    "train_dataloader, valid_dataloader, test_dataloader = load_datasets(data_path, 5)"
   ]
  },
  {
   "cell_type": "code",
   "execution_count": 6,
   "id": "bbf74139-571e-45c4-9830-f951f3af5c0c",
   "metadata": {},
   "outputs": [],
   "source": [
    "for i, ((position, q, orientation_R, neighbor_list), target_force, target_torque,\n",
    "                energy) in enumerate(\n",
    "                train_dataloader):\n",
    "    break"
   ]
  },
  {
   "cell_type": "code",
   "execution_count": 7,
   "id": "45680473-76e6-47e9-9bc3-289c84cc86d7",
   "metadata": {},
   "outputs": [],
   "source": [
    "batch_size = position.shape[0]\n",
    "N_particles = position.shape[1]\n",
    "\n",
    "neighbor_list = neighbor_list.reshape(batch_size, N_particles, -1,\n",
    "                                      neighbor_list.shape[-1])[:, :, :, 1] # (B, N, N_neighbors)"
   ]
  },
  {
   "cell_type": "code",
   "execution_count": 35,
   "id": "381530a5-2c8d-43f6-a016-a39b34449b67",
   "metadata": {},
   "outputs": [],
   "source": [
    "N_neighbors = neighbor_list.shape[-1]\n",
    "\n",
    "NN_extended = neighbor_list.unsqueeze(-1).expand((batch_size, N_particles, N_neighbors, 3))"
   ]
  },
  {
   "cell_type": "code",
   "execution_count": 47,
   "id": "e448e897-aa69-4e88-b288-bcd8d58ed50a",
   "metadata": {},
   "outputs": [],
   "source": [
    "NN_poistions = torch.gather(x[:, :, None, :].expand((-1, -1, N_neighbors, -1)), 1, NN_extended)"
   ]
  },
  {
   "cell_type": "code",
   "execution_count": 48,
   "id": "7f5a8577-1154-4c31-a742-e61ab04af723",
   "metadata": {},
   "outputs": [
    {
     "data": {
      "text/plain": [
       "tensor([ 2,  3,  4,  7,  8,  9, 12, 13, 14, 19])"
      ]
     },
     "execution_count": 48,
     "metadata": {},
     "output_type": "execute_result"
    }
   ],
   "source": [
    "neighbor_list[0, 0]"
   ]
  },
  {
   "cell_type": "code",
   "execution_count": 50,
   "id": "c51c340d-e06c-4f3f-ad9d-12aca3678762",
   "metadata": {},
   "outputs": [
    {
     "data": {
      "text/plain": [
       "tensor([ 0.5594, -4.8215,  6.6095])"
      ]
     },
     "execution_count": 50,
     "metadata": {},
     "output_type": "execute_result"
    }
   ],
   "source": [
    "position[0][2]"
   ]
  },
  {
   "cell_type": "code",
   "execution_count": 43,
   "id": "9988cc57-3e3b-44da-9f9b-3a301be9a0dc",
   "metadata": {},
   "outputs": [
    {
     "data": {
      "text/plain": [
       "tensor([[-7.2435,  2.3273,  5.7778],\n",
       "        [-2.8743, -2.5427,  7.4393],\n",
       "        [-0.7604, -6.3282, -4.7953],\n",
       "        [-5.6185, -2.6832,  7.3069],\n",
       "        [-1.7478, -7.4556,  4.2400],\n",
       "        [-7.8379, -4.9343, -0.1946],\n",
       "        [-5.8722, -6.8171,  3.2381],\n",
       "        [-2.9921, -6.0537,  6.0638],\n",
       "        [-6.2570,  1.3165, -4.0611],\n",
       "        [-6.8157,  4.2841, -4.7450]])"
      ]
     },
     "execution_count": 43,
     "metadata": {},
     "output_type": "execute_result"
    }
   ],
   "source": [
    "Nn_poistions[0, 0]"
   ]
  },
  {
   "cell_type": "code",
   "execution_count": null,
   "id": "84360657-36ed-48ac-90f8-6f0cab714655",
   "metadata": {},
   "outputs": [],
   "source": []
  }
 ],
 "metadata": {
  "kernelspec": {
   "display_name": "Python 3 (ipykernel)",
   "language": "python",
   "name": "python3"
  },
  "language_info": {
   "codemirror_mode": {
    "name": "ipython",
    "version": 3
   },
   "file_extension": ".py",
   "mimetype": "text/x-python",
   "name": "python",
   "nbconvert_exporter": "python",
   "pygments_lexer": "ipython3",
   "version": "3.10.13"
  }
 },
 "nbformat": 4,
 "nbformat_minor": 5
}
